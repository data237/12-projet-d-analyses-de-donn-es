{
 "cells": [
  {
   "cell_type": "markdown",
   "id": "9720e8b1-1a1e-454a-9bd6-a65bde9ade1a",
   "metadata": {},
   "source": [
    "# Projet 3 : Identifier les facteurs qui influencent les performances commerciales (Python ou R)"
   ]
  },
  {
   "cell_type": "markdown",
   "id": "775cfb7b-68e1-4f3f-b0c0-4b67cdc023b7",
   "metadata": {},
   "source": [
    "##  Problématique métier\n",
    " Une entreprise souhaite comprendre les interactions entre ses\r\n",
    " produits, ses performances régionales et ses marges pour optimiser sa\r\n",
    " stratégie commerciale."
   ]
  },
  {
   "cell_type": "markdown",
   "id": "da0cee39-77e3-4ee7-96c5-354a03a15de1",
   "metadata": {},
   "source": [
    "## Objectif\n",
    "Analyser les relations quali-quali, quali-quanti et quanti-quanti pour\r",
    " détecter des facteurs clés."
   ]
  },
  {
   "cell_type": "markdown",
   "id": "8cb2474b-465d-4991-b9c9-fdc3ed9732c3",
   "metadata": {},
   "source": [
    "## Chargement des bibliothèques"
   ]
  },
  {
   "cell_type": "code",
   "execution_count": 160,
   "id": "7937c49e-6a16-4611-8d07-c5f8b4777ff3",
   "metadata": {},
   "outputs": [],
   "source": [
    "import pandas as pd\n",
    "import matplotlib.pyplot as plt\n",
    "import numpy as np\n",
    "import seaborn as sns\n",
    "%matplotlib inline"
   ]
  },
  {
   "cell_type": "markdown",
   "id": "65cd735d-1872-4bd7-bba5-cd95a849568f",
   "metadata": {},
   "source": [
    "## Chargement des données "
   ]
  },
  {
   "cell_type": "code",
   "execution_count": 54,
   "id": "47267017-e6f0-4c5f-9bdd-db27ce7fe885",
   "metadata": {},
   "outputs": [],
   "source": [
    "df_sales = pd.read_csv(r\"C:\\Users\\mabou\\Documents\\12_projet_analyse_de_donnees\\projet_3\\Sample_Superstore.csv\",index_col = 'Row ID', encoding='cp1252')"
   ]
  },
  {
   "cell_type": "code",
   "execution_count": 56,
   "id": "0a1d2746-b21b-464c-9b53-2d7e3d626a4f",
   "metadata": {},
   "outputs": [
    {
     "data": {
      "text/html": [
       "<div>\n",
       "<style scoped>\n",
       "    .dataframe tbody tr th:only-of-type {\n",
       "        vertical-align: middle;\n",
       "    }\n",
       "\n",
       "    .dataframe tbody tr th {\n",
       "        vertical-align: top;\n",
       "    }\n",
       "\n",
       "    .dataframe thead th {\n",
       "        text-align: right;\n",
       "    }\n",
       "</style>\n",
       "<table border=\"1\" class=\"dataframe\">\n",
       "  <thead>\n",
       "    <tr style=\"text-align: right;\">\n",
       "      <th></th>\n",
       "      <th>Order ID</th>\n",
       "      <th>Order Date</th>\n",
       "      <th>Ship Date</th>\n",
       "      <th>Ship Mode</th>\n",
       "      <th>Customer ID</th>\n",
       "      <th>Customer Name</th>\n",
       "      <th>Segment</th>\n",
       "      <th>Country</th>\n",
       "      <th>City</th>\n",
       "      <th>State</th>\n",
       "      <th>Postal Code</th>\n",
       "      <th>Region</th>\n",
       "      <th>Product ID</th>\n",
       "      <th>Category</th>\n",
       "      <th>Sub-Category</th>\n",
       "      <th>Product Name</th>\n",
       "      <th>Sales</th>\n",
       "      <th>Quantity</th>\n",
       "      <th>Discount</th>\n",
       "      <th>Profit</th>\n",
       "    </tr>\n",
       "    <tr>\n",
       "      <th>Row ID</th>\n",
       "      <th></th>\n",
       "      <th></th>\n",
       "      <th></th>\n",
       "      <th></th>\n",
       "      <th></th>\n",
       "      <th></th>\n",
       "      <th></th>\n",
       "      <th></th>\n",
       "      <th></th>\n",
       "      <th></th>\n",
       "      <th></th>\n",
       "      <th></th>\n",
       "      <th></th>\n",
       "      <th></th>\n",
       "      <th></th>\n",
       "      <th></th>\n",
       "      <th></th>\n",
       "      <th></th>\n",
       "      <th></th>\n",
       "      <th></th>\n",
       "    </tr>\n",
       "  </thead>\n",
       "  <tbody>\n",
       "    <tr>\n",
       "      <th>1</th>\n",
       "      <td>CA-2016-152156</td>\n",
       "      <td>11/8/2016</td>\n",
       "      <td>11/11/2016</td>\n",
       "      <td>Second Class</td>\n",
       "      <td>CG-12520</td>\n",
       "      <td>Claire Gute</td>\n",
       "      <td>Consumer</td>\n",
       "      <td>United States</td>\n",
       "      <td>Henderson</td>\n",
       "      <td>Kentucky</td>\n",
       "      <td>42420</td>\n",
       "      <td>South</td>\n",
       "      <td>FUR-BO-10001798</td>\n",
       "      <td>Furniture</td>\n",
       "      <td>Bookcases</td>\n",
       "      <td>Bush Somerset Collection Bookcase</td>\n",
       "      <td>261.9600</td>\n",
       "      <td>2</td>\n",
       "      <td>0.00</td>\n",
       "      <td>41.9136</td>\n",
       "    </tr>\n",
       "    <tr>\n",
       "      <th>2</th>\n",
       "      <td>CA-2016-152156</td>\n",
       "      <td>11/8/2016</td>\n",
       "      <td>11/11/2016</td>\n",
       "      <td>Second Class</td>\n",
       "      <td>CG-12520</td>\n",
       "      <td>Claire Gute</td>\n",
       "      <td>Consumer</td>\n",
       "      <td>United States</td>\n",
       "      <td>Henderson</td>\n",
       "      <td>Kentucky</td>\n",
       "      <td>42420</td>\n",
       "      <td>South</td>\n",
       "      <td>FUR-CH-10000454</td>\n",
       "      <td>Furniture</td>\n",
       "      <td>Chairs</td>\n",
       "      <td>Hon Deluxe Fabric Upholstered Stacking Chairs,...</td>\n",
       "      <td>731.9400</td>\n",
       "      <td>3</td>\n",
       "      <td>0.00</td>\n",
       "      <td>219.5820</td>\n",
       "    </tr>\n",
       "    <tr>\n",
       "      <th>3</th>\n",
       "      <td>CA-2016-138688</td>\n",
       "      <td>6/12/2016</td>\n",
       "      <td>6/16/2016</td>\n",
       "      <td>Second Class</td>\n",
       "      <td>DV-13045</td>\n",
       "      <td>Darrin Van Huff</td>\n",
       "      <td>Corporate</td>\n",
       "      <td>United States</td>\n",
       "      <td>Los Angeles</td>\n",
       "      <td>California</td>\n",
       "      <td>90036</td>\n",
       "      <td>West</td>\n",
       "      <td>OFF-LA-10000240</td>\n",
       "      <td>Office Supplies</td>\n",
       "      <td>Labels</td>\n",
       "      <td>Self-Adhesive Address Labels for Typewriters b...</td>\n",
       "      <td>14.6200</td>\n",
       "      <td>2</td>\n",
       "      <td>0.00</td>\n",
       "      <td>6.8714</td>\n",
       "    </tr>\n",
       "    <tr>\n",
       "      <th>4</th>\n",
       "      <td>US-2015-108966</td>\n",
       "      <td>10/11/2015</td>\n",
       "      <td>10/18/2015</td>\n",
       "      <td>Standard Class</td>\n",
       "      <td>SO-20335</td>\n",
       "      <td>Sean O'Donnell</td>\n",
       "      <td>Consumer</td>\n",
       "      <td>United States</td>\n",
       "      <td>Fort Lauderdale</td>\n",
       "      <td>Florida</td>\n",
       "      <td>33311</td>\n",
       "      <td>South</td>\n",
       "      <td>FUR-TA-10000577</td>\n",
       "      <td>Furniture</td>\n",
       "      <td>Tables</td>\n",
       "      <td>Bretford CR4500 Series Slim Rectangular Table</td>\n",
       "      <td>957.5775</td>\n",
       "      <td>5</td>\n",
       "      <td>0.45</td>\n",
       "      <td>-383.0310</td>\n",
       "    </tr>\n",
       "    <tr>\n",
       "      <th>5</th>\n",
       "      <td>US-2015-108966</td>\n",
       "      <td>10/11/2015</td>\n",
       "      <td>10/18/2015</td>\n",
       "      <td>Standard Class</td>\n",
       "      <td>SO-20335</td>\n",
       "      <td>Sean O'Donnell</td>\n",
       "      <td>Consumer</td>\n",
       "      <td>United States</td>\n",
       "      <td>Fort Lauderdale</td>\n",
       "      <td>Florida</td>\n",
       "      <td>33311</td>\n",
       "      <td>South</td>\n",
       "      <td>OFF-ST-10000760</td>\n",
       "      <td>Office Supplies</td>\n",
       "      <td>Storage</td>\n",
       "      <td>Eldon Fold 'N Roll Cart System</td>\n",
       "      <td>22.3680</td>\n",
       "      <td>2</td>\n",
       "      <td>0.20</td>\n",
       "      <td>2.5164</td>\n",
       "    </tr>\n",
       "  </tbody>\n",
       "</table>\n",
       "</div>"
      ],
      "text/plain": [
       "              Order ID  Order Date   Ship Date       Ship Mode Customer ID  \\\n",
       "Row ID                                                                       \n",
       "1       CA-2016-152156   11/8/2016  11/11/2016    Second Class    CG-12520   \n",
       "2       CA-2016-152156   11/8/2016  11/11/2016    Second Class    CG-12520   \n",
       "3       CA-2016-138688   6/12/2016   6/16/2016    Second Class    DV-13045   \n",
       "4       US-2015-108966  10/11/2015  10/18/2015  Standard Class    SO-20335   \n",
       "5       US-2015-108966  10/11/2015  10/18/2015  Standard Class    SO-20335   \n",
       "\n",
       "          Customer Name    Segment        Country             City  \\\n",
       "Row ID                                                               \n",
       "1           Claire Gute   Consumer  United States        Henderson   \n",
       "2           Claire Gute   Consumer  United States        Henderson   \n",
       "3       Darrin Van Huff  Corporate  United States      Los Angeles   \n",
       "4        Sean O'Donnell   Consumer  United States  Fort Lauderdale   \n",
       "5        Sean O'Donnell   Consumer  United States  Fort Lauderdale   \n",
       "\n",
       "             State  Postal Code Region       Product ID         Category  \\\n",
       "Row ID                                                                     \n",
       "1         Kentucky        42420  South  FUR-BO-10001798        Furniture   \n",
       "2         Kentucky        42420  South  FUR-CH-10000454        Furniture   \n",
       "3       California        90036   West  OFF-LA-10000240  Office Supplies   \n",
       "4          Florida        33311  South  FUR-TA-10000577        Furniture   \n",
       "5          Florida        33311  South  OFF-ST-10000760  Office Supplies   \n",
       "\n",
       "       Sub-Category                                       Product Name  \\\n",
       "Row ID                                                                   \n",
       "1         Bookcases                  Bush Somerset Collection Bookcase   \n",
       "2            Chairs  Hon Deluxe Fabric Upholstered Stacking Chairs,...   \n",
       "3            Labels  Self-Adhesive Address Labels for Typewriters b...   \n",
       "4            Tables      Bretford CR4500 Series Slim Rectangular Table   \n",
       "5           Storage                     Eldon Fold 'N Roll Cart System   \n",
       "\n",
       "           Sales  Quantity  Discount    Profit  \n",
       "Row ID                                          \n",
       "1       261.9600         2      0.00   41.9136  \n",
       "2       731.9400         3      0.00  219.5820  \n",
       "3        14.6200         2      0.00    6.8714  \n",
       "4       957.5775         5      0.45 -383.0310  \n",
       "5        22.3680         2      0.20    2.5164  "
      ]
     },
     "execution_count": 56,
     "metadata": {},
     "output_type": "execute_result"
    }
   ],
   "source": [
    "df_sales.head()"
   ]
  },
  {
   "cell_type": "markdown",
   "id": "b766e12b-a750-4fbc-9a9c-6b298960e381",
   "metadata": {},
   "source": [
    "## Nétoyage des données"
   ]
  },
  {
   "cell_type": "markdown",
   "id": "fdbb3268-eab3-4cdf-b9b2-32f2de0dac2e",
   "metadata": {},
   "source": [
    "Valeurs manquantes"
   ]
  },
  {
   "cell_type": "code",
   "execution_count": 77,
   "id": "2f72b774-1795-440b-a829-c313221a2fbe",
   "metadata": {},
   "outputs": [
    {
     "data": {
      "text/plain": [
       "Index(['Order ID', 'Order Date', 'Ship Date', 'Ship Mode', 'Customer ID',\n",
       "       'Customer Name', 'Segment', 'Country', 'City', 'State', 'Postal Code',\n",
       "       'Region', 'Product ID', 'Category', 'Sub-Category', 'Product Name',\n",
       "       'Sales', 'Quantity', 'Discount', 'Profit'],\n",
       "      dtype='object')"
      ]
     },
     "execution_count": 77,
     "metadata": {},
     "output_type": "execute_result"
    }
   ],
   "source": [
    "df_sales.columns"
   ]
  },
  {
   "cell_type": "code",
   "execution_count": 59,
   "id": "c95cfb39-a6b5-4d7b-89e5-7f1bc9fc63a9",
   "metadata": {},
   "outputs": [
    {
     "data": {
      "text/plain": [
       "Order ID         0\n",
       "Order Date       0\n",
       "Ship Date        0\n",
       "Ship Mode        0\n",
       "Customer ID      0\n",
       "Customer Name    0\n",
       "Segment          0\n",
       "Country          0\n",
       "City             0\n",
       "State            0\n",
       "Postal Code      0\n",
       "Region           0\n",
       "Product ID       0\n",
       "Category         0\n",
       "Sub-Category     0\n",
       "Product Name     0\n",
       "Sales            0\n",
       "Quantity         0\n",
       "Discount         0\n",
       "Profit           0\n",
       "dtype: int64"
      ]
     },
     "execution_count": 59,
     "metadata": {},
     "output_type": "execute_result"
    }
   ],
   "source": [
    "df_sales.isnull().sum()"
   ]
  },
  {
   "cell_type": "markdown",
   "id": "2b0a8171-eb4a-43e7-871f-c1986418cb9e",
   "metadata": {},
   "source": [
    "Il n'y a pas de données manquantes dans notre jeux de données "
   ]
  },
  {
   "cell_type": "markdown",
   "id": "aba08438-0c82-4fd7-990a-f6108ceb04d7",
   "metadata": {},
   "source": [
    "Lignes douplons"
   ]
  },
  {
   "cell_type": "code",
   "execution_count": 63,
   "id": "5cc859a4-7a74-4c9a-ae7b-edc2419f5693",
   "metadata": {},
   "outputs": [
    {
     "data": {
      "text/plain": [
       "1"
      ]
     },
     "execution_count": 63,
     "metadata": {},
     "output_type": "execute_result"
    }
   ],
   "source": [
    "df_sales.duplicated().sum()"
   ]
  },
  {
   "cell_type": "code",
   "execution_count": 67,
   "id": "b71d396a-56f2-4de4-9ad9-66f4b6be8770",
   "metadata": {},
   "outputs": [
    {
     "data": {
      "text/html": [
       "<div>\n",
       "<style scoped>\n",
       "    .dataframe tbody tr th:only-of-type {\n",
       "        vertical-align: middle;\n",
       "    }\n",
       "\n",
       "    .dataframe tbody tr th {\n",
       "        vertical-align: top;\n",
       "    }\n",
       "\n",
       "    .dataframe thead th {\n",
       "        text-align: right;\n",
       "    }\n",
       "</style>\n",
       "<table border=\"1\" class=\"dataframe\">\n",
       "  <thead>\n",
       "    <tr style=\"text-align: right;\">\n",
       "      <th></th>\n",
       "      <th>Order ID</th>\n",
       "      <th>Order Date</th>\n",
       "      <th>Ship Date</th>\n",
       "      <th>Ship Mode</th>\n",
       "      <th>Customer ID</th>\n",
       "      <th>Customer Name</th>\n",
       "      <th>Segment</th>\n",
       "      <th>Country</th>\n",
       "      <th>City</th>\n",
       "      <th>State</th>\n",
       "      <th>Postal Code</th>\n",
       "      <th>Region</th>\n",
       "      <th>Product ID</th>\n",
       "      <th>Category</th>\n",
       "      <th>Sub-Category</th>\n",
       "      <th>Product Name</th>\n",
       "      <th>Sales</th>\n",
       "      <th>Quantity</th>\n",
       "      <th>Discount</th>\n",
       "      <th>Profit</th>\n",
       "    </tr>\n",
       "    <tr>\n",
       "      <th>Row ID</th>\n",
       "      <th></th>\n",
       "      <th></th>\n",
       "      <th></th>\n",
       "      <th></th>\n",
       "      <th></th>\n",
       "      <th></th>\n",
       "      <th></th>\n",
       "      <th></th>\n",
       "      <th></th>\n",
       "      <th></th>\n",
       "      <th></th>\n",
       "      <th></th>\n",
       "      <th></th>\n",
       "      <th></th>\n",
       "      <th></th>\n",
       "      <th></th>\n",
       "      <th></th>\n",
       "      <th></th>\n",
       "      <th></th>\n",
       "      <th></th>\n",
       "    </tr>\n",
       "  </thead>\n",
       "  <tbody>\n",
       "    <tr>\n",
       "      <th>3407</th>\n",
       "      <td>US-2014-150119</td>\n",
       "      <td>4/23/2014</td>\n",
       "      <td>4/27/2014</td>\n",
       "      <td>Standard Class</td>\n",
       "      <td>LB-16795</td>\n",
       "      <td>Laurel Beltran</td>\n",
       "      <td>Home Office</td>\n",
       "      <td>United States</td>\n",
       "      <td>Columbus</td>\n",
       "      <td>Ohio</td>\n",
       "      <td>43229</td>\n",
       "      <td>East</td>\n",
       "      <td>FUR-CH-10002965</td>\n",
       "      <td>Furniture</td>\n",
       "      <td>Chairs</td>\n",
       "      <td>Global Leather Highback Executive Chair with P...</td>\n",
       "      <td>281.372</td>\n",
       "      <td>2</td>\n",
       "      <td>0.3</td>\n",
       "      <td>-12.0588</td>\n",
       "    </tr>\n",
       "  </tbody>\n",
       "</table>\n",
       "</div>"
      ],
      "text/plain": [
       "              Order ID Order Date  Ship Date       Ship Mode Customer ID  \\\n",
       "Row ID                                                                     \n",
       "3407    US-2014-150119  4/23/2014  4/27/2014  Standard Class    LB-16795   \n",
       "\n",
       "         Customer Name      Segment        Country      City State  \\\n",
       "Row ID                                                               \n",
       "3407    Laurel Beltran  Home Office  United States  Columbus  Ohio   \n",
       "\n",
       "        Postal Code Region       Product ID   Category Sub-Category  \\\n",
       "Row ID                                                                \n",
       "3407          43229   East  FUR-CH-10002965  Furniture       Chairs   \n",
       "\n",
       "                                             Product Name    Sales  Quantity  \\\n",
       "Row ID                                                                         \n",
       "3407    Global Leather Highback Executive Chair with P...  281.372         2   \n",
       "\n",
       "        Discount   Profit  \n",
       "Row ID                     \n",
       "3407         0.3 -12.0588  "
      ]
     },
     "execution_count": 67,
     "metadata": {},
     "output_type": "execute_result"
    }
   ],
   "source": [
    "df_sales.loc[df_sales.duplicated()]"
   ]
  },
  {
   "cell_type": "code",
   "execution_count": 69,
   "id": "a4e21c4f-90f5-40bc-bef3-39b7539bd1d9",
   "metadata": {},
   "outputs": [],
   "source": [
    "# suppression des doublons\n",
    "df_sales = df_sales.drop_duplicates()"
   ]
  },
  {
   "cell_type": "markdown",
   "id": "99fabdc2-5c50-4cb7-b017-67901032d835",
   "metadata": {},
   "source": [
    "information sur les données"
   ]
  },
  {
   "cell_type": "code",
   "execution_count": 72,
   "id": "e29eab39-5577-423f-a128-57dc05550a11",
   "metadata": {},
   "outputs": [
    {
     "name": "stdout",
     "output_type": "stream",
     "text": [
      "<class 'pandas.core.frame.DataFrame'>\n",
      "Index: 9993 entries, 1 to 9994\n",
      "Data columns (total 20 columns):\n",
      " #   Column         Non-Null Count  Dtype  \n",
      "---  ------         --------------  -----  \n",
      " 0   Order ID       9993 non-null   object \n",
      " 1   Order Date     9993 non-null   object \n",
      " 2   Ship Date      9993 non-null   object \n",
      " 3   Ship Mode      9993 non-null   object \n",
      " 4   Customer ID    9993 non-null   object \n",
      " 5   Customer Name  9993 non-null   object \n",
      " 6   Segment        9993 non-null   object \n",
      " 7   Country        9993 non-null   object \n",
      " 8   City           9993 non-null   object \n",
      " 9   State          9993 non-null   object \n",
      " 10  Postal Code    9993 non-null   int64  \n",
      " 11  Region         9993 non-null   object \n",
      " 12  Product ID     9993 non-null   object \n",
      " 13  Category       9993 non-null   object \n",
      " 14  Sub-Category   9993 non-null   object \n",
      " 15  Product Name   9993 non-null   object \n",
      " 16  Sales          9993 non-null   float64\n",
      " 17  Quantity       9993 non-null   int64  \n",
      " 18  Discount       9993 non-null   float64\n",
      " 19  Profit         9993 non-null   float64\n",
      "dtypes: float64(3), int64(2), object(15)\n",
      "memory usage: 1.6+ MB\n"
     ]
    }
   ],
   "source": [
    "df_sales.info()"
   ]
  },
  {
   "cell_type": "markdown",
   "id": "35601c63-1f26-4ad9-a2a8-0b6cdd5dabe8",
   "metadata": {},
   "source": [
    "## Analyse des ventes et profits par Région"
   ]
  },
  {
   "cell_type": "code",
   "execution_count": 79,
   "id": "d7f40cab-ac3e-4649-802f-ea29e0727353",
   "metadata": {},
   "outputs": [],
   "source": [
    "df_region = df_sales[['Region', 'Sales', 'Profit']]"
   ]
  },
  {
   "cell_type": "code",
   "execution_count": 87,
   "id": "dc4e69e2-b46e-4666-808d-d0e99be1eaf9",
   "metadata": {},
   "outputs": [
    {
     "data": {
      "text/html": [
       "<div>\n",
       "<style scoped>\n",
       "    .dataframe tbody tr th:only-of-type {\n",
       "        vertical-align: middle;\n",
       "    }\n",
       "\n",
       "    .dataframe tbody tr th {\n",
       "        vertical-align: top;\n",
       "    }\n",
       "\n",
       "    .dataframe thead th {\n",
       "        text-align: right;\n",
       "    }\n",
       "</style>\n",
       "<table border=\"1\" class=\"dataframe\">\n",
       "  <thead>\n",
       "    <tr style=\"text-align: right;\">\n",
       "      <th></th>\n",
       "      <th>Region</th>\n",
       "      <th>Sales</th>\n",
       "      <th>Profit</th>\n",
       "    </tr>\n",
       "  </thead>\n",
       "  <tbody>\n",
       "    <tr>\n",
       "      <th>0</th>\n",
       "      <td>Central</td>\n",
       "      <td>501239.8908</td>\n",
       "      <td>39706.3625</td>\n",
       "    </tr>\n",
       "    <tr>\n",
       "      <th>1</th>\n",
       "      <td>East</td>\n",
       "      <td>678499.8680</td>\n",
       "      <td>91534.8388</td>\n",
       "    </tr>\n",
       "    <tr>\n",
       "      <th>2</th>\n",
       "      <td>South</td>\n",
       "      <td>391721.9050</td>\n",
       "      <td>46749.4303</td>\n",
       "    </tr>\n",
       "    <tr>\n",
       "      <th>3</th>\n",
       "      <td>West</td>\n",
       "      <td>725457.8245</td>\n",
       "      <td>108418.4489</td>\n",
       "    </tr>\n",
       "  </tbody>\n",
       "</table>\n",
       "</div>"
      ],
      "text/plain": [
       "    Region        Sales       Profit\n",
       "0  Central  501239.8908   39706.3625\n",
       "1     East  678499.8680   91534.8388\n",
       "2    South  391721.9050   46749.4303\n",
       "3     West  725457.8245  108418.4489"
      ]
     },
     "execution_count": 87,
     "metadata": {},
     "output_type": "execute_result"
    }
   ],
   "source": [
    "df_vente_par_region = df_region.groupby(['Region']).sum().reset_index()\n",
    "df_vente_par_region"
   ]
  },
  {
   "cell_type": "code",
   "execution_count": 89,
   "id": "4e77631f-69fe-4855-a3f3-af6b9ddd952a",
   "metadata": {},
   "outputs": [],
   "source": [
    "x = df_vente_par_region ['Region']\n",
    "y = df_vente_par_region ['Sales']"
   ]
  },
  {
   "cell_type": "code",
   "execution_count": 95,
   "id": "37adc6b4-319f-42a7-98f6-e590d5c2df83",
   "metadata": {},
   "outputs": [
    {
     "data": {
      "image/png": "[encoded data removed]",
      "text/plain": [
       "<Figure size 640x480 with 1 Axes>"
      ]
     },
     "metadata": {},
     "output_type": "display_data"
    }
   ],
   "source": [
    "plt.pie(y,labels =x,autopct='%0.2f%%',startangle=-30)\n",
    "plt.legend(loc=4)\n",
    "plt.title('Vente par region')\n",
    "plt.show()"
   ]
  },
  {
   "cell_type": "markdown",
   "id": "90255ffb-5c25-4cf9-92e2-5a6028c4dbaf",
   "metadata": {},
   "source": [
    "Les régions de l'Est et de L'Ouest sont les régions où les produits sont le plus vendus."
   ]
  },
  {
   "cell_type": "code",
   "execution_count": 99,
   "id": "499cd92d-0acc-420b-9d82-4d7437974f0c",
   "metadata": {},
   "outputs": [],
   "source": [
    "x = df_vente_par_region ['Region']\n",
    "y = df_vente_par_region ['Profit']"
   ]
  },
  {
   "cell_type": "code",
   "execution_count": 101,
   "id": "7b54ff20-ad76-4c6f-ac05-62e39a35b9dc",
   "metadata": {},
   "outputs": [
    {
     "data": {
      "image/png": "[encoded data removed]",
      "text/plain": [
       "<Figure size 640x480 with 1 Axes>"
      ]
     },
     "metadata": {},
     "output_type": "display_data"
    }
   ],
   "source": [
    "plt.pie(y,labels =x,autopct='%0.2f%%',startangle=-30)\n",
    "plt.legend(loc=4)\n",
    "plt.title('Profit par region')\n",
    "plt.show()"
   ]
  },
  {
   "cell_type": "markdown",
   "id": "6d1b4b87-b5db-4e4b-868e-68341a78c0c3",
   "metadata": {},
   "source": [
    "comme attendus les profits sont plus réalisés dans les régions de l'Est et de l'Ouest \n",
    "le Sud et le Centre sont à la traîne par rapport au deux autres régions."
   ]
  },
  {
   "cell_type": "markdown",
   "id": "5ca311b6-3ff0-4690-b2bb-b46f94b1e0c4",
   "metadata": {},
   "source": [
    "## Analyse des ventes et profits par Etats"
   ]
  },
  {
   "cell_type": "code",
   "execution_count": 105,
   "id": "07c1e180-15d9-4e10-a95c-76f25c312a8d",
   "metadata": {},
   "outputs": [],
   "source": [
    "df_etat = df_sales[['State', 'Sales', 'Profit']]"
   ]
  },
  {
   "cell_type": "code",
   "execution_count": 140,
   "id": "9089a514-43c9-4cf4-a596-94b7f8d51f19",
   "metadata": {},
   "outputs": [
    {
     "data": {
      "text/html": [
       "<div>\n",
       "<style scoped>\n",
       "    .dataframe tbody tr th:only-of-type {\n",
       "        vertical-align: middle;\n",
       "    }\n",
       "\n",
       "    .dataframe tbody tr th {\n",
       "        vertical-align: top;\n",
       "    }\n",
       "\n",
       "    .dataframe thead th {\n",
       "        text-align: right;\n",
       "    }\n",
       "</style>\n",
       "<table border=\"1\" class=\"dataframe\">\n",
       "  <thead>\n",
       "    <tr style=\"text-align: right;\">\n",
       "      <th></th>\n",
       "      <th>State</th>\n",
       "      <th>Sales</th>\n",
       "      <th>Profit</th>\n",
       "    </tr>\n",
       "  </thead>\n",
       "  <tbody>\n",
       "    <tr>\n",
       "      <th>0</th>\n",
       "      <td>Alabama</td>\n",
       "      <td>19510.6400</td>\n",
       "      <td>5786.8253</td>\n",
       "    </tr>\n",
       "    <tr>\n",
       "      <th>1</th>\n",
       "      <td>Arizona</td>\n",
       "      <td>35282.0010</td>\n",
       "      <td>-3427.9246</td>\n",
       "    </tr>\n",
       "    <tr>\n",
       "      <th>2</th>\n",
       "      <td>Arkansas</td>\n",
       "      <td>11678.1300</td>\n",
       "      <td>4008.6871</td>\n",
       "    </tr>\n",
       "    <tr>\n",
       "      <th>3</th>\n",
       "      <td>California</td>\n",
       "      <td>457687.6315</td>\n",
       "      <td>76381.3871</td>\n",
       "    </tr>\n",
       "    <tr>\n",
       "      <th>4</th>\n",
       "      <td>Colorado</td>\n",
       "      <td>32108.1180</td>\n",
       "      <td>-6527.8579</td>\n",
       "    </tr>\n",
       "  </tbody>\n",
       "</table>\n",
       "</div>"
      ],
      "text/plain": [
       "        State        Sales      Profit\n",
       "0     Alabama   19510.6400   5786.8253\n",
       "1     Arizona   35282.0010  -3427.9246\n",
       "2    Arkansas   11678.1300   4008.6871\n",
       "3  California  457687.6315  76381.3871\n",
       "4    Colorado   32108.1180  -6527.8579"
      ]
     },
     "execution_count": 140,
     "metadata": {},
     "output_type": "execute_result"
    }
   ],
   "source": [
    "df_par_etat = df_etat.groupby(['State']).sum().reset_index()\n",
    "df_par_etat.head(5)"
   ]
  },
  {
   "cell_type": "code",
   "execution_count": 142,
   "id": "20e28e46-ceaf-4452-91ba-e51ba5f2718e",
   "metadata": {},
   "outputs": [
    {
     "data": {
      "text/html": [
       "<div>\n",
       "<style scoped>\n",
       "    .dataframe tbody tr th:only-of-type {\n",
       "        vertical-align: middle;\n",
       "    }\n",
       "\n",
       "    .dataframe tbody tr th {\n",
       "        vertical-align: top;\n",
       "    }\n",
       "\n",
       "    .dataframe thead th {\n",
       "        text-align: right;\n",
       "    }\n",
       "</style>\n",
       "<table border=\"1\" class=\"dataframe\">\n",
       "  <thead>\n",
       "    <tr style=\"text-align: right;\">\n",
       "      <th></th>\n",
       "      <th>State</th>\n",
       "      <th>Sales</th>\n",
       "      <th>Profit</th>\n",
       "    </tr>\n",
       "  </thead>\n",
       "  <tbody>\n",
       "    <tr>\n",
       "      <th>3</th>\n",
       "      <td>California</td>\n",
       "      <td>457687.6315</td>\n",
       "      <td>76381.3871</td>\n",
       "    </tr>\n",
       "    <tr>\n",
       "      <th>30</th>\n",
       "      <td>New York</td>\n",
       "      <td>310876.2710</td>\n",
       "      <td>74038.5486</td>\n",
       "    </tr>\n",
       "    <tr>\n",
       "      <th>41</th>\n",
       "      <td>Texas</td>\n",
       "      <td>170188.0458</td>\n",
       "      <td>-25729.3563</td>\n",
       "    </tr>\n",
       "    <tr>\n",
       "      <th>45</th>\n",
       "      <td>Washington</td>\n",
       "      <td>138641.2700</td>\n",
       "      <td>33402.6517</td>\n",
       "    </tr>\n",
       "    <tr>\n",
       "      <th>36</th>\n",
       "      <td>Pennsylvania</td>\n",
       "      <td>116511.9140</td>\n",
       "      <td>-15559.9603</td>\n",
       "    </tr>\n",
       "  </tbody>\n",
       "</table>\n",
       "</div>"
      ],
      "text/plain": [
       "           State        Sales      Profit\n",
       "3     California  457687.6315  76381.3871\n",
       "30      New York  310876.2710  74038.5486\n",
       "41         Texas  170188.0458 -25729.3563\n",
       "45    Washington  138641.2700  33402.6517\n",
       "36  Pennsylvania  116511.9140 -15559.9603"
      ]
     },
     "execution_count": 142,
     "metadata": {},
     "output_type": "execute_result"
    }
   ],
   "source": [
    "top_vente_par_etat = df_par_etat.sort_values(by = ['Sales'], ascending = False)\n",
    "top_vente_par_etat.head(5)"
   ]
  },
  {
   "cell_type": "code",
   "execution_count": 144,
   "id": "222e4f82-a689-4334-a0ab-17b8a6bef418",
   "metadata": {},
   "outputs": [
    {
     "data": {
      "image/png": "[encoded data removed]",
      "text/plain": [
       "<Figure size 640x480 with 1 Axes>"
      ]
     },
     "metadata": {},
     "output_type": "display_data"
    }
   ],
   "source": [
    "sns.barplot(x=top_vente_par_etat['Sales'].head(10), y=top_vente_par_etat['State'].head(10))\n",
    "plt.title('Top 10 des états avec les meilleurs ventes')\n",
    "plt.xlabel('Sales')\n",
    "plt.ylabel('State')\n",
    "plt.show()"
   ]
  },
  {
   "cell_type": "markdown",
   "id": "ec99ba8c-648f-45e2-a7c4-ec73e500eaed",
   "metadata": {},
   "source": [
    "Nous remarquons que les etats de Californie et de New York sont largement devant en ventes. "
   ]
  },
  {
   "cell_type": "code",
   "execution_count": 146,
   "id": "236c2d5b-2125-48ef-b276-f91c22aaa8c7",
   "metadata": {},
   "outputs": [
    {
     "data": {
      "image/png": "[encoded data removed]",
      "text/plain": [
       "<Figure size 640x480 with 1 Axes>"
      ]
     },
     "metadata": {},
     "output_type": "display_data"
    }
   ],
   "source": [
    "sns.barplot(x=top_vente_par_etat['Sales'].tail(10), y=top_vente_par_etat['State'].tail(10))\n",
    "plt.title('Top 10 des états avec les moins bonnes ventes')\n",
    "plt.xlabel('Sales')\n",
    "plt.ylabel('State')\n",
    "plt.show()"
   ]
  },
  {
   "cell_type": "code",
   "execution_count": 152,
   "id": "700f9401-f313-4a1d-a083-710f0b31805c",
   "metadata": {},
   "outputs": [
    {
     "data": {
      "text/html": [
       "<div>\n",
       "<style scoped>\n",
       "    .dataframe tbody tr th:only-of-type {\n",
       "        vertical-align: middle;\n",
       "    }\n",
       "\n",
       "    .dataframe tbody tr th {\n",
       "        vertical-align: top;\n",
       "    }\n",
       "\n",
       "    .dataframe thead th {\n",
       "        text-align: right;\n",
       "    }\n",
       "</style>\n",
       "<table border=\"1\" class=\"dataframe\">\n",
       "  <thead>\n",
       "    <tr style=\"text-align: right;\">\n",
       "      <th></th>\n",
       "      <th>State</th>\n",
       "      <th>Sales</th>\n",
       "      <th>Profit</th>\n",
       "    </tr>\n",
       "  </thead>\n",
       "  <tbody>\n",
       "    <tr>\n",
       "      <th>3</th>\n",
       "      <td>California</td>\n",
       "      <td>457687.6315</td>\n",
       "      <td>76381.3871</td>\n",
       "    </tr>\n",
       "    <tr>\n",
       "      <th>30</th>\n",
       "      <td>New York</td>\n",
       "      <td>310876.2710</td>\n",
       "      <td>74038.5486</td>\n",
       "    </tr>\n",
       "    <tr>\n",
       "      <th>45</th>\n",
       "      <td>Washington</td>\n",
       "      <td>138641.2700</td>\n",
       "      <td>33402.6517</td>\n",
       "    </tr>\n",
       "    <tr>\n",
       "      <th>20</th>\n",
       "      <td>Michigan</td>\n",
       "      <td>76269.6140</td>\n",
       "      <td>24463.1876</td>\n",
       "    </tr>\n",
       "    <tr>\n",
       "      <th>44</th>\n",
       "      <td>Virginia</td>\n",
       "      <td>70636.7200</td>\n",
       "      <td>18597.9504</td>\n",
       "    </tr>\n",
       "  </tbody>\n",
       "</table>\n",
       "</div>"
      ],
      "text/plain": [
       "         State        Sales      Profit\n",
       "3   California  457687.6315  76381.3871\n",
       "30    New York  310876.2710  74038.5486\n",
       "45  Washington  138641.2700  33402.6517\n",
       "20    Michigan   76269.6140  24463.1876\n",
       "44    Virginia   70636.7200  18597.9504"
      ]
     },
     "execution_count": 152,
     "metadata": {},
     "output_type": "execute_result"
    }
   ],
   "source": [
    "top_profit_par_etat = df_par_etat.sort_values(by = ['Profit'], ascending = False)\n",
    "top_profit_par_etat.head(5)"
   ]
  },
  {
   "cell_type": "code",
   "execution_count": 154,
   "id": "f7b76810-cac7-4c12-8802-4d5d1a4732a9",
   "metadata": {},
   "outputs": [
    {
     "data": {
      "image/png": "[encoded data removed]",
      "text/plain": [
       "<Figure size 640x480 with 1 Axes>"
      ]
     },
     "metadata": {},
     "output_type": "display_data"
    }
   ],
   "source": [
    "sns.barplot(x=top_profit_par_etat['Profit'].head(10), y=top_profit_par_etat['State'].head(10))\n",
    "plt.title('Top 10 des états avec les meilleurs ventes')\n",
    "plt.xlabel('Sales')\n",
    "plt.ylabel('State')\n",
    "plt.show()"
   ]
  },
  {
   "cell_type": "markdown",
   "id": "d0f8b158-fffe-4c72-9193-7a17b58046ac",
   "metadata": {},
   "source": [
    "Nous remarquons que les etats de Californie et de New York sont largement devant en Profit avec un écart de l'ordre de\n",
    "40.000 $. "
   ]
  },
  {
   "cell_type": "code",
   "execution_count": 157,
   "id": "72822a68-6753-4b7c-b807-8621687fa81c",
   "metadata": {},
   "outputs": [
    {
     "data": {
      "image/png": "[encoded data removed]",
      "text/plain": [
       "<Figure size 640x480 with 1 Axes>"
      ]
     },
     "metadata": {},
     "output_type": "display_data"
    }
   ],
   "source": [
    "sns.barplot(x=top_profit_par_etat['Profit'].tail(10), y=top_profit_par_etat['State'].tail(10))\n",
    "plt.title('Top 10 des états avec les meilleurs ventes')\n",
    "plt.xlabel('Sales')\n",
    "plt.ylabel('State')\n",
    "plt.show()"
   ]
  },
  {
   "cell_type": "markdown",
   "id": "fb0bd806-d7ea-4e79-a880-5afe135d781b",
   "metadata": {},
   "source": [
    "## Analyse des ventes et profits par Sous-Catégories"
   ]
  },
  {
   "cell_type": "code",
   "execution_count": 167,
   "id": "7ce5e36d-d0f4-49c3-9097-3802f560d74a",
   "metadata": {},
   "outputs": [],
   "source": [
    "df_sous_categorie = df_sales[['Sub-Category', 'Sales', 'Profit']]"
   ]
  },
  {
   "cell_type": "code",
   "execution_count": 171,
   "id": "2f3ebd45-a5a4-4621-a4d3-4609061ed050",
   "metadata": {},
   "outputs": [
    {
     "data": {
      "text/html": [
       "<div>\n",
       "<style scoped>\n",
       "    .dataframe tbody tr th:only-of-type {\n",
       "        vertical-align: middle;\n",
       "    }\n",
       "\n",
       "    .dataframe tbody tr th {\n",
       "        vertical-align: top;\n",
       "    }\n",
       "\n",
       "    .dataframe thead th {\n",
       "        text-align: right;\n",
       "    }\n",
       "</style>\n",
       "<table border=\"1\" class=\"dataframe\">\n",
       "  <thead>\n",
       "    <tr style=\"text-align: right;\">\n",
       "      <th></th>\n",
       "      <th>Sub-Category</th>\n",
       "      <th>Sales</th>\n",
       "      <th>Profit</th>\n",
       "    </tr>\n",
       "  </thead>\n",
       "  <tbody>\n",
       "    <tr>\n",
       "      <th>0</th>\n",
       "      <td>Accessories</td>\n",
       "      <td>167380.3180</td>\n",
       "      <td>41936.6357</td>\n",
       "    </tr>\n",
       "    <tr>\n",
       "      <th>1</th>\n",
       "      <td>Appliances</td>\n",
       "      <td>107532.1610</td>\n",
       "      <td>18138.0054</td>\n",
       "    </tr>\n",
       "    <tr>\n",
       "      <th>2</th>\n",
       "      <td>Art</td>\n",
       "      <td>27118.7920</td>\n",
       "      <td>6527.7870</td>\n",
       "    </tr>\n",
       "    <tr>\n",
       "      <th>3</th>\n",
       "      <td>Binders</td>\n",
       "      <td>203412.7330</td>\n",
       "      <td>30221.7633</td>\n",
       "    </tr>\n",
       "    <tr>\n",
       "      <th>4</th>\n",
       "      <td>Bookcases</td>\n",
       "      <td>114879.9963</td>\n",
       "      <td>-3472.5560</td>\n",
       "    </tr>\n",
       "    <tr>\n",
       "      <th>5</th>\n",
       "      <td>Chairs</td>\n",
       "      <td>328167.7310</td>\n",
       "      <td>26602.2251</td>\n",
       "    </tr>\n",
       "    <tr>\n",
       "      <th>6</th>\n",
       "      <td>Copiers</td>\n",
       "      <td>149528.0300</td>\n",
       "      <td>55617.8249</td>\n",
       "    </tr>\n",
       "    <tr>\n",
       "      <th>7</th>\n",
       "      <td>Envelopes</td>\n",
       "      <td>16476.4020</td>\n",
       "      <td>6964.1767</td>\n",
       "    </tr>\n",
       "    <tr>\n",
       "      <th>8</th>\n",
       "      <td>Fasteners</td>\n",
       "      <td>3024.2800</td>\n",
       "      <td>949.5182</td>\n",
       "    </tr>\n",
       "    <tr>\n",
       "      <th>9</th>\n",
       "      <td>Furnishings</td>\n",
       "      <td>91705.1640</td>\n",
       "      <td>13059.1436</td>\n",
       "    </tr>\n",
       "    <tr>\n",
       "      <th>10</th>\n",
       "      <td>Labels</td>\n",
       "      <td>12486.3120</td>\n",
       "      <td>5546.2540</td>\n",
       "    </tr>\n",
       "    <tr>\n",
       "      <th>11</th>\n",
       "      <td>Machines</td>\n",
       "      <td>189238.6310</td>\n",
       "      <td>3384.7569</td>\n",
       "    </tr>\n",
       "    <tr>\n",
       "      <th>12</th>\n",
       "      <td>Paper</td>\n",
       "      <td>78479.2060</td>\n",
       "      <td>34053.5693</td>\n",
       "    </tr>\n",
       "    <tr>\n",
       "      <th>13</th>\n",
       "      <td>Phones</td>\n",
       "      <td>330007.0540</td>\n",
       "      <td>44515.7306</td>\n",
       "    </tr>\n",
       "    <tr>\n",
       "      <th>14</th>\n",
       "      <td>Storage</td>\n",
       "      <td>223843.6080</td>\n",
       "      <td>21278.8264</td>\n",
       "    </tr>\n",
       "    <tr>\n",
       "      <th>15</th>\n",
       "      <td>Supplies</td>\n",
       "      <td>46673.5380</td>\n",
       "      <td>-1189.0995</td>\n",
       "    </tr>\n",
       "    <tr>\n",
       "      <th>16</th>\n",
       "      <td>Tables</td>\n",
       "      <td>206965.5320</td>\n",
       "      <td>-17725.4811</td>\n",
       "    </tr>\n",
       "  </tbody>\n",
       "</table>\n",
       "</div>"
      ],
      "text/plain": [
       "   Sub-Category        Sales      Profit\n",
       "0   Accessories  167380.3180  41936.6357\n",
       "1    Appliances  107532.1610  18138.0054\n",
       "2           Art   27118.7920   6527.7870\n",
       "3       Binders  203412.7330  30221.7633\n",
       "4     Bookcases  114879.9963  -3472.5560\n",
       "5        Chairs  328167.7310  26602.2251\n",
       "6       Copiers  149528.0300  55617.8249\n",
       "7     Envelopes   16476.4020   6964.1767\n",
       "8     Fasteners    3024.2800    949.5182\n",
       "9   Furnishings   91705.1640  13059.1436\n",
       "10       Labels   12486.3120   5546.2540\n",
       "11     Machines  189238.6310   3384.7569\n",
       "12        Paper   78479.2060  34053.5693\n",
       "13       Phones  330007.0540  44515.7306\n",
       "14      Storage  223843.6080  21278.8264\n",
       "15     Supplies   46673.5380  -1189.0995\n",
       "16       Tables  206965.5320 -17725.4811"
      ]
     },
     "execution_count": 171,
     "metadata": {},
     "output_type": "execute_result"
    }
   ],
   "source": [
    "df_sous_categorie = df_sous_categorie.groupby(['Sub-Category']).sum().reset_index()\n",
    "df_sous_categorie"
   ]
  },
  {
   "cell_type": "code",
   "execution_count": 173,
   "id": "03610f0b-e54a-4e22-bc8e-2398165785ce",
   "metadata": {},
   "outputs": [],
   "source": [
    "top_profit_par_sous_categorie = df_sous_categorie.sort_values(by = ['Profit'], ascending = False)\n",
    "top10_profit_par_sous_categorie = top_profit_par_sous_categorie.head(10)"
   ]
  },
  {
   "cell_type": "code",
   "execution_count": 175,
   "id": "e0dea1fe-67a9-4bb3-b6fa-72b95bee2185",
   "metadata": {},
   "outputs": [
    {
     "data": {
      "text/html": [
       "<div>\n",
       "<style scoped>\n",
       "    .dataframe tbody tr th:only-of-type {\n",
       "        vertical-align: middle;\n",
       "    }\n",
       "\n",
       "    .dataframe tbody tr th {\n",
       "        vertical-align: top;\n",
       "    }\n",
       "\n",
       "    .dataframe thead th {\n",
       "        text-align: right;\n",
       "    }\n",
       "</style>\n",
       "<table border=\"1\" class=\"dataframe\">\n",
       "  <thead>\n",
       "    <tr style=\"text-align: right;\">\n",
       "      <th></th>\n",
       "      <th>Sub-Category</th>\n",
       "      <th>Sales</th>\n",
       "      <th>Profit</th>\n",
       "    </tr>\n",
       "  </thead>\n",
       "  <tbody>\n",
       "    <tr>\n",
       "      <th>6</th>\n",
       "      <td>Copiers</td>\n",
       "      <td>149528.030</td>\n",
       "      <td>55617.8249</td>\n",
       "    </tr>\n",
       "    <tr>\n",
       "      <th>13</th>\n",
       "      <td>Phones</td>\n",
       "      <td>330007.054</td>\n",
       "      <td>44515.7306</td>\n",
       "    </tr>\n",
       "    <tr>\n",
       "      <th>0</th>\n",
       "      <td>Accessories</td>\n",
       "      <td>167380.318</td>\n",
       "      <td>41936.6357</td>\n",
       "    </tr>\n",
       "    <tr>\n",
       "      <th>12</th>\n",
       "      <td>Paper</td>\n",
       "      <td>78479.206</td>\n",
       "      <td>34053.5693</td>\n",
       "    </tr>\n",
       "    <tr>\n",
       "      <th>3</th>\n",
       "      <td>Binders</td>\n",
       "      <td>203412.733</td>\n",
       "      <td>30221.7633</td>\n",
       "    </tr>\n",
       "    <tr>\n",
       "      <th>5</th>\n",
       "      <td>Chairs</td>\n",
       "      <td>328167.731</td>\n",
       "      <td>26602.2251</td>\n",
       "    </tr>\n",
       "    <tr>\n",
       "      <th>14</th>\n",
       "      <td>Storage</td>\n",
       "      <td>223843.608</td>\n",
       "      <td>21278.8264</td>\n",
       "    </tr>\n",
       "    <tr>\n",
       "      <th>1</th>\n",
       "      <td>Appliances</td>\n",
       "      <td>107532.161</td>\n",
       "      <td>18138.0054</td>\n",
       "    </tr>\n",
       "    <tr>\n",
       "      <th>9</th>\n",
       "      <td>Furnishings</td>\n",
       "      <td>91705.164</td>\n",
       "      <td>13059.1436</td>\n",
       "    </tr>\n",
       "    <tr>\n",
       "      <th>7</th>\n",
       "      <td>Envelopes</td>\n",
       "      <td>16476.402</td>\n",
       "      <td>6964.1767</td>\n",
       "    </tr>\n",
       "  </tbody>\n",
       "</table>\n",
       "</div>"
      ],
      "text/plain": [
       "   Sub-Category       Sales      Profit\n",
       "6       Copiers  149528.030  55617.8249\n",
       "13       Phones  330007.054  44515.7306\n",
       "0   Accessories  167380.318  41936.6357\n",
       "12        Paper   78479.206  34053.5693\n",
       "3       Binders  203412.733  30221.7633\n",
       "5        Chairs  328167.731  26602.2251\n",
       "14      Storage  223843.608  21278.8264\n",
       "1    Appliances  107532.161  18138.0054\n",
       "9   Furnishings   91705.164  13059.1436\n",
       "7     Envelopes   16476.402   6964.1767"
      ]
     },
     "execution_count": 175,
     "metadata": {},
     "output_type": "execute_result"
    }
   ],
   "source": [
    "top10_profit_par_sous_categorie"
   ]
  },
  {
   "cell_type": "code",
   "execution_count": 177,
   "id": "ec6b068a-02a1-4ca3-aa1b-d895a91ac2c1",
   "metadata": {},
   "outputs": [
    {
     "data": {
      "image/png": "[encoded data removed]",
      "text/plain": [
       "<Figure size 640x480 with 1 Axes>"
      ]
     },
     "metadata": {},
     "output_type": "display_data"
    }
   ],
   "source": [
    "sns.barplot(x=top10_profit_par_sous_categorie['Profit'], y=top10_profit_par_sous_categorie['Sub-Category'])\n",
    "plt.title('Top 10 des sous-ctégories avec les meilleurs profits')\n",
    "plt.xlabel('Profits')\n",
    "plt.ylabel('Sous-categories')\n",
    "plt.show()"
   ]
  },
  {
   "cell_type": "code",
   "execution_count": 185,
   "id": "c3155a8d-4b74-4665-8f3e-7744a15abf12",
   "metadata": {},
   "outputs": [],
   "source": [
    "top_vente_par_sous_categorie = df_sous_categorie.sort_values(by = ['Sales'], ascending = False)\n",
    "top10_vente_par_sous_categorie = top_vente_par_sous_categorie.head(10)"
   ]
  },
  {
   "cell_type": "code",
   "execution_count": 187,
   "id": "ca8fea68-3316-46ff-834e-80dbcabe0f29",
   "metadata": {},
   "outputs": [
    {
     "data": {
      "text/html": [
       "<div>\n",
       "<style scoped>\n",
       "    .dataframe tbody tr th:only-of-type {\n",
       "        vertical-align: middle;\n",
       "    }\n",
       "\n",
       "    .dataframe tbody tr th {\n",
       "        vertical-align: top;\n",
       "    }\n",
       "\n",
       "    .dataframe thead th {\n",
       "        text-align: right;\n",
       "    }\n",
       "</style>\n",
       "<table border=\"1\" class=\"dataframe\">\n",
       "  <thead>\n",
       "    <tr style=\"text-align: right;\">\n",
       "      <th></th>\n",
       "      <th>Sub-Category</th>\n",
       "      <th>Sales</th>\n",
       "      <th>Profit</th>\n",
       "    </tr>\n",
       "  </thead>\n",
       "  <tbody>\n",
       "    <tr>\n",
       "      <th>13</th>\n",
       "      <td>Phones</td>\n",
       "      <td>330007.0540</td>\n",
       "      <td>44515.7306</td>\n",
       "    </tr>\n",
       "    <tr>\n",
       "      <th>5</th>\n",
       "      <td>Chairs</td>\n",
       "      <td>328167.7310</td>\n",
       "      <td>26602.2251</td>\n",
       "    </tr>\n",
       "    <tr>\n",
       "      <th>14</th>\n",
       "      <td>Storage</td>\n",
       "      <td>223843.6080</td>\n",
       "      <td>21278.8264</td>\n",
       "    </tr>\n",
       "    <tr>\n",
       "      <th>16</th>\n",
       "      <td>Tables</td>\n",
       "      <td>206965.5320</td>\n",
       "      <td>-17725.4811</td>\n",
       "    </tr>\n",
       "    <tr>\n",
       "      <th>3</th>\n",
       "      <td>Binders</td>\n",
       "      <td>203412.7330</td>\n",
       "      <td>30221.7633</td>\n",
       "    </tr>\n",
       "    <tr>\n",
       "      <th>11</th>\n",
       "      <td>Machines</td>\n",
       "      <td>189238.6310</td>\n",
       "      <td>3384.7569</td>\n",
       "    </tr>\n",
       "    <tr>\n",
       "      <th>0</th>\n",
       "      <td>Accessories</td>\n",
       "      <td>167380.3180</td>\n",
       "      <td>41936.6357</td>\n",
       "    </tr>\n",
       "    <tr>\n",
       "      <th>6</th>\n",
       "      <td>Copiers</td>\n",
       "      <td>149528.0300</td>\n",
       "      <td>55617.8249</td>\n",
       "    </tr>\n",
       "    <tr>\n",
       "      <th>4</th>\n",
       "      <td>Bookcases</td>\n",
       "      <td>114879.9963</td>\n",
       "      <td>-3472.5560</td>\n",
       "    </tr>\n",
       "    <tr>\n",
       "      <th>1</th>\n",
       "      <td>Appliances</td>\n",
       "      <td>107532.1610</td>\n",
       "      <td>18138.0054</td>\n",
       "    </tr>\n",
       "  </tbody>\n",
       "</table>\n",
       "</div>"
      ],
      "text/plain": [
       "   Sub-Category        Sales      Profit\n",
       "13       Phones  330007.0540  44515.7306\n",
       "5        Chairs  328167.7310  26602.2251\n",
       "14      Storage  223843.6080  21278.8264\n",
       "16       Tables  206965.5320 -17725.4811\n",
       "3       Binders  203412.7330  30221.7633\n",
       "11     Machines  189238.6310   3384.7569\n",
       "0   Accessories  167380.3180  41936.6357\n",
       "6       Copiers  149528.0300  55617.8249\n",
       "4     Bookcases  114879.9963  -3472.5560\n",
       "1    Appliances  107532.1610  18138.0054"
      ]
     },
     "execution_count": 187,
     "metadata": {},
     "output_type": "execute_result"
    }
   ],
   "source": [
    "top10_vente_par_sous_categorie"
   ]
  },
  {
   "cell_type": "code",
   "execution_count": 191,
   "id": "c763a66c-d0f6-4568-8311-9199a1968aa9",
   "metadata": {},
   "outputs": [
    {
     "data": {
      "image/png": "[encoded data removed]",
      "text/plain": [
       "<Figure size 640x480 with 1 Axes>"
      ]
     },
     "metadata": {},
     "output_type": "display_data"
    }
   ],
   "source": [
    "sns.barplot(x=top10_vente_par_sous_categorie['Sales'], y=top10_vente_par_sous_categorie['Sub-Category'])\n",
    "plt.title('Top 10 des sous-ctégories avec les plus vendu')\n",
    "plt.xlabel('Ventes')\n",
    "plt.ylabel('Sous-categories')\n",
    "plt.show()"
   ]
  },
  {
   "cell_type": "markdown",
   "id": "6f6e7c96-a715-467a-b100-0538674e7136",
   "metadata": {},
   "source": [
    "## Nombre de clients dans chaque segment "
   ]
  },
  {
   "cell_type": "code",
   "execution_count": 193,
   "id": "bce2e796-012a-4943-ab45-93f2714a9031",
   "metadata": {},
   "outputs": [
    {
     "data": {
      "text/html": [
       "<div>\n",
       "<style scoped>\n",
       "    .dataframe tbody tr th:only-of-type {\n",
       "        vertical-align: middle;\n",
       "    }\n",
       "\n",
       "    .dataframe tbody tr th {\n",
       "        vertical-align: top;\n",
       "    }\n",
       "\n",
       "    .dataframe thead th {\n",
       "        text-align: right;\n",
       "    }\n",
       "</style>\n",
       "<table border=\"1\" class=\"dataframe\">\n",
       "  <thead>\n",
       "    <tr style=\"text-align: right;\">\n",
       "      <th></th>\n",
       "      <th>Segment</th>\n",
       "      <th>Customers</th>\n",
       "    </tr>\n",
       "  </thead>\n",
       "  <tbody>\n",
       "    <tr>\n",
       "      <th>0</th>\n",
       "      <td>Consumer</td>\n",
       "      <td>5191</td>\n",
       "    </tr>\n",
       "    <tr>\n",
       "      <th>1</th>\n",
       "      <td>Corporate</td>\n",
       "      <td>3020</td>\n",
       "    </tr>\n",
       "    <tr>\n",
       "      <th>2</th>\n",
       "      <td>Home Office</td>\n",
       "      <td>1782</td>\n",
       "    </tr>\n",
       "  </tbody>\n",
       "</table>\n",
       "</div>"
      ],
      "text/plain": [
       "       Segment  Customers\n",
       "0     Consumer       5191\n",
       "1    Corporate       3020\n",
       "2  Home Office       1782"
      ]
     },
     "execution_count": 193,
     "metadata": {},
     "output_type": "execute_result"
    }
   ],
   "source": [
    "segments = df_sales.groupby(['Segment']).size().reset_index(name='Customers')\n",
    "segments"
   ]
  },
  {
   "cell_type": "code",
   "execution_count": 203,
   "id": "d29f8053-eae1-489b-81eb-0e46427d6040",
   "metadata": {},
   "outputs": [
    {
     "data": {
      "text/plain": [
       "<Axes: xlabel='Segment', ylabel='Customers'>"
      ]
     },
     "execution_count": 203,
     "metadata": {},
     "output_type": "execute_result"
    },
    {
     "data": {
      "image/png": "[encoded data removed]",
      "text/plain": [
       "<Figure size 640x480 with 1 Axes>"
      ]
     },
     "metadata": {},
     "output_type": "display_data"
    }
   ],
   "source": [
    "sns.barplot(x=segments['Segment'], y=segments['Customers'])"
   ]
  }
 ],
 "metadata": {
  "kernelspec": {
   "display_name": "Python 3 (ipykernel)",
   "language": "python",
   "name": "python3"
  },
  "language_info": {
   "codemirror_mode": {
    "name": "ipython",
    "version": 3
   },
   "file_extension": ".py",
   "mimetype": "text/x-python",
   "name": "python",
   "nbconvert_exporter": "python",
   "pygments_lexer": "ipython3",
   "version": "3.12.4"
  }
 },
 "nbformat": 4,
 "nbformat_minor": 5
}
