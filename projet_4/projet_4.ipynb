{
 "cells": [
  {
   "cell_type": "markdown",
   "id": "e3fe04e3-39db-4001-9046-a8c9d38935c0",
   "metadata": {},
   "source": [
    "# Projet 4 : # Projet 3 : Identifier les facteurs qui influencent les performances commerciales (Python ou R)"
   ]
  },
  {
   "cell_type": "markdown",
   "id": "fcd8c32d-e506-420b-ae97-1df4f76d222e",
   "metadata": {},
   "source": [
    "##  Problématique métier\n",
    "  Une entreprise souhaite analyser les écarts de performance entre ses\r\n",
    " départements en explorant les relations entre variables qualitatives\r\n",
    " (départements, satisfaction) et quantitatives (scores de performance,\r\n",
    " heures travaillées)."
   ]
  },
  {
   "cell_type": "markdown",
   "id": "07c1d60b-e870-4892-9fbe-43d42bcd3a05",
   "metadata": {},
   "source": [
    "## Objectif\n",
    " Valider les différences observées en appliquant des tests statistiques\r\n",
    " adaptés."
   ]
  },
  {
   "cell_type": "markdown",
   "id": "f3b2db0b-0850-4d43-b586-af06a49eca38",
   "metadata": {},
   "source": [
    "## 1.Chargement des bibliothèques"
   ]
  },
  {
   "cell_type": "code",
   "execution_count": 3,
   "id": "4218f726-6a55-481e-a00c-b96ca4003a59",
   "metadata": {},
   "outputs": [],
   "source": [
    "import pandas as pd\n",
    "import matplotlib.pyplot as plt\n",
    "import numpy as np\n",
    "import seaborn as sns\n",
    "from scipy.stats import chi2_contingency\n",
    "%matplotlib inline"
   ]
  },
  {
   "cell_type": "code",
   "execution_count": 5,
   "id": "cd68c035-36bd-41f2-8dd8-b05ae4647259",
   "metadata": {},
   "outputs": [],
   "source": [
    "df_employee = pd.read_csv(r\"C:\\Users\\mabou\\Documents\\12_projet_analyse_de_donnees\\projet_4\\Extended_Employee_Performance_and_Productivity_Data.csv\", encoding='cp1252')"
   ]
  },
  {
   "cell_type": "code",
   "execution_count": 24,
   "id": "7e52594f-3ff1-4089-bd31-a746b5cdb59f",
   "metadata": {},
   "outputs": [
    {
     "data": {
      "text/html": [
       "<div>\n",
       "<style scoped>\n",
       "    .dataframe tbody tr th:only-of-type {\n",
       "        vertical-align: middle;\n",
       "    }\n",
       "\n",
       "    .dataframe tbody tr th {\n",
       "        vertical-align: top;\n",
       "    }\n",
       "\n",
       "    .dataframe thead th {\n",
       "        text-align: right;\n",
       "    }\n",
       "</style>\n",
       "<table border=\"1\" class=\"dataframe\">\n",
       "  <thead>\n",
       "    <tr style=\"text-align: right;\">\n",
       "      <th></th>\n",
       "      <th>Employee_ID</th>\n",
       "      <th>Department</th>\n",
       "      <th>Gender</th>\n",
       "      <th>Age</th>\n",
       "      <th>Job_Title</th>\n",
       "      <th>Hire_Date</th>\n",
       "      <th>Years_At_Company</th>\n",
       "      <th>Education_Level</th>\n",
       "      <th>Performance_Score</th>\n",
       "      <th>Monthly_Salary</th>\n",
       "      <th>Work_Hours_Per_Week</th>\n",
       "      <th>Projects_Handled</th>\n",
       "      <th>Overtime_Hours</th>\n",
       "      <th>Sick_Days</th>\n",
       "      <th>Remote_Work_Frequency</th>\n",
       "      <th>Team_Size</th>\n",
       "      <th>Training_Hours</th>\n",
       "      <th>Promotions</th>\n",
       "      <th>Employee_Satisfaction_Score</th>\n",
       "      <th>Resigned</th>\n",
       "    </tr>\n",
       "  </thead>\n",
       "  <tbody>\n",
       "    <tr>\n",
       "      <th>0</th>\n",
       "      <td>1</td>\n",
       "      <td>IT</td>\n",
       "      <td>Male</td>\n",
       "      <td>55</td>\n",
       "      <td>Specialist</td>\n",
       "      <td>2022-01-19 08:03:05.556036</td>\n",
       "      <td>2</td>\n",
       "      <td>High School</td>\n",
       "      <td>5</td>\n",
       "      <td>6750.0</td>\n",
       "      <td>33</td>\n",
       "      <td>32</td>\n",
       "      <td>22</td>\n",
       "      <td>2</td>\n",
       "      <td>0</td>\n",
       "      <td>14</td>\n",
       "      <td>66</td>\n",
       "      <td>0</td>\n",
       "      <td>2.63</td>\n",
       "      <td>False</td>\n",
       "    </tr>\n",
       "    <tr>\n",
       "      <th>1</th>\n",
       "      <td>2</td>\n",
       "      <td>Finance</td>\n",
       "      <td>Male</td>\n",
       "      <td>29</td>\n",
       "      <td>Developer</td>\n",
       "      <td>2024-04-18 08:03:05.556036</td>\n",
       "      <td>0</td>\n",
       "      <td>High School</td>\n",
       "      <td>5</td>\n",
       "      <td>7500.0</td>\n",
       "      <td>34</td>\n",
       "      <td>34</td>\n",
       "      <td>13</td>\n",
       "      <td>14</td>\n",
       "      <td>100</td>\n",
       "      <td>12</td>\n",
       "      <td>61</td>\n",
       "      <td>2</td>\n",
       "      <td>1.72</td>\n",
       "      <td>False</td>\n",
       "    </tr>\n",
       "    <tr>\n",
       "      <th>2</th>\n",
       "      <td>3</td>\n",
       "      <td>Finance</td>\n",
       "      <td>Male</td>\n",
       "      <td>55</td>\n",
       "      <td>Specialist</td>\n",
       "      <td>2015-10-26 08:03:05.556036</td>\n",
       "      <td>8</td>\n",
       "      <td>High School</td>\n",
       "      <td>3</td>\n",
       "      <td>5850.0</td>\n",
       "      <td>37</td>\n",
       "      <td>27</td>\n",
       "      <td>6</td>\n",
       "      <td>3</td>\n",
       "      <td>50</td>\n",
       "      <td>10</td>\n",
       "      <td>1</td>\n",
       "      <td>0</td>\n",
       "      <td>3.17</td>\n",
       "      <td>False</td>\n",
       "    </tr>\n",
       "    <tr>\n",
       "      <th>3</th>\n",
       "      <td>4</td>\n",
       "      <td>Customer Support</td>\n",
       "      <td>Female</td>\n",
       "      <td>48</td>\n",
       "      <td>Analyst</td>\n",
       "      <td>2016-10-22 08:03:05.556036</td>\n",
       "      <td>7</td>\n",
       "      <td>Bachelor</td>\n",
       "      <td>2</td>\n",
       "      <td>4800.0</td>\n",
       "      <td>52</td>\n",
       "      <td>10</td>\n",
       "      <td>28</td>\n",
       "      <td>12</td>\n",
       "      <td>100</td>\n",
       "      <td>10</td>\n",
       "      <td>0</td>\n",
       "      <td>1</td>\n",
       "      <td>1.86</td>\n",
       "      <td>False</td>\n",
       "    </tr>\n",
       "    <tr>\n",
       "      <th>4</th>\n",
       "      <td>5</td>\n",
       "      <td>Engineering</td>\n",
       "      <td>Female</td>\n",
       "      <td>36</td>\n",
       "      <td>Analyst</td>\n",
       "      <td>2021-07-23 08:03:05.556036</td>\n",
       "      <td>3</td>\n",
       "      <td>Bachelor</td>\n",
       "      <td>2</td>\n",
       "      <td>4800.0</td>\n",
       "      <td>38</td>\n",
       "      <td>11</td>\n",
       "      <td>29</td>\n",
       "      <td>13</td>\n",
       "      <td>100</td>\n",
       "      <td>15</td>\n",
       "      <td>9</td>\n",
       "      <td>1</td>\n",
       "      <td>1.25</td>\n",
       "      <td>False</td>\n",
       "    </tr>\n",
       "    <tr>\n",
       "      <th>...</th>\n",
       "      <td>...</td>\n",
       "      <td>...</td>\n",
       "      <td>...</td>\n",
       "      <td>...</td>\n",
       "      <td>...</td>\n",
       "      <td>...</td>\n",
       "      <td>...</td>\n",
       "      <td>...</td>\n",
       "      <td>...</td>\n",
       "      <td>...</td>\n",
       "      <td>...</td>\n",
       "      <td>...</td>\n",
       "      <td>...</td>\n",
       "      <td>...</td>\n",
       "      <td>...</td>\n",
       "      <td>...</td>\n",
       "      <td>...</td>\n",
       "      <td>...</td>\n",
       "      <td>...</td>\n",
       "      <td>...</td>\n",
       "    </tr>\n",
       "    <tr>\n",
       "      <th>99995</th>\n",
       "      <td>99996</td>\n",
       "      <td>Finance</td>\n",
       "      <td>Male</td>\n",
       "      <td>27</td>\n",
       "      <td>Technician</td>\n",
       "      <td>2022-12-07 08:03:05.556036</td>\n",
       "      <td>1</td>\n",
       "      <td>Bachelor</td>\n",
       "      <td>4</td>\n",
       "      <td>4900.0</td>\n",
       "      <td>55</td>\n",
       "      <td>46</td>\n",
       "      <td>5</td>\n",
       "      <td>3</td>\n",
       "      <td>75</td>\n",
       "      <td>16</td>\n",
       "      <td>48</td>\n",
       "      <td>2</td>\n",
       "      <td>1.28</td>\n",
       "      <td>False</td>\n",
       "    </tr>\n",
       "    <tr>\n",
       "      <th>99996</th>\n",
       "      <td>99997</td>\n",
       "      <td>IT</td>\n",
       "      <td>Female</td>\n",
       "      <td>36</td>\n",
       "      <td>Consultant</td>\n",
       "      <td>2018-07-24 08:03:05.556036</td>\n",
       "      <td>6</td>\n",
       "      <td>Master</td>\n",
       "      <td>5</td>\n",
       "      <td>8250.0</td>\n",
       "      <td>39</td>\n",
       "      <td>35</td>\n",
       "      <td>7</td>\n",
       "      <td>0</td>\n",
       "      <td>0</td>\n",
       "      <td>10</td>\n",
       "      <td>77</td>\n",
       "      <td>1</td>\n",
       "      <td>3.48</td>\n",
       "      <td>True</td>\n",
       "    </tr>\n",
       "    <tr>\n",
       "      <th>99997</th>\n",
       "      <td>99998</td>\n",
       "      <td>Operations</td>\n",
       "      <td>Male</td>\n",
       "      <td>53</td>\n",
       "      <td>Analyst</td>\n",
       "      <td>2015-11-24 08:03:05.556036</td>\n",
       "      <td>8</td>\n",
       "      <td>High School</td>\n",
       "      <td>2</td>\n",
       "      <td>4800.0</td>\n",
       "      <td>31</td>\n",
       "      <td>13</td>\n",
       "      <td>6</td>\n",
       "      <td>5</td>\n",
       "      <td>0</td>\n",
       "      <td>5</td>\n",
       "      <td>87</td>\n",
       "      <td>1</td>\n",
       "      <td>2.60</td>\n",
       "      <td>False</td>\n",
       "    </tr>\n",
       "    <tr>\n",
       "      <th>99998</th>\n",
       "      <td>99999</td>\n",
       "      <td>HR</td>\n",
       "      <td>Female</td>\n",
       "      <td>22</td>\n",
       "      <td>Consultant</td>\n",
       "      <td>2015-08-03 08:03:05.556036</td>\n",
       "      <td>9</td>\n",
       "      <td>High School</td>\n",
       "      <td>5</td>\n",
       "      <td>8250.0</td>\n",
       "      <td>35</td>\n",
       "      <td>43</td>\n",
       "      <td>10</td>\n",
       "      <td>1</td>\n",
       "      <td>75</td>\n",
       "      <td>2</td>\n",
       "      <td>31</td>\n",
       "      <td>1</td>\n",
       "      <td>3.10</td>\n",
       "      <td>False</td>\n",
       "    </tr>\n",
       "    <tr>\n",
       "      <th>99999</th>\n",
       "      <td>100000</td>\n",
       "      <td>Finance</td>\n",
       "      <td>Female</td>\n",
       "      <td>43</td>\n",
       "      <td>Analyst</td>\n",
       "      <td>2024-03-04 08:03:05.556036</td>\n",
       "      <td>0</td>\n",
       "      <td>PhD</td>\n",
       "      <td>1</td>\n",
       "      <td>4400.0</td>\n",
       "      <td>51</td>\n",
       "      <td>43</td>\n",
       "      <td>27</td>\n",
       "      <td>11</td>\n",
       "      <td>75</td>\n",
       "      <td>13</td>\n",
       "      <td>45</td>\n",
       "      <td>1</td>\n",
       "      <td>2.64</td>\n",
       "      <td>False</td>\n",
       "    </tr>\n",
       "  </tbody>\n",
       "</table>\n",
       "<p>100000 rows × 20 columns</p>\n",
       "</div>"
      ],
      "text/plain": [
       "       Employee_ID        Department  Gender  Age   Job_Title  \\\n",
       "0                1                IT    Male   55  Specialist   \n",
       "1                2           Finance    Male   29   Developer   \n",
       "2                3           Finance    Male   55  Specialist   \n",
       "3                4  Customer Support  Female   48     Analyst   \n",
       "4                5       Engineering  Female   36     Analyst   \n",
       "...            ...               ...     ...  ...         ...   \n",
       "99995        99996           Finance    Male   27  Technician   \n",
       "99996        99997                IT  Female   36  Consultant   \n",
       "99997        99998        Operations    Male   53     Analyst   \n",
       "99998        99999                HR  Female   22  Consultant   \n",
       "99999       100000           Finance  Female   43     Analyst   \n",
       "\n",
       "                        Hire_Date  Years_At_Company Education_Level  \\\n",
       "0      2022-01-19 08:03:05.556036                 2     High School   \n",
       "1      2024-04-18 08:03:05.556036                 0     High School   \n",
       "2      2015-10-26 08:03:05.556036                 8     High School   \n",
       "3      2016-10-22 08:03:05.556036                 7        Bachelor   \n",
       "4      2021-07-23 08:03:05.556036                 3        Bachelor   \n",
       "...                           ...               ...             ...   \n",
       "99995  2022-12-07 08:03:05.556036                 1        Bachelor   \n",
       "99996  2018-07-24 08:03:05.556036                 6          Master   \n",
       "99997  2015-11-24 08:03:05.556036                 8     High School   \n",
       "99998  2015-08-03 08:03:05.556036                 9     High School   \n",
       "99999  2024-03-04 08:03:05.556036                 0             PhD   \n",
       "\n",
       "       Performance_Score  Monthly_Salary  Work_Hours_Per_Week  \\\n",
       "0                      5          6750.0                   33   \n",
       "1                      5          7500.0                   34   \n",
       "2                      3          5850.0                   37   \n",
       "3                      2          4800.0                   52   \n",
       "4                      2          4800.0                   38   \n",
       "...                  ...             ...                  ...   \n",
       "99995                  4          4900.0                   55   \n",
       "99996                  5          8250.0                   39   \n",
       "99997                  2          4800.0                   31   \n",
       "99998                  5          8250.0                   35   \n",
       "99999                  1          4400.0                   51   \n",
       "\n",
       "       Projects_Handled  Overtime_Hours  Sick_Days  Remote_Work_Frequency  \\\n",
       "0                    32              22          2                      0   \n",
       "1                    34              13         14                    100   \n",
       "2                    27               6          3                     50   \n",
       "3                    10              28         12                    100   \n",
       "4                    11              29         13                    100   \n",
       "...                 ...             ...        ...                    ...   \n",
       "99995                46               5          3                     75   \n",
       "99996                35               7          0                      0   \n",
       "99997                13               6          5                      0   \n",
       "99998                43              10          1                     75   \n",
       "99999                43              27         11                     75   \n",
       "\n",
       "       Team_Size  Training_Hours  Promotions  Employee_Satisfaction_Score  \\\n",
       "0             14              66           0                         2.63   \n",
       "1             12              61           2                         1.72   \n",
       "2             10               1           0                         3.17   \n",
       "3             10               0           1                         1.86   \n",
       "4             15               9           1                         1.25   \n",
       "...          ...             ...         ...                          ...   \n",
       "99995         16              48           2                         1.28   \n",
       "99996         10              77           1                         3.48   \n",
       "99997          5              87           1                         2.60   \n",
       "99998          2              31           1                         3.10   \n",
       "99999         13              45           1                         2.64   \n",
       "\n",
       "       Resigned  \n",
       "0         False  \n",
       "1         False  \n",
       "2         False  \n",
       "3         False  \n",
       "4         False  \n",
       "...         ...  \n",
       "99995     False  \n",
       "99996      True  \n",
       "99997     False  \n",
       "99998     False  \n",
       "99999     False  \n",
       "\n",
       "[100000 rows x 20 columns]"
      ]
     },
     "execution_count": 24,
     "metadata": {},
     "output_type": "execute_result"
    }
   ],
   "source": [
    "df_employee"
   ]
  },
  {
   "cell_type": "markdown",
   "id": "f04d51ac-8fff-4262-820a-ce5e0c6a553d",
   "metadata": {},
   "source": [
    "## 2.Nétoyage des données"
   ]
  },
  {
   "cell_type": "markdown",
   "id": "8a45c9ed-2a5c-4d42-86de-4f0197319d5f",
   "metadata": {},
   "source": [
    "Valeurs manquantes"
   ]
  },
  {
   "cell_type": "code",
   "execution_count": 33,
   "id": "67a54c58-b2d0-4c72-9677-4539ab01007b",
   "metadata": {},
   "outputs": [
    {
     "data": {
      "text/plain": [
       "Employee_ID                    0\n",
       "Department                     0\n",
       "Gender                         0\n",
       "Age                            0\n",
       "Job_Title                      0\n",
       "Hire_Date                      0\n",
       "Years_At_Company               0\n",
       "Education_Level                0\n",
       "Performance_Score              0\n",
       "Monthly_Salary                 0\n",
       "Work_Hours_Per_Week            0\n",
       "Projects_Handled               0\n",
       "Overtime_Hours                 0\n",
       "Sick_Days                      0\n",
       "Remote_Work_Frequency          0\n",
       "Team_Size                      0\n",
       "Training_Hours                 0\n",
       "Promotions                     0\n",
       "Employee_Satisfaction_Score    0\n",
       "Resigned                       0\n",
       "dtype: int64"
      ]
     },
     "execution_count": 33,
     "metadata": {},
     "output_type": "execute_result"
    }
   ],
   "source": [
    "df_employee.isnull().sum()"
   ]
  },
  {
   "cell_type": "markdown",
   "id": "1ea9fab9-6e60-4594-adf7-1d0d1750f9ea",
   "metadata": {},
   "source": [
    "Pas de données manquantes dans notre jeux de données."
   ]
  },
  {
   "cell_type": "markdown",
   "id": "c5e57d27-5ffc-430b-8034-00361279617c",
   "metadata": {},
   "source": [
    "Doublons"
   ]
  },
  {
   "cell_type": "code",
   "execution_count": 43,
   "id": "34f578dd-0b9c-4b03-8ba6-c870f7b29a42",
   "metadata": {},
   "outputs": [
    {
     "data": {
      "text/plain": [
       "0"
      ]
     },
     "execution_count": 43,
     "metadata": {},
     "output_type": "execute_result"
    }
   ],
   "source": [
    "df_employee.duplicated().sum()"
   ]
  },
  {
   "cell_type": "markdown",
   "id": "21fefd88-a0ae-489c-91e4-c19cbb302499",
   "metadata": {},
   "source": [
    "Pas de doublons dans le jeu de données"
   ]
  },
  {
   "cell_type": "markdown",
   "id": "ff6d1449-024b-4a5f-af4b-888594c4d947",
   "metadata": {},
   "source": [
    "Information sur les données"
   ]
  },
  {
   "cell_type": "code",
   "execution_count": 47,
   "id": "08afaf0b-eaeb-497e-bc4c-386c90ba3531",
   "metadata": {},
   "outputs": [
    {
     "name": "stdout",
     "output_type": "stream",
     "text": [
      "<class 'pandas.core.frame.DataFrame'>\n",
      "RangeIndex: 100000 entries, 0 to 99999\n",
      "Data columns (total 20 columns):\n",
      " #   Column                       Non-Null Count   Dtype  \n",
      "---  ------                       --------------   -----  \n",
      " 0   Employee_ID                  100000 non-null  int64  \n",
      " 1   Department                   100000 non-null  object \n",
      " 2   Gender                       100000 non-null  object \n",
      " 3   Age                          100000 non-null  int64  \n",
      " 4   Job_Title                    100000 non-null  object \n",
      " 5   Hire_Date                    100000 non-null  object \n",
      " 6   Years_At_Company             100000 non-null  int64  \n",
      " 7   Education_Level              100000 non-null  object \n",
      " 8   Performance_Score            100000 non-null  int64  \n",
      " 9   Monthly_Salary               100000 non-null  float64\n",
      " 10  Work_Hours_Per_Week          100000 non-null  int64  \n",
      " 11  Projects_Handled             100000 non-null  int64  \n",
      " 12  Overtime_Hours               100000 non-null  int64  \n",
      " 13  Sick_Days                    100000 non-null  int64  \n",
      " 14  Remote_Work_Frequency        100000 non-null  int64  \n",
      " 15  Team_Size                    100000 non-null  int64  \n",
      " 16  Training_Hours               100000 non-null  int64  \n",
      " 17  Promotions                   100000 non-null  int64  \n",
      " 18  Employee_Satisfaction_Score  100000 non-null  float64\n",
      " 19  Resigned                     100000 non-null  bool   \n",
      "dtypes: bool(1), float64(2), int64(12), object(5)\n",
      "memory usage: 14.6+ MB\n"
     ]
    }
   ],
   "source": [
    "df_employee.info()"
   ]
  },
  {
   "cell_type": "markdown",
   "id": "7f5bee63-20ac-4aea-b0f0-d774f1e421c1",
   "metadata": {},
   "source": [
    "## 3.Statistique descriptive"
   ]
  },
  {
   "cell_type": "code",
   "execution_count": 58,
   "id": "c2ef9a4c-3ca5-4331-976c-c70cdf507902",
   "metadata": {},
   "outputs": [
    {
     "data": {
      "text/html": [
       "<div>\n",
       "<style scoped>\n",
       "    .dataframe tbody tr th:only-of-type {\n",
       "        vertical-align: middle;\n",
       "    }\n",
       "\n",
       "    .dataframe tbody tr th {\n",
       "        vertical-align: top;\n",
       "    }\n",
       "\n",
       "    .dataframe thead th {\n",
       "        text-align: right;\n",
       "    }\n",
       "</style>\n",
       "<table border=\"1\" class=\"dataframe\">\n",
       "  <thead>\n",
       "    <tr style=\"text-align: right;\">\n",
       "      <th></th>\n",
       "      <th>Employee_ID</th>\n",
       "      <th>Department</th>\n",
       "      <th>Gender</th>\n",
       "      <th>Age</th>\n",
       "      <th>Job_Title</th>\n",
       "      <th>Hire_Date</th>\n",
       "      <th>Years_At_Company</th>\n",
       "      <th>Education_Level</th>\n",
       "      <th>Performance_Score</th>\n",
       "      <th>Monthly_Salary</th>\n",
       "      <th>Work_Hours_Per_Week</th>\n",
       "      <th>Projects_Handled</th>\n",
       "      <th>Overtime_Hours</th>\n",
       "      <th>Sick_Days</th>\n",
       "      <th>Remote_Work_Frequency</th>\n",
       "      <th>Team_Size</th>\n",
       "      <th>Training_Hours</th>\n",
       "      <th>Promotions</th>\n",
       "      <th>Employee_Satisfaction_Score</th>\n",
       "      <th>Resigned</th>\n",
       "    </tr>\n",
       "  </thead>\n",
       "  <tbody>\n",
       "    <tr>\n",
       "      <th>count</th>\n",
       "      <td>100000.000000</td>\n",
       "      <td>100000</td>\n",
       "      <td>100000</td>\n",
       "      <td>100000.000000</td>\n",
       "      <td>100000</td>\n",
       "      <td>100000</td>\n",
       "      <td>100000.000000</td>\n",
       "      <td>100000</td>\n",
       "      <td>100000.000000</td>\n",
       "      <td>100000.000000</td>\n",
       "      <td>100000.000000</td>\n",
       "      <td>100000.000000</td>\n",
       "      <td>100000.000000</td>\n",
       "      <td>100000.000000</td>\n",
       "      <td>100000.000000</td>\n",
       "      <td>100000.000000</td>\n",
       "      <td>100000.000000</td>\n",
       "      <td>100000.000000</td>\n",
       "      <td>100000.000000</td>\n",
       "      <td>100000</td>\n",
       "    </tr>\n",
       "    <tr>\n",
       "      <th>unique</th>\n",
       "      <td>NaN</td>\n",
       "      <td>9</td>\n",
       "      <td>3</td>\n",
       "      <td>NaN</td>\n",
       "      <td>7</td>\n",
       "      <td>3650</td>\n",
       "      <td>NaN</td>\n",
       "      <td>4</td>\n",
       "      <td>NaN</td>\n",
       "      <td>NaN</td>\n",
       "      <td>NaN</td>\n",
       "      <td>NaN</td>\n",
       "      <td>NaN</td>\n",
       "      <td>NaN</td>\n",
       "      <td>NaN</td>\n",
       "      <td>NaN</td>\n",
       "      <td>NaN</td>\n",
       "      <td>NaN</td>\n",
       "      <td>NaN</td>\n",
       "      <td>2</td>\n",
       "    </tr>\n",
       "    <tr>\n",
       "      <th>top</th>\n",
       "      <td>NaN</td>\n",
       "      <td>Marketing</td>\n",
       "      <td>Male</td>\n",
       "      <td>NaN</td>\n",
       "      <td>Specialist</td>\n",
       "      <td>2020-09-29 08:03:05.556036</td>\n",
       "      <td>NaN</td>\n",
       "      <td>Bachelor</td>\n",
       "      <td>NaN</td>\n",
       "      <td>NaN</td>\n",
       "      <td>NaN</td>\n",
       "      <td>NaN</td>\n",
       "      <td>NaN</td>\n",
       "      <td>NaN</td>\n",
       "      <td>NaN</td>\n",
       "      <td>NaN</td>\n",
       "      <td>NaN</td>\n",
       "      <td>NaN</td>\n",
       "      <td>NaN</td>\n",
       "      <td>False</td>\n",
       "    </tr>\n",
       "    <tr>\n",
       "      <th>freq</th>\n",
       "      <td>NaN</td>\n",
       "      <td>11216</td>\n",
       "      <td>48031</td>\n",
       "      <td>NaN</td>\n",
       "      <td>14507</td>\n",
       "      <td>46</td>\n",
       "      <td>NaN</td>\n",
       "      <td>50041</td>\n",
       "      <td>NaN</td>\n",
       "      <td>NaN</td>\n",
       "      <td>NaN</td>\n",
       "      <td>NaN</td>\n",
       "      <td>NaN</td>\n",
       "      <td>NaN</td>\n",
       "      <td>NaN</td>\n",
       "      <td>NaN</td>\n",
       "      <td>NaN</td>\n",
       "      <td>NaN</td>\n",
       "      <td>NaN</td>\n",
       "      <td>89990</td>\n",
       "    </tr>\n",
       "    <tr>\n",
       "      <th>mean</th>\n",
       "      <td>50000.500000</td>\n",
       "      <td>NaN</td>\n",
       "      <td>NaN</td>\n",
       "      <td>41.029410</td>\n",
       "      <td>NaN</td>\n",
       "      <td>NaN</td>\n",
       "      <td>4.476070</td>\n",
       "      <td>NaN</td>\n",
       "      <td>2.995430</td>\n",
       "      <td>6403.211000</td>\n",
       "      <td>44.956950</td>\n",
       "      <td>24.431170</td>\n",
       "      <td>14.514930</td>\n",
       "      <td>7.008550</td>\n",
       "      <td>50.090500</td>\n",
       "      <td>10.013560</td>\n",
       "      <td>49.506060</td>\n",
       "      <td>0.999720</td>\n",
       "      <td>2.999088</td>\n",
       "      <td>NaN</td>\n",
       "    </tr>\n",
       "    <tr>\n",
       "      <th>std</th>\n",
       "      <td>28867.657797</td>\n",
       "      <td>NaN</td>\n",
       "      <td>NaN</td>\n",
       "      <td>11.244121</td>\n",
       "      <td>NaN</td>\n",
       "      <td>NaN</td>\n",
       "      <td>2.869336</td>\n",
       "      <td>NaN</td>\n",
       "      <td>1.414726</td>\n",
       "      <td>1372.508717</td>\n",
       "      <td>8.942003</td>\n",
       "      <td>14.469584</td>\n",
       "      <td>8.664026</td>\n",
       "      <td>4.331591</td>\n",
       "      <td>35.351157</td>\n",
       "      <td>5.495405</td>\n",
       "      <td>28.890383</td>\n",
       "      <td>0.815872</td>\n",
       "      <td>1.150719</td>\n",
       "      <td>NaN</td>\n",
       "    </tr>\n",
       "    <tr>\n",
       "      <th>min</th>\n",
       "      <td>1.000000</td>\n",
       "      <td>NaN</td>\n",
       "      <td>NaN</td>\n",
       "      <td>22.000000</td>\n",
       "      <td>NaN</td>\n",
       "      <td>NaN</td>\n",
       "      <td>0.000000</td>\n",
       "      <td>NaN</td>\n",
       "      <td>1.000000</td>\n",
       "      <td>3850.000000</td>\n",
       "      <td>30.000000</td>\n",
       "      <td>0.000000</td>\n",
       "      <td>0.000000</td>\n",
       "      <td>0.000000</td>\n",
       "      <td>0.000000</td>\n",
       "      <td>1.000000</td>\n",
       "      <td>0.000000</td>\n",
       "      <td>0.000000</td>\n",
       "      <td>1.000000</td>\n",
       "      <td>NaN</td>\n",
       "    </tr>\n",
       "    <tr>\n",
       "      <th>25%</th>\n",
       "      <td>25000.750000</td>\n",
       "      <td>NaN</td>\n",
       "      <td>NaN</td>\n",
       "      <td>31.000000</td>\n",
       "      <td>NaN</td>\n",
       "      <td>NaN</td>\n",
       "      <td>2.000000</td>\n",
       "      <td>NaN</td>\n",
       "      <td>2.000000</td>\n",
       "      <td>5250.000000</td>\n",
       "      <td>37.000000</td>\n",
       "      <td>12.000000</td>\n",
       "      <td>7.000000</td>\n",
       "      <td>3.000000</td>\n",
       "      <td>25.000000</td>\n",
       "      <td>5.000000</td>\n",
       "      <td>25.000000</td>\n",
       "      <td>0.000000</td>\n",
       "      <td>2.010000</td>\n",
       "      <td>NaN</td>\n",
       "    </tr>\n",
       "    <tr>\n",
       "      <th>50%</th>\n",
       "      <td>50000.500000</td>\n",
       "      <td>NaN</td>\n",
       "      <td>NaN</td>\n",
       "      <td>41.000000</td>\n",
       "      <td>NaN</td>\n",
       "      <td>NaN</td>\n",
       "      <td>4.000000</td>\n",
       "      <td>NaN</td>\n",
       "      <td>3.000000</td>\n",
       "      <td>6500.000000</td>\n",
       "      <td>45.000000</td>\n",
       "      <td>24.000000</td>\n",
       "      <td>15.000000</td>\n",
       "      <td>7.000000</td>\n",
       "      <td>50.000000</td>\n",
       "      <td>10.000000</td>\n",
       "      <td>49.000000</td>\n",
       "      <td>1.000000</td>\n",
       "      <td>3.000000</td>\n",
       "      <td>NaN</td>\n",
       "    </tr>\n",
       "    <tr>\n",
       "      <th>75%</th>\n",
       "      <td>75000.250000</td>\n",
       "      <td>NaN</td>\n",
       "      <td>NaN</td>\n",
       "      <td>51.000000</td>\n",
       "      <td>NaN</td>\n",
       "      <td>NaN</td>\n",
       "      <td>7.000000</td>\n",
       "      <td>NaN</td>\n",
       "      <td>4.000000</td>\n",
       "      <td>7500.000000</td>\n",
       "      <td>53.000000</td>\n",
       "      <td>37.000000</td>\n",
       "      <td>22.000000</td>\n",
       "      <td>11.000000</td>\n",
       "      <td>75.000000</td>\n",
       "      <td>15.000000</td>\n",
       "      <td>75.000000</td>\n",
       "      <td>2.000000</td>\n",
       "      <td>3.990000</td>\n",
       "      <td>NaN</td>\n",
       "    </tr>\n",
       "    <tr>\n",
       "      <th>max</th>\n",
       "      <td>100000.000000</td>\n",
       "      <td>NaN</td>\n",
       "      <td>NaN</td>\n",
       "      <td>60.000000</td>\n",
       "      <td>NaN</td>\n",
       "      <td>NaN</td>\n",
       "      <td>10.000000</td>\n",
       "      <td>NaN</td>\n",
       "      <td>5.000000</td>\n",
       "      <td>9000.000000</td>\n",
       "      <td>60.000000</td>\n",
       "      <td>49.000000</td>\n",
       "      <td>29.000000</td>\n",
       "      <td>14.000000</td>\n",
       "      <td>100.000000</td>\n",
       "      <td>19.000000</td>\n",
       "      <td>99.000000</td>\n",
       "      <td>2.000000</td>\n",
       "      <td>5.000000</td>\n",
       "      <td>NaN</td>\n",
       "    </tr>\n",
       "  </tbody>\n",
       "</table>\n",
       "</div>"
      ],
      "text/plain": [
       "          Employee_ID Department  Gender            Age   Job_Title  \\\n",
       "count   100000.000000     100000  100000  100000.000000      100000   \n",
       "unique            NaN          9       3            NaN           7   \n",
       "top               NaN  Marketing    Male            NaN  Specialist   \n",
       "freq              NaN      11216   48031            NaN       14507   \n",
       "mean     50000.500000        NaN     NaN      41.029410         NaN   \n",
       "std      28867.657797        NaN     NaN      11.244121         NaN   \n",
       "min          1.000000        NaN     NaN      22.000000         NaN   \n",
       "25%      25000.750000        NaN     NaN      31.000000         NaN   \n",
       "50%      50000.500000        NaN     NaN      41.000000         NaN   \n",
       "75%      75000.250000        NaN     NaN      51.000000         NaN   \n",
       "max     100000.000000        NaN     NaN      60.000000         NaN   \n",
       "\n",
       "                         Hire_Date  Years_At_Company Education_Level  \\\n",
       "count                       100000     100000.000000          100000   \n",
       "unique                        3650               NaN               4   \n",
       "top     2020-09-29 08:03:05.556036               NaN        Bachelor   \n",
       "freq                            46               NaN           50041   \n",
       "mean                           NaN          4.476070             NaN   \n",
       "std                            NaN          2.869336             NaN   \n",
       "min                            NaN          0.000000             NaN   \n",
       "25%                            NaN          2.000000             NaN   \n",
       "50%                            NaN          4.000000             NaN   \n",
       "75%                            NaN          7.000000             NaN   \n",
       "max                            NaN         10.000000             NaN   \n",
       "\n",
       "        Performance_Score  Monthly_Salary  Work_Hours_Per_Week  \\\n",
       "count       100000.000000   100000.000000        100000.000000   \n",
       "unique                NaN             NaN                  NaN   \n",
       "top                   NaN             NaN                  NaN   \n",
       "freq                  NaN             NaN                  NaN   \n",
       "mean             2.995430     6403.211000            44.956950   \n",
       "std              1.414726     1372.508717             8.942003   \n",
       "min              1.000000     3850.000000            30.000000   \n",
       "25%              2.000000     5250.000000            37.000000   \n",
       "50%              3.000000     6500.000000            45.000000   \n",
       "75%              4.000000     7500.000000            53.000000   \n",
       "max              5.000000     9000.000000            60.000000   \n",
       "\n",
       "        Projects_Handled  Overtime_Hours      Sick_Days  \\\n",
       "count      100000.000000   100000.000000  100000.000000   \n",
       "unique               NaN             NaN            NaN   \n",
       "top                  NaN             NaN            NaN   \n",
       "freq                 NaN             NaN            NaN   \n",
       "mean           24.431170       14.514930       7.008550   \n",
       "std            14.469584        8.664026       4.331591   \n",
       "min             0.000000        0.000000       0.000000   \n",
       "25%            12.000000        7.000000       3.000000   \n",
       "50%            24.000000       15.000000       7.000000   \n",
       "75%            37.000000       22.000000      11.000000   \n",
       "max            49.000000       29.000000      14.000000   \n",
       "\n",
       "        Remote_Work_Frequency      Team_Size  Training_Hours     Promotions  \\\n",
       "count           100000.000000  100000.000000   100000.000000  100000.000000   \n",
       "unique                    NaN            NaN             NaN            NaN   \n",
       "top                       NaN            NaN             NaN            NaN   \n",
       "freq                      NaN            NaN             NaN            NaN   \n",
       "mean                50.090500      10.013560       49.506060       0.999720   \n",
       "std                 35.351157       5.495405       28.890383       0.815872   \n",
       "min                  0.000000       1.000000        0.000000       0.000000   \n",
       "25%                 25.000000       5.000000       25.000000       0.000000   \n",
       "50%                 50.000000      10.000000       49.000000       1.000000   \n",
       "75%                 75.000000      15.000000       75.000000       2.000000   \n",
       "max                100.000000      19.000000       99.000000       2.000000   \n",
       "\n",
       "        Employee_Satisfaction_Score Resigned  \n",
       "count                 100000.000000   100000  \n",
       "unique                          NaN        2  \n",
       "top                             NaN    False  \n",
       "freq                            NaN    89990  \n",
       "mean                       2.999088      NaN  \n",
       "std                        1.150719      NaN  \n",
       "min                        1.000000      NaN  \n",
       "25%                        2.010000      NaN  \n",
       "50%                        3.000000      NaN  \n",
       "75%                        3.990000      NaN  \n",
       "max                        5.000000      NaN  "
      ]
     },
     "execution_count": 58,
     "metadata": {},
     "output_type": "execute_result"
    }
   ],
   "source": [
    "df_employee.describe(include='all')"
   ]
  },
  {
   "cell_type": "markdown",
   "id": "f8036246-57fb-4480-9cb1-3dc9707ecf48",
   "metadata": {},
   "source": [
    "## 4.Khi-deux (Chi-Square Test)\n",
    " La satisfaction des employés dépend-elle du\r\n",
    " département ?"
   ]
  },
  {
   "cell_type": "code",
   "execution_count": 64,
   "id": "65ff74f4-c47f-44ed-96c3-3c3ea975dd0c",
   "metadata": {},
   "outputs": [],
   "source": [
    "df_sous_categorie = df_employee[['Department', 'Employee_Satisfaction_Score']]"
   ]
  },
  {
   "cell_type": "code",
   "execution_count": 74,
   "id": "f74fcc76-4892-4fed-8b34-3c0afc7ec59d",
   "metadata": {},
   "outputs": [
    {
     "data": {
      "text/html": [
       "<div>\n",
       "<style scoped>\n",
       "    .dataframe tbody tr th:only-of-type {\n",
       "        vertical-align: middle;\n",
       "    }\n",
       "\n",
       "    .dataframe tbody tr th {\n",
       "        vertical-align: top;\n",
       "    }\n",
       "\n",
       "    .dataframe thead th {\n",
       "        text-align: right;\n",
       "    }\n",
       "</style>\n",
       "<table border=\"1\" class=\"dataframe\">\n",
       "  <thead>\n",
       "    <tr style=\"text-align: right;\">\n",
       "      <th></th>\n",
       "      <th></th>\n",
       "    </tr>\n",
       "    <tr>\n",
       "      <th>Department</th>\n",
       "      <th>Employee_Satisfaction_Score</th>\n",
       "    </tr>\n",
       "  </thead>\n",
       "  <tbody>\n",
       "    <tr>\n",
       "      <th>Customer Support</th>\n",
       "      <th>32992.78</th>\n",
       "    </tr>\n",
       "    <tr>\n",
       "      <th>Engineering</th>\n",
       "      <th>32899.82</th>\n",
       "    </tr>\n",
       "    <tr>\n",
       "      <th>Finance</th>\n",
       "      <th>33644.31</th>\n",
       "    </tr>\n",
       "    <tr>\n",
       "      <th>HR</th>\n",
       "      <th>32826.39</th>\n",
       "    </tr>\n",
       "    <tr>\n",
       "      <th>IT</th>\n",
       "      <th>33651.74</th>\n",
       "    </tr>\n",
       "    <tr>\n",
       "      <th>Legal</th>\n",
       "      <th>33187.57</th>\n",
       "    </tr>\n",
       "    <tr>\n",
       "      <th>Marketing</th>\n",
       "      <th>33581.45</th>\n",
       "    </tr>\n",
       "    <tr>\n",
       "      <th>Operations</th>\n",
       "      <th>33832.92</th>\n",
       "    </tr>\n",
       "    <tr>\n",
       "      <th>Sales</th>\n",
       "      <th>33291.86</th>\n",
       "    </tr>\n",
       "  </tbody>\n",
       "</table>\n",
       "</div>"
      ],
      "text/plain": [
       "Empty DataFrame\n",
       "Columns: []\n",
       "Index: [(Customer Support, 32992.78), (Engineering, 32899.82), (Finance, 33644.31), (HR, 32826.39), (IT, 33651.74), (Legal, 33187.57), (Marketing, 33581.45), (Operations, 33832.92), (Sales, 33291.86)]"
      ]
     },
     "execution_count": 74,
     "metadata": {},
     "output_type": "execute_result"
    }
   ],
   "source": [
    "df_sous_categorie = df_sous_categorie.groupby(['Department', 'Employee_Satisfaction_Score']).count()\n",
    "df_sous_categorie"
   ]
  },
  {
   "cell_type": "code",
   "execution_count": 80,
   "id": "3b438abd-9945-4ac3-9e8c-357ef909070f",
   "metadata": {},
   "outputs": [],
   "source": [
    "bins = np.linspace(1,5,num=4)\n",
    "labels = ['insatisfait', 'satisfait', 'tres satisfait']"
   ]
  },
  {
   "cell_type": "code",
   "execution_count": 82,
   "id": "e8cbbdd8-8542-4488-922b-c293222d589d",
   "metadata": {},
   "outputs": [],
   "source": [
    "df_employee['Catégorie_satisfaction'] = pd.cut(df_employee['Employee_Satisfaction_Score'], bins=bins, labels=labels)"
   ]
  },
  {
   "cell_type": "code",
   "execution_count": 84,
   "id": "6fa9740f-7a34-46fe-8484-df5990146466",
   "metadata": {},
   "outputs": [
    {
     "data": {
      "text/plain": [
       "0      satisfait\n",
       "1    insatisfait\n",
       "2      satisfait\n",
       "3    insatisfait\n",
       "4    insatisfait\n",
       "Name: Catégorie_satisfaction, dtype: category\n",
       "Categories (3, object): ['insatisfait' < 'satisfait' < 'tres satisfait']"
      ]
     },
     "execution_count": 84,
     "metadata": {},
     "output_type": "execute_result"
    }
   ],
   "source": [
    "df_employee['Catégorie_satisfaction'].head()"
   ]
  },
  {
   "cell_type": "code",
   "execution_count": 86,
   "id": "f08672eb-4b58-411a-a39e-3def28fd4615",
   "metadata": {},
   "outputs": [],
   "source": [
    "df_satisfaction = df_employee[['Department', 'Catégorie_satisfaction']]"
   ]
  },
  {
   "cell_type": "code",
   "execution_count": 110,
   "id": "a3de25bc-92b6-4936-9c20-b5c14edce287",
   "metadata": {},
   "outputs": [],
   "source": [
    "tableau_avec_marges = pd.crosstab(\n",
    "    df_employee['Department'], \n",
    "    df_employee['Catégorie_satisfaction'], \n",
    ")"
   ]
  },
  {
   "cell_type": "code",
   "execution_count": 112,
   "id": "62dd391a-747d-4d7f-be96-33e10bcff4a0",
   "metadata": {},
   "outputs": [
    {
     "data": {
      "text/html": [
       "<div>\n",
       "<style scoped>\n",
       "    .dataframe tbody tr th:only-of-type {\n",
       "        vertical-align: middle;\n",
       "    }\n",
       "\n",
       "    .dataframe tbody tr th {\n",
       "        vertical-align: top;\n",
       "    }\n",
       "\n",
       "    .dataframe thead th {\n",
       "        text-align: right;\n",
       "    }\n",
       "</style>\n",
       "<table border=\"1\" class=\"dataframe\">\n",
       "  <thead>\n",
       "    <tr style=\"text-align: right;\">\n",
       "      <th>Catégorie_satisfaction</th>\n",
       "      <th>insatisfait</th>\n",
       "      <th>satisfait</th>\n",
       "      <th>tres satisfait</th>\n",
       "    </tr>\n",
       "    <tr>\n",
       "      <th>Department</th>\n",
       "      <th></th>\n",
       "      <th></th>\n",
       "      <th></th>\n",
       "    </tr>\n",
       "  </thead>\n",
       "  <tbody>\n",
       "    <tr>\n",
       "      <th>Customer Support</th>\n",
       "      <td>3785</td>\n",
       "      <td>3716</td>\n",
       "      <td>3599</td>\n",
       "    </tr>\n",
       "    <tr>\n",
       "      <th>Engineering</th>\n",
       "      <td>3605</td>\n",
       "      <td>3703</td>\n",
       "      <td>3633</td>\n",
       "    </tr>\n",
       "    <tr>\n",
       "      <th>Finance</th>\n",
       "      <td>3668</td>\n",
       "      <td>3762</td>\n",
       "      <td>3752</td>\n",
       "    </tr>\n",
       "    <tr>\n",
       "      <th>HR</th>\n",
       "      <td>3682</td>\n",
       "      <td>3687</td>\n",
       "      <td>3579</td>\n",
       "    </tr>\n",
       "    <tr>\n",
       "      <th>IT</th>\n",
       "      <td>3631</td>\n",
       "      <td>3686</td>\n",
       "      <td>3801</td>\n",
       "    </tr>\n",
       "    <tr>\n",
       "      <th>Legal</th>\n",
       "      <td>3726</td>\n",
       "      <td>3708</td>\n",
       "      <td>3663</td>\n",
       "    </tr>\n",
       "    <tr>\n",
       "      <th>Marketing</th>\n",
       "      <td>3727</td>\n",
       "      <td>3810</td>\n",
       "      <td>3664</td>\n",
       "    </tr>\n",
       "    <tr>\n",
       "      <th>Operations</th>\n",
       "      <td>3577</td>\n",
       "      <td>3790</td>\n",
       "      <td>3800</td>\n",
       "    </tr>\n",
       "    <tr>\n",
       "      <th>Sales</th>\n",
       "      <td>3743</td>\n",
       "      <td>3654</td>\n",
       "      <td>3706</td>\n",
       "    </tr>\n",
       "  </tbody>\n",
       "</table>\n",
       "</div>"
      ],
      "text/plain": [
       "Catégorie_satisfaction  insatisfait  satisfait  tres satisfait\n",
       "Department                                                    \n",
       "Customer Support               3785       3716            3599\n",
       "Engineering                    3605       3703            3633\n",
       "Finance                        3668       3762            3752\n",
       "HR                             3682       3687            3579\n",
       "IT                             3631       3686            3801\n",
       "Legal                          3726       3708            3663\n",
       "Marketing                      3727       3810            3664\n",
       "Operations                     3577       3790            3800\n",
       "Sales                          3743       3654            3706"
      ]
     },
     "execution_count": 112,
     "metadata": {},
     "output_type": "execute_result"
    }
   ],
   "source": [
    "tableau_avec_marges"
   ]
  },
  {
   "cell_type": "code",
   "execution_count": 114,
   "id": "72a3a0db-ae10-482f-b48c-ebf886795cd9",
   "metadata": {},
   "outputs": [
    {
     "name": "stdout",
     "output_type": "stream",
     "text": [
      "Statistique Khi-deux : 24.367\n",
      "P-value : 0.0818\n",
      "Degrés de liberté : 16\n",
      "Fréquences attendues sous H0 :\n",
      " [[3684.25248105 3725.60361317 3690.14390579]\n",
      " [3631.47805362 3672.23685871 3637.28508768]\n",
      " [3711.46948136 3753.12609031 3717.40442833]\n",
      " [3633.80145608 3674.58633846 3639.61220545]\n",
      " [3690.22694453 3731.64513254 3696.12792293]\n",
      " [3683.25673713 3724.59669327 3689.14656959]\n",
      " [3717.77585948 3759.50324965 3723.72089087]\n",
      " [3706.49076179 3748.09149083 3712.41774738]\n",
      " [3685.24822496 3726.61053306 3691.14124198]]\n"
     ]
    }
   ],
   "source": [
    "chi2, p_value, dof, expected = chi2_contingency(tableau_avec_marges)\n",
    "\n",
    "print(f\"Statistique Khi-deux : {chi2:.3f}\")\n",
    "print(f\"P-value : {p_value:.4f}\")\n",
    "print(f\"Degrés de liberté : {dof}\")\n",
    "print(\"Fréquences attendues sous H0 :\\n\", expected)"
   ]
  },
  {
   "cell_type": "markdown",
   "id": "71524da1-6bd0-4edd-81ad-3525dac29d96",
   "metadata": {},
   "source": [
    "Avec une p-value = 0.0818>0.05 nous pouvons conclure que la satisfaction des employés est indépendante du département."
   ]
  },
  {
   "cell_type": "code",
   "execution_count": 117,
   "id": "9321ab07-a21d-4532-958b-50dca489b60e",
   "metadata": {},
   "outputs": [
    {
     "name": "stdout",
     "output_type": "stream",
     "text": [
      "V de Cramer = 0.011\n"
     ]
    }
   ],
   "source": [
    "n = tableau_avec_marges.sum().sum()  # Effectif total\n",
    "min_dim = min(tableau_avec_marges.shape) - 1  # min(r-1, c-1)\n",
    "\n",
    "V = np.sqrt(chi2 / (n * min_dim))\n",
    "\n",
    "print(f\"V de Cramer = {V:.3f}\")"
   ]
  },
  {
   "cell_type": "markdown",
   "id": "cd23732c-1e61-4797-b378-38d539cc5e85",
   "metadata": {},
   "source": [
    "ceci nous montre une association faible entre la satisfaction des employés et leur département."
   ]
  },
  {
   "cell_type": "markdown",
   "id": "19bdab82-1b84-4212-83f9-c7f2077406da",
   "metadata": {},
   "source": [
    "## 5. ANOVA (Analyse de Variance)"
   ]
  },
  {
   "cell_type": "markdown",
   "id": "09d8a983-2b13-414e-aac2-d7055b356d6f",
   "metadata": {},
   "source": [
    "Les scores de performance diffèrent-ils selon le département ?"
   ]
  },
  {
   "cell_type": "code",
   "execution_count": 41,
   "id": "fc302d63-a385-4f5e-ad21-9fe157de892e",
   "metadata": {},
   "outputs": [],
   "source": [
    "from scipy.stats import f_oneway"
   ]
  },
  {
   "cell_type": "code",
   "execution_count": 43,
   "id": "deb58d2e-5543-4881-a510-3ac5fdd8aa48",
   "metadata": {},
   "outputs": [],
   "source": [
    "import statsmodels.api as sm"
   ]
  },
  {
   "cell_type": "code",
   "execution_count": 45,
   "id": "1ff80f11-b085-42d7-bc9a-d6d46a2d3b06",
   "metadata": {},
   "outputs": [],
   "source": [
    "from statsmodels.formula.api import ols"
   ]
  },
  {
   "cell_type": "code",
   "execution_count": 68,
   "id": "41d17157-2984-4347-ac39-6b3d22b16d04",
   "metadata": {},
   "outputs": [],
   "source": [
    "from scipy import stats"
   ]
  },
  {
   "cell_type": "code",
   "execution_count": 47,
   "id": "f70b0f4a-a32c-4e9b-a435-f5893c8e8cc7",
   "metadata": {},
   "outputs": [],
   "source": [
    "moore_lm = ols('Performance_Score ~ C(Department)',data=df_employee).fit()"
   ]
  },
  {
   "cell_type": "code",
   "execution_count": 53,
   "id": "d164e752-06af-440e-af6e-e1bca45958c7",
   "metadata": {},
   "outputs": [],
   "source": [
    "table = sm.stats.anova_lm(moore_lm, typ=2)"
   ]
  },
  {
   "cell_type": "code",
   "execution_count": 55,
   "id": "6367e3f1-6339-43c8-bc68-a77623f741e5",
   "metadata": {},
   "outputs": [
    {
     "name": "stdout",
     "output_type": "stream",
     "text": [
      "                     sum_sq       df         F    PR(>F)\n",
      "C(Department)      15.33215      8.0  0.957562  0.467323\n",
      "Residual       200127.57936  99991.0       NaN       NaN\n"
     ]
    }
   ],
   "source": [
    "print(table)"
   ]
  },
  {
   "cell_type": "code",
   "execution_count": 35,
   "id": "c63d639c-f9e3-46e0-98f2-3bcdad804044",
   "metadata": {},
   "outputs": [
    {
     "data": {
      "text/plain": [
       "array(['IT', 'Finance', 'Customer Support', 'Engineering', 'Marketing',\n",
       "       'HR', 'Operations', 'Sales', 'Legal'], dtype=object)"
      ]
     },
     "execution_count": 35,
     "metadata": {},
     "output_type": "execute_result"
    }
   ],
   "source": [
    "df_employee['Department'].unique()"
   ]
  },
  {
   "cell_type": "code",
   "execution_count": 57,
   "id": "959ac1f7-e21e-44d1-8251-4565f718b0fe",
   "metadata": {},
   "outputs": [
    {
     "data": {
      "text/plain": [
       "F_onewayResult(statistic=0.9575622805473877, pvalue=0.467322553218532)"
      ]
     },
     "execution_count": 57,
     "metadata": {},
     "output_type": "execute_result"
    }
   ],
   "source": [
    "f_oneway(df_employee['Performance_Score'][df_employee['Department'] == 'IT'], df_employee['Performance_Score'][df_employee['Department'] == 'Finance'], \n",
    "         df_employee['Performance_Score'][df_employee['Department'] == 'Customer Support'],df_employee['Performance_Score'][df_employee['Department'] == 'Engineering'],\n",
    "        df_employee['Performance_Score'][df_employee['Department'] == 'Marketing'],df_employee['Performance_Score'][df_employee['Department'] == 'HR'],\n",
    "        df_employee['Performance_Score'][df_employee['Department'] == 'Operations'],df_employee['Performance_Score'][df_employee['Department'] == 'Sales'],\n",
    "        df_employee['Performance_Score'][df_employee['Department'] == 'Legal'])"
   ]
  },
  {
   "cell_type": "markdown",
   "id": "4314579b-105b-4f0e-bd0c-f345448c9b8e",
   "metadata": {},
   "source": [
    "La statistique du test F est de 0.9576 et la valeur p correspondante est de 0,4673. Puisque la valeur p n’est pas inférieure à 0,05, nous ne parvenons pas à rejeter l’hypothèse nulle. Cela signifie que nous n’avons pas suffisamment de preuves pour affirmer qu’il existe une différence dans les scores de performance entre les départements."
   ]
  },
  {
   "cell_type": "markdown",
   "id": "bdca8323-45b5-4a55-b10d-5b5fc3caf432",
   "metadata": {},
   "source": [
    "## 6. Tests de normalité"
   ]
  },
  {
   "cell_type": "markdown",
   "id": "8e9ca2ae-0e05-42ab-92d3-2c1a2388aa54",
   "metadata": {},
   "source": [
    "**Shapiro-Wilk**: Vérifie si un échantillon suit une distribution  normale."
   ]
  },
  {
   "cell_type": "code",
   "execution_count": 70,
   "id": "027c3bd2-161e-4adb-bd4f-f27ede7b4d69",
   "metadata": {},
   "outputs": [
    {
     "name": "stderr",
     "output_type": "stream",
     "text": [
      "C:\\Users\\mabou\\anaconda3\\Lib\\site-packages\\scipy\\stats\\_axis_nan_policy.py:531: UserWarning: scipy.stats.shapiro: For N > 5000, computed p-value may not be accurate. Current N is 100000.\n",
      "  res = hypotest_fun_out(*samples, **kwds)\n"
     ]
    }
   ],
   "source": [
    "shapiro_test = stats.shapiro(df_employee['Performance_Score'])"
   ]
  },
  {
   "cell_type": "code",
   "execution_count": 72,
   "id": "8dc4f95f-27d4-4281-b003-72d0f8d2a585",
   "metadata": {},
   "outputs": [
    {
     "data": {
      "text/plain": [
       "ShapiroResult(statistic=0.8878214015663503, pvalue=1.8100190486204432e-115)"
      ]
     },
     "execution_count": 72,
     "metadata": {},
     "output_type": "execute_result"
    }
   ],
   "source": [
    "shapiro_test"
   ]
  },
  {
   "cell_type": "markdown",
   "id": "71f6eec5-5810-46b2-8d9b-804920dd0302",
   "metadata": {},
   "source": [
    "La valeur p du test est de 1.8100190486204432e-115 . Puisque cette valeur est inférieure à 0,05, nous disposons de suffisamment de preuves pour affirmer que les Scores de Performence ne proviennent pas d’une population normalement distribuée."
   ]
  },
  {
   "cell_type": "code",
   "execution_count": 74,
   "id": "04322244-ee5b-4783-a662-e38821608be1",
   "metadata": {},
   "outputs": [
    {
     "name": "stderr",
     "output_type": "stream",
     "text": [
      "C:\\Users\\mabou\\anaconda3\\Lib\\site-packages\\scipy\\stats\\_axis_nan_policy.py:531: UserWarning: scipy.stats.shapiro: For N > 5000, computed p-value may not be accurate. Current N is 100000.\n",
      "  res = hypotest_fun_out(*samples, **kwds)\n"
     ]
    }
   ],
   "source": [
    "shapiro_test_1 = stats.shapiro(df_employee['Monthly_Salary'])"
   ]
  },
  {
   "cell_type": "code",
   "execution_count": 76,
   "id": "8b2919b6-c010-42be-9f21-e3a5f8f0e5db",
   "metadata": {},
   "outputs": [
    {
     "data": {
      "text/plain": [
       "ShapiroResult(statistic=0.9723631207982821, pvalue=7.683399663207692e-80)"
      ]
     },
     "execution_count": 76,
     "metadata": {},
     "output_type": "execute_result"
    }
   ],
   "source": [
    "shapiro_test_1"
   ]
  },
  {
   "cell_type": "markdown",
   "id": "5d67afce-f4da-465a-ad70-546137222bd9",
   "metadata": {},
   "source": [
    "La valeur p du test est de 7.683399663207692e-80. Puisque cette valeur est inférieure à 0,05, nous disposons de suffisamment de preuves pour affirmer que le Salaire mensuel ne proviennent pas d’une population normalement distribuée."
   ]
  },
  {
   "cell_type": "code",
   "execution_count": 81,
   "id": "5100fe94-6664-4792-8104-c6902cd5d0c1",
   "metadata": {},
   "outputs": [
    {
     "name": "stderr",
     "output_type": "stream",
     "text": [
      "C:\\Users\\mabou\\anaconda3\\Lib\\site-packages\\scipy\\stats\\_axis_nan_policy.py:531: UserWarning: scipy.stats.shapiro: For N > 5000, computed p-value may not be accurate. Current N is 100000.\n",
      "  res = hypotest_fun_out(*samples, **kwds)\n"
     ]
    }
   ],
   "source": [
    "shapiro_test_2 = stats.shapiro(df_employee['Work_Hours_Per_Week'])"
   ]
  },
  {
   "cell_type": "code",
   "execution_count": 83,
   "id": "ed8defda-cd35-4bb6-baa3-8ae0c43acdf6",
   "metadata": {},
   "outputs": [
    {
     "data": {
      "text/plain": [
       "ShapiroResult(statistic=0.9523560335496379, pvalue=6.745434886603268e-93)"
      ]
     },
     "execution_count": 83,
     "metadata": {},
     "output_type": "execute_result"
    }
   ],
   "source": [
    "shapiro_test_2"
   ]
  },
  {
   "cell_type": "markdown",
   "id": "fe045798-1910-4a70-9c41-7cfd85b7b854",
   "metadata": {},
   "source": [
    "La valeur p du test est de 7.683399663207692e-80. Puisque cette valeur est inférieure à 0,05, nous disposons de suffisamment de preuves pour affirmer que les heures de travail hebdomadaire ne proviennent pas d’une population normalement distribuée."
   ]
  },
  {
   "cell_type": "markdown",
   "id": "84c60723-a8d0-4308-a8ec-6bbf0f023f03",
   "metadata": {},
   "source": [
    "## 7. Visualisation"
   ]
  },
  {
   "cell_type": "markdown",
   "id": "6a1b95cb-939a-4790-8c75-8fee0eae8d0e",
   "metadata": {},
   "source": [
    "**Box plot**"
   ]
  },
  {
   "cell_type": "code",
   "execution_count": 100,
   "id": "082f0f6b-04d8-4d9b-855e-5d9325a7deae",
   "metadata": {},
   "outputs": [
    {
     "data": {
      "text/plain": [
       "<Axes: ylabel='Monthly_Salary'>"
      ]
     },
     "execution_count": 100,
     "metadata": {},
     "output_type": "execute_result"
    },
    {
     "data": {
      "image/png": "[encoded data removed]",
      "text/plain": [
       "<Figure size 640x480 with 1 Axes>"
      ]
     },
     "metadata": {},
     "output_type": "display_data"
    }
   ],
   "source": [
    "sns.boxplot(data=df_employee, y=\"Monthly_Salary\")"
   ]
  },
  {
   "cell_type": "code",
   "execution_count": 124,
   "id": "567d13ed-66bc-48c3-aa73-ff781af9bb21",
   "metadata": {},
   "outputs": [
    {
     "data": {
      "image/png": "[encoded data removed]",
      "text/plain": [
       "<Figure size 1000x500 with 1 Axes>"
      ]
     },
     "metadata": {},
     "output_type": "display_data"
    }
   ],
   "source": [
    "plt.figure(figsize=(10, 5))\n",
    "sns.boxplot(data=df_employee, x=\"Department\", y=\"Monthly_Salary\")\n",
    "plt.xticks(rotation=45)\n",
    "plt.show()"
   ]
  },
  {
   "cell_type": "markdown",
   "id": "b098b19c-20b1-4cbc-8d1d-356454f1a5bb",
   "metadata": {},
   "source": [
    "Ce graphique nous permet de conclure que la distribution des salaires est la même dans tous les départements."
   ]
  },
  {
   "cell_type": "markdown",
   "id": "9851e49d-d164-4de3-8c50-706b9181151c",
   "metadata": {},
   "source": [
    "**Barplot**"
   ]
  },
  {
   "cell_type": "code",
   "execution_count": 135,
   "id": "f3a5dfa9-c8dd-4250-97fa-b9b0b735d028",
   "metadata": {},
   "outputs": [
    {
     "data": {
      "image/png": "[encoded data removed]",
      "text/plain": [
       "<Figure size 1000x500 with 1 Axes>"
      ]
     },
     "metadata": {},
     "output_type": "display_data"
    }
   ],
   "source": [
    "plt.figure(figsize=(10, 5))\n",
    "sns.barplot(data=df_employee, x=\"Department\", y=\"Employee_Satisfaction_Score\")\n",
    "plt.xticks(rotation=45)\n",
    "plt.show()"
   ]
  },
  {
   "cell_type": "markdown",
   "id": "e0cdde4b-b79f-4dfe-b22c-2f988d5d3f48",
   "metadata": {},
   "source": [
    "Ce graphique nous permet de conclure que le score de satisfaction des employés est globalement le même dans tous les départements."
   ]
  },
  {
   "cell_type": "code",
   "execution_count": 140,
   "id": "586f0ee9-a044-4d7b-944f-e0f75dd8fc95",
   "metadata": {},
   "outputs": [
    {
     "data": {
      "image/png": "[encoded data removed]",
      "text/plain": [
       "<Figure size 1000x500 with 1 Axes>"
      ]
     },
     "metadata": {},
     "output_type": "display_data"
    }
   ],
   "source": [
    "plt.figure(figsize=(10, 5))\n",
    "sns.barplot(data=df_employee, x=\"Department\", y=\"Performance_Score\")\n",
    "plt.xticks(rotation=45)\n",
    "plt.show()"
   ]
  },
  {
   "cell_type": "markdown",
   "id": "ad6a13e2-616a-497f-a66d-e5f425f4b28e",
   "metadata": {},
   "source": [
    "Ce graphique nous permet de conclure que le score de Performance est globalement le même dans tous les départements."
   ]
  }
 ],
 "metadata": {
  "kernelspec": {
   "display_name": "Python 3 (ipykernel)",
   "language": "python",
   "name": "python3"
  },
  "language_info": {
   "codemirror_mode": {
    "name": "ipython",
    "version": 3
   },
   "file_extension": ".py",
   "mimetype": "text/x-python",
   "name": "python",
   "nbconvert_exporter": "python",
   "pygments_lexer": "ipython3",
   "version": "3.12.4"
  }
 },
 "nbformat": 4,
 "nbformat_minor": 5
}
