{
 "cells": [
  {
   "cell_type": "markdown",
   "id": "d5d4c603-f410-4406-9175-86c5280f5133",
   "metadata": {},
   "source": [
    "# Projet 5 :  Automatiser les rapports de ventes avec SQL"
   ]
  },
  {
   "cell_type": "markdown",
   "id": "adeccf63-2db2-47f8-aa03-7b4acb8b0d30",
   "metadata": {},
   "source": [
    "##  Problématique métier\n",
    " Une entreprise souhaite produire un rapport détaillant les ventes\r\n",
    " totales par produit pour le dernier trimestre."
   ]
  },
  {
   "cell_type": "markdown",
   "id": "8a327f61-b469-4af9-a4c0-67e7a9554a8c",
   "metadata": {},
   "source": [
    "## Objectif\n",
    " Utiliser SQL pour extraire, filtrer et agréger les données nécessaires."
   ]
  },
  {
   "cell_type": "markdown",
   "id": "25497a4a-72e5-461e-8fe0-49252288af9d",
   "metadata": {},
   "source": [
    "## Chargement des bibliothéques"
   ]
  },
  {
   "cell_type": "code",
   "execution_count": null,
   "id": "d8ab079f-2059-4957-91b8-a631bea0287b",
   "metadata": {},
   "outputs": [],
   "source": [
    "import psycopg2\n",
    "import pandas as pd"
   ]
  },
  {
   "cell_type": "markdown",
   "id": "d0007ee7-221c-4666-b513-be9c9069c293",
   "metadata": {},
   "source": [
    "## Connexion à la base de données sur postgres en local"
   ]
  },
  {
   "cell_type": "code",
   "execution_count": null,
   "id": "b43750b1-4fad-4148-a02c-2a74bfbec3cb",
   "metadata": {},
   "outputs": [],
   "source": [
    "# Conectar a la base de datos\n",
    "conexion = psycopg2.connect(\n",
    "    host=\"localhost\",\n",
    "    database=\"chinook\",\n",
    "    user=\"postgres\",\n",
    "    password=\"mdrs050796\",\n",
    "    port=5432\n",
    ")\n",
    "cursor = conexion.cursor()"
   ]
  },
  {
   "cell_type": "markdown",
   "id": "6fd8d1fa-2d3e-407e-a4a4-e29194977fc3",
   "metadata": {},
   "source": [
    "##  Requêtes de base"
   ]
  },
  {
   "cell_type": "markdown",
   "id": "93a7373b-46a2-4c25-b138-482ee92cfb7e",
   "metadata": {},
   "source": [
    "1. **Clients non américains** : Fournissez une requête affichant les Clients (leurs noms complets, ID client et pays) qui ne sont pas aux\n",
    " États-Unis."
   ]
  },
  {
   "cell_type": "code",
   "execution_count": 597,
   "id": "7fb003fb-90f9-49d1-8a39-5ec081eb14fe",
   "metadata": {},
   "outputs": [
    {
     "name": "stderr",
     "output_type": "stream",
     "text": [
      "C:\\Users\\mabou\\AppData\\Local\\Temp\\ipykernel_19944\\4007774957.py:1: UserWarning: pandas only supports SQLAlchemy connectable (engine/connection) or database string URI or sqlite3 DBAPI2 connection. Other DBAPI2 objects are not tested. Please consider using SQLAlchemy.\n",
      "  df_1 = pd.read_sql_query(\"SELECT customer_id, first_name ||' '|| last_name AS NomCompletClient, country FROM customer WHERE country<>'USA'\", conexion)\n"
     ]
    }
   ],
   "source": [
    "df_1 = pd.read_sql_query(\"SELECT customer_id, first_name ||' '|| last_name AS NomCompletClient, country FROM customer WHERE country<>'USA'\", conexion)"
   ]
  },
  {
   "cell_type": "code",
   "execution_count": 599,
   "id": "406603b3-c08a-42ce-9e04-082982bfaeb4",
   "metadata": {},
   "outputs": [
    {
     "data": {
      "text/html": [
       "<div>\n",
       "<style scoped>\n",
       "    .dataframe tbody tr th:only-of-type {\n",
       "        vertical-align: middle;\n",
       "    }\n",
       "\n",
       "    .dataframe tbody tr th {\n",
       "        vertical-align: top;\n",
       "    }\n",
       "\n",
       "    .dataframe thead th {\n",
       "        text-align: right;\n",
       "    }\n",
       "</style>\n",
       "<table border=\"1\" class=\"dataframe\">\n",
       "  <thead>\n",
       "    <tr style=\"text-align: right;\">\n",
       "      <th></th>\n",
       "      <th>customer_id</th>\n",
       "      <th>nomcompletclient</th>\n",
       "      <th>country</th>\n",
       "    </tr>\n",
       "  </thead>\n",
       "  <tbody>\n",
       "    <tr>\n",
       "      <th>0</th>\n",
       "      <td>1</td>\n",
       "      <td>Luís Gonçalves</td>\n",
       "      <td>Brazil</td>\n",
       "    </tr>\n",
       "    <tr>\n",
       "      <th>1</th>\n",
       "      <td>2</td>\n",
       "      <td>Leonie Köhler</td>\n",
       "      <td>Germany</td>\n",
       "    </tr>\n",
       "    <tr>\n",
       "      <th>2</th>\n",
       "      <td>3</td>\n",
       "      <td>François Tremblay</td>\n",
       "      <td>Canada</td>\n",
       "    </tr>\n",
       "    <tr>\n",
       "      <th>3</th>\n",
       "      <td>4</td>\n",
       "      <td>Bjørn Hansen</td>\n",
       "      <td>Norway</td>\n",
       "    </tr>\n",
       "    <tr>\n",
       "      <th>4</th>\n",
       "      <td>5</td>\n",
       "      <td>František Wichterlová</td>\n",
       "      <td>Czech Republic</td>\n",
       "    </tr>\n",
       "  </tbody>\n",
       "</table>\n",
       "</div>"
      ],
      "text/plain": [
       "   customer_id       nomcompletclient         country\n",
       "0            1         Luís Gonçalves          Brazil\n",
       "1            2          Leonie Köhler         Germany\n",
       "2            3      François Tremblay          Canada\n",
       "3            4           Bjørn Hansen          Norway\n",
       "4            5  František Wichterlová  Czech Republic"
      ]
     },
     "execution_count": 599,
     "metadata": {},
     "output_type": "execute_result"
    }
   ],
   "source": [
    "df_1.head(5)"
   ]
  },
  {
   "cell_type": "code",
   "execution_count": 601,
   "id": "404fbc4a-7fd1-45d9-9c88-c2334ed245ec",
   "metadata": {},
   "outputs": [
    {
     "name": "stdout",
     "output_type": "stream",
     "text": [
      "<class 'pandas.core.frame.DataFrame'>\n",
      "RangeIndex: 46 entries, 0 to 45\n",
      "Data columns (total 3 columns):\n",
      " #   Column            Non-Null Count  Dtype \n",
      "---  ------            --------------  ----- \n",
      " 0   customer_id       46 non-null     int64 \n",
      " 1   nomcompletclient  46 non-null     object\n",
      " 2   country           46 non-null     object\n",
      "dtypes: int64(1), object(2)\n",
      "memory usage: 1.2+ KB\n"
     ]
    }
   ],
   "source": [
    "df_1.info()"
   ]
  },
  {
   "cell_type": "markdown",
   "id": "fa4c7c60-4434-4d9c-a4c0-080a33cdb663",
   "metadata": {},
   "source": [
    " 2.  **Clients brésiliens** : Fournissez une requête affichant uniquement\n",
    " les Clients provenant du Brésil."
   ]
  },
  {
   "cell_type": "code",
   "execution_count": 604,
   "id": "ac281515-f8f8-4d3a-86de-9b6cc8eebc4b",
   "metadata": {},
   "outputs": [
    {
     "name": "stderr",
     "output_type": "stream",
     "text": [
      "C:\\Users\\mabou\\AppData\\Local\\Temp\\ipykernel_19944\\4094062559.py:1: UserWarning: pandas only supports SQLAlchemy connectable (engine/connection) or database string URI or sqlite3 DBAPI2 connection. Other DBAPI2 objects are not tested. Please consider using SQLAlchemy.\n",
      "  df_2 = pd.read_sql_query(\"SELECT * FROM customer WHERE country='Brazil'\", conexion)\n"
     ]
    }
   ],
   "source": [
    "df_2 = pd.read_sql_query(\"SELECT * FROM customer WHERE country='Brazil'\", conexion)"
   ]
  },
  {
   "cell_type": "code",
   "execution_count": 606,
   "id": "6f0be12c-1a1e-49f2-aa81-2ce5ff12ca2f",
   "metadata": {},
   "outputs": [
    {
     "data": {
      "text/html": [
       "<div>\n",
       "<style scoped>\n",
       "    .dataframe tbody tr th:only-of-type {\n",
       "        vertical-align: middle;\n",
       "    }\n",
       "\n",
       "    .dataframe tbody tr th {\n",
       "        vertical-align: top;\n",
       "    }\n",
       "\n",
       "    .dataframe thead th {\n",
       "        text-align: right;\n",
       "    }\n",
       "</style>\n",
       "<table border=\"1\" class=\"dataframe\">\n",
       "  <thead>\n",
       "    <tr style=\"text-align: right;\">\n",
       "      <th></th>\n",
       "      <th>customer_id</th>\n",
       "      <th>first_name</th>\n",
       "      <th>last_name</th>\n",
       "      <th>company</th>\n",
       "      <th>address</th>\n",
       "      <th>city</th>\n",
       "      <th>state</th>\n",
       "      <th>country</th>\n",
       "      <th>postal_code</th>\n",
       "      <th>phone</th>\n",
       "      <th>fax</th>\n",
       "      <th>email</th>\n",
       "      <th>support_rep_id</th>\n",
       "    </tr>\n",
       "  </thead>\n",
       "  <tbody>\n",
       "    <tr>\n",
       "      <th>0</th>\n",
       "      <td>1</td>\n",
       "      <td>Luís</td>\n",
       "      <td>Gonçalves</td>\n",
       "      <td>Embraer - Empresa Brasileira de Aeronáutica S.A.</td>\n",
       "      <td>Av. Brigadeiro Faria Lima, 2170</td>\n",
       "      <td>São José dos Campos</td>\n",
       "      <td>SP</td>\n",
       "      <td>Brazil</td>\n",
       "      <td>12227-000</td>\n",
       "      <td>+55 (12) 3923-5555</td>\n",
       "      <td>+55 (12) 3923-5566</td>\n",
       "      <td>luisg@embraer.com.br</td>\n",
       "      <td>3</td>\n",
       "    </tr>\n",
       "    <tr>\n",
       "      <th>1</th>\n",
       "      <td>10</td>\n",
       "      <td>Eduardo</td>\n",
       "      <td>Martins</td>\n",
       "      <td>Woodstock Discos</td>\n",
       "      <td>Rua Dr. Falcão Filho, 155</td>\n",
       "      <td>São Paulo</td>\n",
       "      <td>SP</td>\n",
       "      <td>Brazil</td>\n",
       "      <td>01007-010</td>\n",
       "      <td>+55 (11) 3033-5446</td>\n",
       "      <td>+55 (11) 3033-4564</td>\n",
       "      <td>eduardo@woodstock.com.br</td>\n",
       "      <td>4</td>\n",
       "    </tr>\n",
       "    <tr>\n",
       "      <th>2</th>\n",
       "      <td>11</td>\n",
       "      <td>Alexandre</td>\n",
       "      <td>Rocha</td>\n",
       "      <td>Banco do Brasil S.A.</td>\n",
       "      <td>Av. Paulista, 2022</td>\n",
       "      <td>São Paulo</td>\n",
       "      <td>SP</td>\n",
       "      <td>Brazil</td>\n",
       "      <td>01310-200</td>\n",
       "      <td>+55 (11) 3055-3278</td>\n",
       "      <td>+55 (11) 3055-8131</td>\n",
       "      <td>alero@uol.com.br</td>\n",
       "      <td>5</td>\n",
       "    </tr>\n",
       "    <tr>\n",
       "      <th>3</th>\n",
       "      <td>12</td>\n",
       "      <td>Roberto</td>\n",
       "      <td>Almeida</td>\n",
       "      <td>Riotur</td>\n",
       "      <td>Praça Pio X, 119</td>\n",
       "      <td>Rio de Janeiro</td>\n",
       "      <td>RJ</td>\n",
       "      <td>Brazil</td>\n",
       "      <td>20040-020</td>\n",
       "      <td>+55 (21) 2271-7000</td>\n",
       "      <td>+55 (21) 2271-7070</td>\n",
       "      <td>roberto.almeida@riotur.gov.br</td>\n",
       "      <td>3</td>\n",
       "    </tr>\n",
       "    <tr>\n",
       "      <th>4</th>\n",
       "      <td>13</td>\n",
       "      <td>Fernanda</td>\n",
       "      <td>Ramos</td>\n",
       "      <td>None</td>\n",
       "      <td>Qe 7 Bloco G</td>\n",
       "      <td>Brasília</td>\n",
       "      <td>DF</td>\n",
       "      <td>Brazil</td>\n",
       "      <td>71020-677</td>\n",
       "      <td>+55 (61) 3363-5547</td>\n",
       "      <td>+55 (61) 3363-7855</td>\n",
       "      <td>fernadaramos4@uol.com.br</td>\n",
       "      <td>4</td>\n",
       "    </tr>\n",
       "  </tbody>\n",
       "</table>\n",
       "</div>"
      ],
      "text/plain": [
       "   customer_id first_name  last_name  \\\n",
       "0            1       Luís  Gonçalves   \n",
       "1           10    Eduardo    Martins   \n",
       "2           11  Alexandre      Rocha   \n",
       "3           12    Roberto    Almeida   \n",
       "4           13   Fernanda      Ramos   \n",
       "\n",
       "                                            company  \\\n",
       "0  Embraer - Empresa Brasileira de Aeronáutica S.A.   \n",
       "1                                  Woodstock Discos   \n",
       "2                              Banco do Brasil S.A.   \n",
       "3                                            Riotur   \n",
       "4                                              None   \n",
       "\n",
       "                           address                 city state country  \\\n",
       "0  Av. Brigadeiro Faria Lima, 2170  São José dos Campos    SP  Brazil   \n",
       "1        Rua Dr. Falcão Filho, 155            São Paulo    SP  Brazil   \n",
       "2               Av. Paulista, 2022            São Paulo    SP  Brazil   \n",
       "3                 Praça Pio X, 119       Rio de Janeiro    RJ  Brazil   \n",
       "4                     Qe 7 Bloco G             Brasília    DF  Brazil   \n",
       "\n",
       "  postal_code               phone                 fax  \\\n",
       "0   12227-000  +55 (12) 3923-5555  +55 (12) 3923-5566   \n",
       "1   01007-010  +55 (11) 3033-5446  +55 (11) 3033-4564   \n",
       "2   01310-200  +55 (11) 3055-3278  +55 (11) 3055-8131   \n",
       "3   20040-020  +55 (21) 2271-7000  +55 (21) 2271-7070   \n",
       "4   71020-677  +55 (61) 3363-5547  +55 (61) 3363-7855   \n",
       "\n",
       "                           email  support_rep_id  \n",
       "0           luisg@embraer.com.br               3  \n",
       "1       eduardo@woodstock.com.br               4  \n",
       "2               alero@uol.com.br               5  \n",
       "3  roberto.almeida@riotur.gov.br               3  \n",
       "4       fernadaramos4@uol.com.br               4  "
      ]
     },
     "execution_count": 606,
     "metadata": {},
     "output_type": "execute_result"
    }
   ],
   "source": [
    "df_2.head(5)"
   ]
  },
  {
   "cell_type": "code",
   "execution_count": 608,
   "id": "a4d17523-cbb9-4156-b6fa-0c20ad758df8",
   "metadata": {},
   "outputs": [
    {
     "name": "stdout",
     "output_type": "stream",
     "text": [
      "<class 'pandas.core.frame.DataFrame'>\n",
      "RangeIndex: 5 entries, 0 to 4\n",
      "Data columns (total 13 columns):\n",
      " #   Column          Non-Null Count  Dtype \n",
      "---  ------          --------------  ----- \n",
      " 0   customer_id     5 non-null      int64 \n",
      " 1   first_name      5 non-null      object\n",
      " 2   last_name       5 non-null      object\n",
      " 3   company         4 non-null      object\n",
      " 4   address         5 non-null      object\n",
      " 5   city            5 non-null      object\n",
      " 6   state           5 non-null      object\n",
      " 7   country         5 non-null      object\n",
      " 8   postal_code     5 non-null      object\n",
      " 9   phone           5 non-null      object\n",
      " 10  fax             5 non-null      object\n",
      " 11  email           5 non-null      object\n",
      " 12  support_rep_id  5 non-null      int64 \n",
      "dtypes: int64(2), object(11)\n",
      "memory usage: 652.0+ bytes\n"
     ]
    }
   ],
   "source": [
    "df_2.info()"
   ]
  },
  {
   "cell_type": "markdown",
   "id": "e28ca44d-a4d3-48f1-988e-b39782598cbf",
   "metadata": {},
   "source": [
    "3. **Factures des clients brésiliens** : Fournissez une requête affichant\n",
    " les factures des clients qui sont du Brésil.\n",
    " Le tableau résultant doit inclure le nom complet du client, l'ID de la\n",
    " facture, la date de la facture et le pays de facturation."
   ]
  },
  {
   "cell_type": "code",
   "execution_count": 611,
   "id": "c119723a-4d09-4112-97dc-6f3f32049be4",
   "metadata": {},
   "outputs": [
    {
     "name": "stderr",
     "output_type": "stream",
     "text": [
      "C:\\Users\\mabou\\AppData\\Local\\Temp\\ipykernel_19944\\2804416285.py:1: UserWarning: pandas only supports SQLAlchemy connectable (engine/connection) or database string URI or sqlite3 DBAPI2 connection. Other DBAPI2 objects are not tested. Please consider using SQLAlchemy.\n",
      "  df_3 = pd.read_sql_query(\"SELECT c.first_name ||' '|| c.last_name AS NomCompletClient, i.invoice_Id AS ID_Facture, i.invoice_date AS Date_Facture,i.billing_country AS Pays_Facturation FROM Invoice i JOIN customer c ON i.customer_Id = c.customer_Id ORDER BY i.invoice_date DESC\"\n"
     ]
    }
   ],
   "source": [
    "df_3 = pd.read_sql_query(\"SELECT c.first_name ||' '|| c.last_name AS NomCompletClient, i.invoice_Id AS ID_Facture, i.invoice_date AS Date_Facture,i.billing_country AS Pays_Facturation FROM Invoice i JOIN customer c ON i.customer_Id = c.customer_Id ORDER BY i.invoice_date DESC\"\n",
    "                            , conexion)"
   ]
  },
  {
   "cell_type": "code",
   "execution_count": 613,
   "id": "b554958e-6b9f-4611-a979-2c4a40df6b03",
   "metadata": {},
   "outputs": [
    {
     "data": {
      "text/html": [
       "<div>\n",
       "<style scoped>\n",
       "    .dataframe tbody tr th:only-of-type {\n",
       "        vertical-align: middle;\n",
       "    }\n",
       "\n",
       "    .dataframe tbody tr th {\n",
       "        vertical-align: top;\n",
       "    }\n",
       "\n",
       "    .dataframe thead th {\n",
       "        text-align: right;\n",
       "    }\n",
       "</style>\n",
       "<table border=\"1\" class=\"dataframe\">\n",
       "  <thead>\n",
       "    <tr style=\"text-align: right;\">\n",
       "      <th></th>\n",
       "      <th>nomcompletclient</th>\n",
       "      <th>id_facture</th>\n",
       "      <th>date_facture</th>\n",
       "      <th>pays_facturation</th>\n",
       "    </tr>\n",
       "  </thead>\n",
       "  <tbody>\n",
       "    <tr>\n",
       "      <th>0</th>\n",
       "      <td>Manoj Pareek</td>\n",
       "      <td>412</td>\n",
       "      <td>2025-12-22</td>\n",
       "      <td>India</td>\n",
       "    </tr>\n",
       "    <tr>\n",
       "      <th>1</th>\n",
       "      <td>Terhi Hämäläinen</td>\n",
       "      <td>411</td>\n",
       "      <td>2025-12-14</td>\n",
       "      <td>Finland</td>\n",
       "    </tr>\n",
       "    <tr>\n",
       "      <th>2</th>\n",
       "      <td>Madalena Sampaio</td>\n",
       "      <td>410</td>\n",
       "      <td>2025-12-09</td>\n",
       "      <td>Portugal</td>\n",
       "    </tr>\n",
       "    <tr>\n",
       "      <th>3</th>\n",
       "      <td>Robert Brown</td>\n",
       "      <td>409</td>\n",
       "      <td>2025-12-06</td>\n",
       "      <td>Canada</td>\n",
       "    </tr>\n",
       "    <tr>\n",
       "      <th>4</th>\n",
       "      <td>Victor Stevens</td>\n",
       "      <td>408</td>\n",
       "      <td>2025-12-05</td>\n",
       "      <td>USA</td>\n",
       "    </tr>\n",
       "  </tbody>\n",
       "</table>\n",
       "</div>"
      ],
      "text/plain": [
       "   nomcompletclient  id_facture date_facture pays_facturation\n",
       "0      Manoj Pareek         412   2025-12-22            India\n",
       "1  Terhi Hämäläinen         411   2025-12-14          Finland\n",
       "2  Madalena Sampaio         410   2025-12-09         Portugal\n",
       "3      Robert Brown         409   2025-12-06           Canada\n",
       "4    Victor Stevens         408   2025-12-05              USA"
      ]
     },
     "execution_count": 613,
     "metadata": {},
     "output_type": "execute_result"
    }
   ],
   "source": [
    "df_3.head(5)"
   ]
  },
  {
   "cell_type": "code",
   "execution_count": 615,
   "id": "47148791-066c-4778-a5dd-729dffaf6477",
   "metadata": {},
   "outputs": [
    {
     "name": "stdout",
     "output_type": "stream",
     "text": [
      "<class 'pandas.core.frame.DataFrame'>\n",
      "RangeIndex: 412 entries, 0 to 411\n",
      "Data columns (total 4 columns):\n",
      " #   Column            Non-Null Count  Dtype         \n",
      "---  ------            --------------  -----         \n",
      " 0   nomcompletclient  412 non-null    object        \n",
      " 1   id_facture        412 non-null    int64         \n",
      " 2   date_facture      412 non-null    datetime64[ns]\n",
      " 3   pays_facturation  412 non-null    object        \n",
      "dtypes: datetime64[ns](1), int64(1), object(2)\n",
      "memory usage: 13.0+ KB\n"
     ]
    }
   ],
   "source": [
    "df_3.info()"
   ]
  },
  {
   "cell_type": "markdown",
   "id": "4fcd3004-dd8b-459c-8112-feeee4cfba48",
   "metadata": {},
   "source": [
    "4. **Agents de vente** : Fournissez une requête affichant uniquement\r\n",
    " les employés qui sont des Agents de Vente"
   ]
  },
  {
   "cell_type": "code",
   "execution_count": 618,
   "id": "d7996a20-0500-424d-b9da-5b62bec0c40c",
   "metadata": {},
   "outputs": [
    {
     "name": "stderr",
     "output_type": "stream",
     "text": [
      "C:\\Users\\mabou\\AppData\\Local\\Temp\\ipykernel_19944\\3135535805.py:1: UserWarning: pandas only supports SQLAlchemy connectable (engine/connection) or database string URI or sqlite3 DBAPI2 connection. Other DBAPI2 objects are not tested. Please consider using SQLAlchemy.\n",
      "  df_4 = pd.read_sql_query(\"SELECT * FROM employee WHERE title='Sales Support Agent'\", conexion)\n"
     ]
    }
   ],
   "source": [
    "df_4 = pd.read_sql_query(\"SELECT * FROM employee WHERE title='Sales Support Agent'\", conexion)"
   ]
  },
  {
   "cell_type": "code",
   "execution_count": 620,
   "id": "28675d77-6c7a-4ccb-b803-145be024a3a5",
   "metadata": {},
   "outputs": [
    {
     "data": {
      "text/html": [
       "<div>\n",
       "<style scoped>\n",
       "    .dataframe tbody tr th:only-of-type {\n",
       "        vertical-align: middle;\n",
       "    }\n",
       "\n",
       "    .dataframe tbody tr th {\n",
       "        vertical-align: top;\n",
       "    }\n",
       "\n",
       "    .dataframe thead th {\n",
       "        text-align: right;\n",
       "    }\n",
       "</style>\n",
       "<table border=\"1\" class=\"dataframe\">\n",
       "  <thead>\n",
       "    <tr style=\"text-align: right;\">\n",
       "      <th></th>\n",
       "      <th>employee_id</th>\n",
       "      <th>last_name</th>\n",
       "      <th>first_name</th>\n",
       "      <th>title</th>\n",
       "      <th>reports_to</th>\n",
       "      <th>birth_date</th>\n",
       "      <th>hire_date</th>\n",
       "      <th>address</th>\n",
       "      <th>city</th>\n",
       "      <th>state</th>\n",
       "      <th>country</th>\n",
       "      <th>postal_code</th>\n",
       "      <th>phone</th>\n",
       "      <th>fax</th>\n",
       "      <th>email</th>\n",
       "    </tr>\n",
       "  </thead>\n",
       "  <tbody>\n",
       "    <tr>\n",
       "      <th>0</th>\n",
       "      <td>3</td>\n",
       "      <td>Peacock</td>\n",
       "      <td>Jane</td>\n",
       "      <td>Sales Support Agent</td>\n",
       "      <td>2</td>\n",
       "      <td>1973-08-29</td>\n",
       "      <td>2002-04-01</td>\n",
       "      <td>1111 6 Ave SW</td>\n",
       "      <td>Calgary</td>\n",
       "      <td>AB</td>\n",
       "      <td>Canada</td>\n",
       "      <td>T2P 5M5</td>\n",
       "      <td>+1 (403) 262-3443</td>\n",
       "      <td>+1 (403) 262-6712</td>\n",
       "      <td>jane@chinookcorp.com</td>\n",
       "    </tr>\n",
       "    <tr>\n",
       "      <th>1</th>\n",
       "      <td>4</td>\n",
       "      <td>Park</td>\n",
       "      <td>Margaret</td>\n",
       "      <td>Sales Support Agent</td>\n",
       "      <td>2</td>\n",
       "      <td>1947-09-19</td>\n",
       "      <td>2003-05-03</td>\n",
       "      <td>683 10 Street SW</td>\n",
       "      <td>Calgary</td>\n",
       "      <td>AB</td>\n",
       "      <td>Canada</td>\n",
       "      <td>T2P 5G3</td>\n",
       "      <td>+1 (403) 263-4423</td>\n",
       "      <td>+1 (403) 263-4289</td>\n",
       "      <td>margaret@chinookcorp.com</td>\n",
       "    </tr>\n",
       "    <tr>\n",
       "      <th>2</th>\n",
       "      <td>5</td>\n",
       "      <td>Johnson</td>\n",
       "      <td>Steve</td>\n",
       "      <td>Sales Support Agent</td>\n",
       "      <td>2</td>\n",
       "      <td>1965-03-03</td>\n",
       "      <td>2003-10-17</td>\n",
       "      <td>7727B 41 Ave</td>\n",
       "      <td>Calgary</td>\n",
       "      <td>AB</td>\n",
       "      <td>Canada</td>\n",
       "      <td>T3B 1Y7</td>\n",
       "      <td>1 (780) 836-9987</td>\n",
       "      <td>1 (780) 836-9543</td>\n",
       "      <td>steve@chinookcorp.com</td>\n",
       "    </tr>\n",
       "  </tbody>\n",
       "</table>\n",
       "</div>"
      ],
      "text/plain": [
       "   employee_id last_name first_name                title  reports_to  \\\n",
       "0            3   Peacock       Jane  Sales Support Agent           2   \n",
       "1            4      Park   Margaret  Sales Support Agent           2   \n",
       "2            5   Johnson      Steve  Sales Support Agent           2   \n",
       "\n",
       "  birth_date  hire_date           address     city state country postal_code  \\\n",
       "0 1973-08-29 2002-04-01     1111 6 Ave SW  Calgary    AB  Canada     T2P 5M5   \n",
       "1 1947-09-19 2003-05-03  683 10 Street SW  Calgary    AB  Canada     T2P 5G3   \n",
       "2 1965-03-03 2003-10-17      7727B 41 Ave  Calgary    AB  Canada     T3B 1Y7   \n",
       "\n",
       "               phone                fax                     email  \n",
       "0  +1 (403) 262-3443  +1 (403) 262-6712      jane@chinookcorp.com  \n",
       "1  +1 (403) 263-4423  +1 (403) 263-4289  margaret@chinookcorp.com  \n",
       "2   1 (780) 836-9987   1 (780) 836-9543     steve@chinookcorp.com  "
      ]
     },
     "execution_count": 620,
     "metadata": {},
     "output_type": "execute_result"
    }
   ],
   "source": [
    "df_4.head(5)"
   ]
  },
  {
   "cell_type": "code",
   "execution_count": 622,
   "id": "114dccea-e02f-42e6-8f03-74aef3ce6055",
   "metadata": {},
   "outputs": [
    {
     "name": "stdout",
     "output_type": "stream",
     "text": [
      "<class 'pandas.core.frame.DataFrame'>\n",
      "RangeIndex: 3 entries, 0 to 2\n",
      "Data columns (total 15 columns):\n",
      " #   Column       Non-Null Count  Dtype         \n",
      "---  ------       --------------  -----         \n",
      " 0   employee_id  3 non-null      int64         \n",
      " 1   last_name    3 non-null      object        \n",
      " 2   first_name   3 non-null      object        \n",
      " 3   title        3 non-null      object        \n",
      " 4   reports_to   3 non-null      int64         \n",
      " 5   birth_date   3 non-null      datetime64[ns]\n",
      " 6   hire_date    3 non-null      datetime64[ns]\n",
      " 7   address      3 non-null      object        \n",
      " 8   city         3 non-null      object        \n",
      " 9   state        3 non-null      object        \n",
      " 10  country      3 non-null      object        \n",
      " 11  postal_code  3 non-null      object        \n",
      " 12  phone        3 non-null      object        \n",
      " 13  fax          3 non-null      object        \n",
      " 14  email        3 non-null      object        \n",
      "dtypes: datetime64[ns](2), int64(2), object(11)\n",
      "memory usage: 492.0+ bytes\n"
     ]
    }
   ],
   "source": [
    "df_4.info()"
   ]
  },
  {
   "cell_type": "markdown",
   "id": "d39a659b-064e-4065-b8b0-f5694aa12cad",
   "metadata": {},
   "source": [
    "##  Agrégations et relations"
   ]
  },
  {
   "cell_type": "markdown",
   "id": "c5f81b3d-1eb2-4b9d-a8f4-8c6304fd8ece",
   "metadata": {},
   "source": [
    " 5. **Pays uniques dans les factures** : Fournissez une requête affichant\n",
    " une liste unique des pays de facturation présents dans la table Invoice."
   ]
  },
  {
   "cell_type": "code",
   "execution_count": 626,
   "id": "85f43806-e9b0-4a6b-b7af-3c31457d6fa3",
   "metadata": {},
   "outputs": [
    {
     "name": "stderr",
     "output_type": "stream",
     "text": [
      "C:\\Users\\mabou\\AppData\\Local\\Temp\\ipykernel_19944\\2340603061.py:1: UserWarning: pandas only supports SQLAlchemy connectable (engine/connection) or database string URI or sqlite3 DBAPI2 connection. Other DBAPI2 objects are not tested. Please consider using SQLAlchemy.\n",
      "  df_5 = pd.read_sql_query(\"SELECT DISTINCT billing_country FROM Invoice\", conexion)\n"
     ]
    }
   ],
   "source": [
    "df_5 = pd.read_sql_query(\"SELECT DISTINCT billing_country FROM Invoice\", conexion)"
   ]
  },
  {
   "cell_type": "code",
   "execution_count": 628,
   "id": "20c1ea2c-1860-4f69-8ec6-aa3be009257b",
   "metadata": {},
   "outputs": [
    {
     "data": {
      "text/html": [
       "<div>\n",
       "<style scoped>\n",
       "    .dataframe tbody tr th:only-of-type {\n",
       "        vertical-align: middle;\n",
       "    }\n",
       "\n",
       "    .dataframe tbody tr th {\n",
       "        vertical-align: top;\n",
       "    }\n",
       "\n",
       "    .dataframe thead th {\n",
       "        text-align: right;\n",
       "    }\n",
       "</style>\n",
       "<table border=\"1\" class=\"dataframe\">\n",
       "  <thead>\n",
       "    <tr style=\"text-align: right;\">\n",
       "      <th></th>\n",
       "      <th>billing_country</th>\n",
       "    </tr>\n",
       "  </thead>\n",
       "  <tbody>\n",
       "    <tr>\n",
       "      <th>0</th>\n",
       "      <td>Argentina</td>\n",
       "    </tr>\n",
       "    <tr>\n",
       "      <th>1</th>\n",
       "      <td>Spain</td>\n",
       "    </tr>\n",
       "    <tr>\n",
       "      <th>2</th>\n",
       "      <td>Italy</td>\n",
       "    </tr>\n",
       "    <tr>\n",
       "      <th>3</th>\n",
       "      <td>Hungary</td>\n",
       "    </tr>\n",
       "    <tr>\n",
       "      <th>4</th>\n",
       "      <td>India</td>\n",
       "    </tr>\n",
       "    <tr>\n",
       "      <th>5</th>\n",
       "      <td>Czech Republic</td>\n",
       "    </tr>\n",
       "    <tr>\n",
       "      <th>6</th>\n",
       "      <td>Belgium</td>\n",
       "    </tr>\n",
       "    <tr>\n",
       "      <th>7</th>\n",
       "      <td>Sweden</td>\n",
       "    </tr>\n",
       "    <tr>\n",
       "      <th>8</th>\n",
       "      <td>Chile</td>\n",
       "    </tr>\n",
       "    <tr>\n",
       "      <th>9</th>\n",
       "      <td>Norway</td>\n",
       "    </tr>\n",
       "    <tr>\n",
       "      <th>10</th>\n",
       "      <td>France</td>\n",
       "    </tr>\n",
       "    <tr>\n",
       "      <th>11</th>\n",
       "      <td>USA</td>\n",
       "    </tr>\n",
       "    <tr>\n",
       "      <th>12</th>\n",
       "      <td>United Kingdom</td>\n",
       "    </tr>\n",
       "    <tr>\n",
       "      <th>13</th>\n",
       "      <td>Netherlands</td>\n",
       "    </tr>\n",
       "    <tr>\n",
       "      <th>14</th>\n",
       "      <td>Brazil</td>\n",
       "    </tr>\n",
       "    <tr>\n",
       "      <th>15</th>\n",
       "      <td>Austria</td>\n",
       "    </tr>\n",
       "    <tr>\n",
       "      <th>16</th>\n",
       "      <td>Poland</td>\n",
       "    </tr>\n",
       "    <tr>\n",
       "      <th>17</th>\n",
       "      <td>Australia</td>\n",
       "    </tr>\n",
       "    <tr>\n",
       "      <th>18</th>\n",
       "      <td>Ireland</td>\n",
       "    </tr>\n",
       "    <tr>\n",
       "      <th>19</th>\n",
       "      <td>Germany</td>\n",
       "    </tr>\n",
       "    <tr>\n",
       "      <th>20</th>\n",
       "      <td>Denmark</td>\n",
       "    </tr>\n",
       "    <tr>\n",
       "      <th>21</th>\n",
       "      <td>Canada</td>\n",
       "    </tr>\n",
       "    <tr>\n",
       "      <th>22</th>\n",
       "      <td>Finland</td>\n",
       "    </tr>\n",
       "    <tr>\n",
       "      <th>23</th>\n",
       "      <td>Portugal</td>\n",
       "    </tr>\n",
       "  </tbody>\n",
       "</table>\n",
       "</div>"
      ],
      "text/plain": [
       "   billing_country\n",
       "0        Argentina\n",
       "1            Spain\n",
       "2            Italy\n",
       "3          Hungary\n",
       "4            India\n",
       "5   Czech Republic\n",
       "6          Belgium\n",
       "7           Sweden\n",
       "8            Chile\n",
       "9           Norway\n",
       "10          France\n",
       "11             USA\n",
       "12  United Kingdom\n",
       "13     Netherlands\n",
       "14          Brazil\n",
       "15         Austria\n",
       "16          Poland\n",
       "17       Australia\n",
       "18         Ireland\n",
       "19         Germany\n",
       "20         Denmark\n",
       "21          Canada\n",
       "22         Finland\n",
       "23        Portugal"
      ]
     },
     "execution_count": 628,
     "metadata": {},
     "output_type": "execute_result"
    }
   ],
   "source": [
    "df_5"
   ]
  },
  {
   "cell_type": "markdown",
   "id": "b1097a30-f22d-4435-a492-d0c435dd76cf",
   "metadata": {},
   "source": [
    "6. **Factures par agent de vente** : Fournissez une requête affichant les\r\n",
    " factures associées à chaque agent de vente.\r\n",
    " Le tableau résultant doit inclure le nom complet de l'agent de\r\n",
    " vente."
   ]
  },
  {
   "cell_type": "code",
   "execution_count": 631,
   "id": "32a3999f-f33d-465e-8ac5-e6b16e9ffc51",
   "metadata": {},
   "outputs": [
    {
     "name": "stderr",
     "output_type": "stream",
     "text": [
      "C:\\Users\\mabou\\AppData\\Local\\Temp\\ipykernel_19944\\2370649312.py:1: UserWarning: pandas only supports SQLAlchemy connectable (engine/connection) or database string URI or sqlite3 DBAPI2 connection. Other DBAPI2 objects are not tested. Please consider using SQLAlchemy.\n",
      "  df_6 = pd.read_sql_query(\"SELECT e.first_name || ' ' || e.last_name AS NomCompletAgent, i.invoice_Id AS ID_Facture, i.invoice_date AS Date_Facture, i.total AS Montant_Total FROM Invoice i JOIN Customer c ON i.customer_Id = c.customer_Id JOIN Employee e ON c.support_rep_Id = e.employee_Id WHERE e.title LIKE '%Sales%Agent%' ORDER BY NomCompletAgent, i.invoice_date DESC\"\n"
     ]
    }
   ],
   "source": [
    "df_6 = pd.read_sql_query(\"SELECT e.first_name || ' ' || e.last_name AS NomCompletAgent, i.invoice_Id AS ID_Facture, i.invoice_date AS Date_Facture, i.total AS Montant_Total FROM Invoice i JOIN Customer c ON i.customer_Id = c.customer_Id JOIN Employee e ON c.support_rep_Id = e.employee_Id WHERE e.title LIKE '%Sales%Agent%' ORDER BY NomCompletAgent, i.invoice_date DESC\"\n",
    "                         , conexion)"
   ]
  },
  {
   "cell_type": "code",
   "execution_count": 633,
   "id": "504b7280-0b2e-418b-9b42-d4eda71778c5",
   "metadata": {},
   "outputs": [
    {
     "data": {
      "text/html": [
       "<div>\n",
       "<style scoped>\n",
       "    .dataframe tbody tr th:only-of-type {\n",
       "        vertical-align: middle;\n",
       "    }\n",
       "\n",
       "    .dataframe tbody tr th {\n",
       "        vertical-align: top;\n",
       "    }\n",
       "\n",
       "    .dataframe thead th {\n",
       "        text-align: right;\n",
       "    }\n",
       "</style>\n",
       "<table border=\"1\" class=\"dataframe\">\n",
       "  <thead>\n",
       "    <tr style=\"text-align: right;\">\n",
       "      <th></th>\n",
       "      <th>nomcompletagent</th>\n",
       "      <th>id_facture</th>\n",
       "      <th>date_facture</th>\n",
       "      <th>montant_total</th>\n",
       "    </tr>\n",
       "  </thead>\n",
       "  <tbody>\n",
       "    <tr>\n",
       "      <th>0</th>\n",
       "      <td>Jane Peacock</td>\n",
       "      <td>412</td>\n",
       "      <td>2025-12-22</td>\n",
       "      <td>1.99</td>\n",
       "    </tr>\n",
       "    <tr>\n",
       "      <th>1</th>\n",
       "      <td>Jane Peacock</td>\n",
       "      <td>411</td>\n",
       "      <td>2025-12-14</td>\n",
       "      <td>13.86</td>\n",
       "    </tr>\n",
       "    <tr>\n",
       "      <th>2</th>\n",
       "      <td>Jane Peacock</td>\n",
       "      <td>409</td>\n",
       "      <td>2025-12-06</td>\n",
       "      <td>5.94</td>\n",
       "    </tr>\n",
       "    <tr>\n",
       "      <th>3</th>\n",
       "      <td>Jane Peacock</td>\n",
       "      <td>401</td>\n",
       "      <td>2025-11-04</td>\n",
       "      <td>3.96</td>\n",
       "    </tr>\n",
       "    <tr>\n",
       "      <th>4</th>\n",
       "      <td>Jane Peacock</td>\n",
       "      <td>400</td>\n",
       "      <td>2025-11-03</td>\n",
       "      <td>1.98</td>\n",
       "    </tr>\n",
       "  </tbody>\n",
       "</table>\n",
       "</div>"
      ],
      "text/plain": [
       "  nomcompletagent  id_facture date_facture  montant_total\n",
       "0    Jane Peacock         412   2025-12-22           1.99\n",
       "1    Jane Peacock         411   2025-12-14          13.86\n",
       "2    Jane Peacock         409   2025-12-06           5.94\n",
       "3    Jane Peacock         401   2025-11-04           3.96\n",
       "4    Jane Peacock         400   2025-11-03           1.98"
      ]
     },
     "execution_count": 633,
     "metadata": {},
     "output_type": "execute_result"
    }
   ],
   "source": [
    "df_6.head()"
   ]
  },
  {
   "cell_type": "code",
   "execution_count": 635,
   "id": "8ddceb16-8d1b-4bf0-a941-5aba8bfb7063",
   "metadata": {},
   "outputs": [
    {
     "name": "stdout",
     "output_type": "stream",
     "text": [
      "<class 'pandas.core.frame.DataFrame'>\n",
      "RangeIndex: 412 entries, 0 to 411\n",
      "Data columns (total 4 columns):\n",
      " #   Column           Non-Null Count  Dtype         \n",
      "---  ------           --------------  -----         \n",
      " 0   nomcompletagent  412 non-null    object        \n",
      " 1   id_facture       412 non-null    int64         \n",
      " 2   date_facture     412 non-null    datetime64[ns]\n",
      " 3   montant_total    412 non-null    float64       \n",
      "dtypes: datetime64[ns](1), float64(1), int64(1), object(1)\n",
      "memory usage: 13.0+ KB\n"
     ]
    }
   ],
   "source": [
    "df_6.info()"
   ]
  },
  {
   "cell_type": "markdown",
   "id": "c4e9c3d7-b943-4ea1-9b16-8eb7ee498211",
   "metadata": {},
   "source": [
    "7. **Détails des factures** : Fournissez une requête affichant le total de\r\n",
    " chaque facture, le nom du client, le pays et le nom de l'agent de vente.\r\n"
   ]
  },
  {
   "cell_type": "code",
   "execution_count": 638,
   "id": "6c07e18e-3e6b-41fc-adec-d3ac925ddb89",
   "metadata": {},
   "outputs": [
    {
     "name": "stderr",
     "output_type": "stream",
     "text": [
      "C:\\Users\\mabou\\AppData\\Local\\Temp\\ipykernel_19944\\475635780.py:1: UserWarning: pandas only supports SQLAlchemy connectable (engine/connection) or database string URI or sqlite3 DBAPI2 connection. Other DBAPI2 objects are not tested. Please consider using SQLAlchemy.\n",
      "  df_7 = pd.read_sql_query(\"SELECT i.total AS Montant_Total, c.first_name || ' ' || c.last_name AS NomCompletClient, e.country AS PaysAgent, e.first_name || ' ' || e.last_name AS NomCompletAgent FROM Invoice i JOIN Customer c ON i.customer_Id = c.customer_Id JOIN Employee e ON c.support_rep_Id = e.employee_Id WHERE e.title LIKE '%Sales%Agent%' ORDER BY NomCompletClient ASC\"\n"
     ]
    }
   ],
   "source": [
    "df_7 = pd.read_sql_query(\"SELECT i.total AS Montant_Total, c.first_name || ' ' || c.last_name AS NomCompletClient, e.country AS PaysAgent, e.first_name || ' ' || e.last_name AS NomCompletAgent FROM Invoice i JOIN Customer c ON i.customer_Id = c.customer_Id JOIN Employee e ON c.support_rep_Id = e.employee_Id WHERE e.title LIKE '%Sales%Agent%' ORDER BY NomCompletClient ASC\"\n",
    "                         , conexion) "
   ]
  },
  {
   "cell_type": "code",
   "execution_count": 640,
   "id": "fb4dd6cf-0c61-4d7e-b255-79e6101481d9",
   "metadata": {},
   "outputs": [
    {
     "data": {
      "text/html": [
       "<div>\n",
       "<style scoped>\n",
       "    .dataframe tbody tr th:only-of-type {\n",
       "        vertical-align: middle;\n",
       "    }\n",
       "\n",
       "    .dataframe tbody tr th {\n",
       "        vertical-align: top;\n",
       "    }\n",
       "\n",
       "    .dataframe thead th {\n",
       "        text-align: right;\n",
       "    }\n",
       "</style>\n",
       "<table border=\"1\" class=\"dataframe\">\n",
       "  <thead>\n",
       "    <tr style=\"text-align: right;\">\n",
       "      <th></th>\n",
       "      <th>montant_total</th>\n",
       "      <th>nomcompletclient</th>\n",
       "      <th>paysagent</th>\n",
       "      <th>nomcompletagent</th>\n",
       "    </tr>\n",
       "  </thead>\n",
       "  <tbody>\n",
       "    <tr>\n",
       "      <th>0</th>\n",
       "      <td>0.99</td>\n",
       "      <td>Aaron Mitchell</td>\n",
       "      <td>Canada</td>\n",
       "      <td>Margaret Park</td>\n",
       "    </tr>\n",
       "    <tr>\n",
       "      <th>1</th>\n",
       "      <td>1.98</td>\n",
       "      <td>Aaron Mitchell</td>\n",
       "      <td>Canada</td>\n",
       "      <td>Margaret Park</td>\n",
       "    </tr>\n",
       "    <tr>\n",
       "      <th>2</th>\n",
       "      <td>13.86</td>\n",
       "      <td>Aaron Mitchell</td>\n",
       "      <td>Canada</td>\n",
       "      <td>Margaret Park</td>\n",
       "    </tr>\n",
       "    <tr>\n",
       "      <th>3</th>\n",
       "      <td>8.91</td>\n",
       "      <td>Aaron Mitchell</td>\n",
       "      <td>Canada</td>\n",
       "      <td>Margaret Park</td>\n",
       "    </tr>\n",
       "    <tr>\n",
       "      <th>4</th>\n",
       "      <td>1.98</td>\n",
       "      <td>Aaron Mitchell</td>\n",
       "      <td>Canada</td>\n",
       "      <td>Margaret Park</td>\n",
       "    </tr>\n",
       "  </tbody>\n",
       "</table>\n",
       "</div>"
      ],
      "text/plain": [
       "   montant_total nomcompletclient paysagent nomcompletagent\n",
       "0           0.99   Aaron Mitchell    Canada   Margaret Park\n",
       "1           1.98   Aaron Mitchell    Canada   Margaret Park\n",
       "2          13.86   Aaron Mitchell    Canada   Margaret Park\n",
       "3           8.91   Aaron Mitchell    Canada   Margaret Park\n",
       "4           1.98   Aaron Mitchell    Canada   Margaret Park"
      ]
     },
     "execution_count": 640,
     "metadata": {},
     "output_type": "execute_result"
    }
   ],
   "source": [
    "df_7.head()"
   ]
  },
  {
   "cell_type": "code",
   "execution_count": 642,
   "id": "473f6fd6-986e-48c9-9bf1-cc8ad8498fb1",
   "metadata": {},
   "outputs": [
    {
     "name": "stdout",
     "output_type": "stream",
     "text": [
      "<class 'pandas.core.frame.DataFrame'>\n",
      "RangeIndex: 412 entries, 0 to 411\n",
      "Data columns (total 4 columns):\n",
      " #   Column            Non-Null Count  Dtype  \n",
      "---  ------            --------------  -----  \n",
      " 0   montant_total     412 non-null    float64\n",
      " 1   nomcompletclient  412 non-null    object \n",
      " 2   paysagent         412 non-null    object \n",
      " 3   nomcompletagent   412 non-null    object \n",
      "dtypes: float64(1), object(3)\n",
      "memory usage: 13.0+ KB\n"
     ]
    }
   ],
   "source": [
    "df_7.info()"
   ]
  },
  {
   "cell_type": "markdown",
   "id": "f8dcd1b7-e19d-4bf9-b88a-a202bd259ec6",
   "metadata": {},
   "source": [
    "## Analyse par année et lignes de facture"
   ]
  },
  {
   "cell_type": "markdown",
   "id": "7b286424-dd7e-4698-8abb-67d6ef4c945c",
   "metadata": {},
   "source": [
    " 8. **Ventes par année** : Combien de factures y a-t-il eu en 2009 et\n",
    " 2011 ? Quels sont les montants totaux des ventes pour chacune de\n",
    " ces années ?"
   ]
  },
  {
   "cell_type": "code",
   "execution_count": 646,
   "id": "4f80181d-b461-4c6f-8a14-55e47995aabe",
   "metadata": {},
   "outputs": [
    {
     "name": "stderr",
     "output_type": "stream",
     "text": [
      "C:\\Users\\mabou\\AppData\\Local\\Temp\\ipykernel_19944\\3136455220.py:1: UserWarning: pandas only supports SQLAlchemy connectable (engine/connection) or database string URI or sqlite3 DBAPI2 connection. Other DBAPI2 objects are not tested. Please consider using SQLAlchemy.\n",
      "  df_8 = pd.read_sql_query(\"SELECT COUNT(*) AS nombredefactures FROM Invoice WHERE DATE_PART('year', invoice_date)=2009 AND DATE_PART('year', invoice_date)=2011\"\n"
     ]
    }
   ],
   "source": [
    "df_8 = pd.read_sql_query(\"SELECT COUNT(*) AS nombredefactures FROM Invoice WHERE DATE_PART('year', invoice_date)=2009 AND DATE_PART('year', invoice_date)=2011\"\n",
    "                         , conexion)"
   ]
  },
  {
   "cell_type": "code",
   "execution_count": 648,
   "id": "cecfb3ee-bb86-43ce-9ed5-14ea1cde727a",
   "metadata": {},
   "outputs": [
    {
     "data": {
      "text/html": [
       "<div>\n",
       "<style scoped>\n",
       "    .dataframe tbody tr th:only-of-type {\n",
       "        vertical-align: middle;\n",
       "    }\n",
       "\n",
       "    .dataframe tbody tr th {\n",
       "        vertical-align: top;\n",
       "    }\n",
       "\n",
       "    .dataframe thead th {\n",
       "        text-align: right;\n",
       "    }\n",
       "</style>\n",
       "<table border=\"1\" class=\"dataframe\">\n",
       "  <thead>\n",
       "    <tr style=\"text-align: right;\">\n",
       "      <th></th>\n",
       "      <th>nombredefactures</th>\n",
       "    </tr>\n",
       "  </thead>\n",
       "  <tbody>\n",
       "    <tr>\n",
       "      <th>0</th>\n",
       "      <td>0</td>\n",
       "    </tr>\n",
       "  </tbody>\n",
       "</table>\n",
       "</div>"
      ],
      "text/plain": [
       "   nombredefactures\n",
       "0                 0"
      ]
     },
     "execution_count": 648,
     "metadata": {},
     "output_type": "execute_result"
    }
   ],
   "source": [
    "df_8"
   ]
  },
  {
   "cell_type": "markdown",
   "id": "eb8a9a29-e26f-4a15-8086-0ec082cbd566",
   "metadata": {},
   "source": [
    "9. **Articles pour une facture donnée** : Fournissez une requête\r\n",
    " comptant le nombre d'articles (line items) pour l'ID de facture 37."
   ]
  },
  {
   "cell_type": "code",
   "execution_count": 651,
   "id": "36004104-801f-42f3-be26-1daae4b315d6",
   "metadata": {},
   "outputs": [
    {
     "name": "stderr",
     "output_type": "stream",
     "text": [
      "C:\\Users\\mabou\\AppData\\Local\\Temp\\ipykernel_19944\\1133726734.py:1: UserWarning: pandas only supports SQLAlchemy connectable (engine/connection) or database string URI or sqlite3 DBAPI2 connection. Other DBAPI2 objects are not tested. Please consider using SQLAlchemy.\n",
      "  df_9 = pd.read_sql_query(\"SELECT COUNT(*) AS nombre_article FROM Invoice_Line WHERE invoice_id=37\"\n"
     ]
    }
   ],
   "source": [
    "df_9 = pd.read_sql_query(\"SELECT COUNT(*) AS nombre_article FROM Invoice_Line WHERE invoice_id=37\"\n",
    "                         , conexion)"
   ]
  },
  {
   "cell_type": "code",
   "execution_count": 653,
   "id": "2df925a3-9dac-4a49-aa5e-3589876e31cc",
   "metadata": {},
   "outputs": [
    {
     "data": {
      "text/html": [
       "<div>\n",
       "<style scoped>\n",
       "    .dataframe tbody tr th:only-of-type {\n",
       "        vertical-align: middle;\n",
       "    }\n",
       "\n",
       "    .dataframe tbody tr th {\n",
       "        vertical-align: top;\n",
       "    }\n",
       "\n",
       "    .dataframe thead th {\n",
       "        text-align: right;\n",
       "    }\n",
       "</style>\n",
       "<table border=\"1\" class=\"dataframe\">\n",
       "  <thead>\n",
       "    <tr style=\"text-align: right;\">\n",
       "      <th></th>\n",
       "      <th>nombre_article</th>\n",
       "    </tr>\n",
       "  </thead>\n",
       "  <tbody>\n",
       "    <tr>\n",
       "      <th>0</th>\n",
       "      <td>4</td>\n",
       "    </tr>\n",
       "  </tbody>\n",
       "</table>\n",
       "</div>"
      ],
      "text/plain": [
       "   nombre_article\n",
       "0               4"
      ]
     },
     "execution_count": 653,
     "metadata": {},
     "output_type": "execute_result"
    }
   ],
   "source": [
    "df_9"
   ]
  },
  {
   "cell_type": "markdown",
   "id": "d154e9a0-2489-4b6d-80d2-65406127eb53",
   "metadata": {},
   "source": [
    " 10. **Articles par facture** : Fournissez une requête comptant le nombre\r\n",
    " d'articles (line items) pour chaque facture."
   ]
  },
  {
   "cell_type": "code",
   "execution_count": 656,
   "id": "933d51f1-89da-4133-a18e-d21136cb763b",
   "metadata": {},
   "outputs": [
    {
     "name": "stderr",
     "output_type": "stream",
     "text": [
      "C:\\Users\\mabou\\AppData\\Local\\Temp\\ipykernel_19944\\2128938581.py:1: UserWarning: pandas only supports SQLAlchemy connectable (engine/connection) or database string URI or sqlite3 DBAPI2 connection. Other DBAPI2 objects are not tested. Please consider using SQLAlchemy.\n",
      "  df_10 = pd.read_sql_query(\"SELECT invoice_id AS id_facture, COUNT(*) AS nombre_article FROM Invoice_Line GROUP BY invoice_id\"\n"
     ]
    }
   ],
   "source": [
    "df_10 = pd.read_sql_query(\"SELECT invoice_id AS id_facture, COUNT(*) AS nombre_article FROM Invoice_Line GROUP BY invoice_id\"\n",
    "                         , conexion)"
   ]
  },
  {
   "cell_type": "code",
   "execution_count": 658,
   "id": "d9eadcaa-6453-4fce-aecd-0d768a37827b",
   "metadata": {},
   "outputs": [
    {
     "data": {
      "text/html": [
       "<div>\n",
       "<style scoped>\n",
       "    .dataframe tbody tr th:only-of-type {\n",
       "        vertical-align: middle;\n",
       "    }\n",
       "\n",
       "    .dataframe tbody tr th {\n",
       "        vertical-align: top;\n",
       "    }\n",
       "\n",
       "    .dataframe thead th {\n",
       "        text-align: right;\n",
       "    }\n",
       "</style>\n",
       "<table border=\"1\" class=\"dataframe\">\n",
       "  <thead>\n",
       "    <tr style=\"text-align: right;\">\n",
       "      <th></th>\n",
       "      <th>id_facture</th>\n",
       "      <th>nombre_article</th>\n",
       "    </tr>\n",
       "  </thead>\n",
       "  <tbody>\n",
       "    <tr>\n",
       "      <th>0</th>\n",
       "      <td>384</td>\n",
       "      <td>1</td>\n",
       "    </tr>\n",
       "    <tr>\n",
       "      <th>1</th>\n",
       "      <td>351</td>\n",
       "      <td>2</td>\n",
       "    </tr>\n",
       "    <tr>\n",
       "      <th>2</th>\n",
       "      <td>184</td>\n",
       "      <td>4</td>\n",
       "    </tr>\n",
       "    <tr>\n",
       "      <th>3</th>\n",
       "      <td>116</td>\n",
       "      <td>9</td>\n",
       "    </tr>\n",
       "    <tr>\n",
       "      <th>4</th>\n",
       "      <td>87</td>\n",
       "      <td>6</td>\n",
       "    </tr>\n",
       "    <tr>\n",
       "      <th>...</th>\n",
       "      <td>...</td>\n",
       "      <td>...</td>\n",
       "    </tr>\n",
       "    <tr>\n",
       "      <th>407</th>\n",
       "      <td>55</td>\n",
       "      <td>1</td>\n",
       "    </tr>\n",
       "    <tr>\n",
       "      <th>408</th>\n",
       "      <td>148</td>\n",
       "      <td>2</td>\n",
       "    </tr>\n",
       "    <tr>\n",
       "      <th>409</th>\n",
       "      <td>130</td>\n",
       "      <td>9</td>\n",
       "    </tr>\n",
       "    <tr>\n",
       "      <th>410</th>\n",
       "      <td>270</td>\n",
       "      <td>9</td>\n",
       "    </tr>\n",
       "    <tr>\n",
       "      <th>411</th>\n",
       "      <td>23</td>\n",
       "      <td>4</td>\n",
       "    </tr>\n",
       "  </tbody>\n",
       "</table>\n",
       "<p>412 rows × 2 columns</p>\n",
       "</div>"
      ],
      "text/plain": [
       "     id_facture  nombre_article\n",
       "0           384               1\n",
       "1           351               2\n",
       "2           184               4\n",
       "3           116               9\n",
       "4            87               6\n",
       "..          ...             ...\n",
       "407          55               1\n",
       "408         148               2\n",
       "409         130               9\n",
       "410         270               9\n",
       "411          23               4\n",
       "\n",
       "[412 rows x 2 columns]"
      ]
     },
     "execution_count": 658,
     "metadata": {},
     "output_type": "execute_result"
    }
   ],
   "source": [
    "df_10"
   ]
  },
  {
   "cell_type": "code",
   "execution_count": 660,
   "id": "a0901d77-c9e9-4280-a35e-f43b41325e5a",
   "metadata": {},
   "outputs": [
    {
     "name": "stdout",
     "output_type": "stream",
     "text": [
      "<class 'pandas.core.frame.DataFrame'>\n",
      "RangeIndex: 412 entries, 0 to 411\n",
      "Data columns (total 2 columns):\n",
      " #   Column          Non-Null Count  Dtype\n",
      "---  ------          --------------  -----\n",
      " 0   id_facture      412 non-null    int64\n",
      " 1   nombre_article  412 non-null    int64\n",
      "dtypes: int64(2)\n",
      "memory usage: 6.6 KB\n"
     ]
    }
   ],
   "source": [
    "df_10.info()"
   ]
  },
  {
   "cell_type": "markdown",
   "id": "017e1772-3de8-4727-b6bf-8aa7bd9b1e5e",
   "metadata": {},
   "source": [
    "## Détails des morceaux"
   ]
  },
  {
   "cell_type": "markdown",
   "id": "21ce5052-ab15-4415-9405-f35d30fc3d3e",
   "metadata": {},
   "source": [
    "11. **Nom des morceaux** : Fournissez une requête incluant le nom du\n",
    " morceau pour chaque ligne de facture."
   ]
  },
  {
   "cell_type": "code",
   "execution_count": 664,
   "id": "a0e52fbf-db15-44b4-bfbe-ed7d781a20a1",
   "metadata": {},
   "outputs": [
    {
     "name": "stderr",
     "output_type": "stream",
     "text": [
      "C:\\Users\\mabou\\AppData\\Local\\Temp\\ipykernel_19944\\3651656957.py:1: UserWarning: pandas only supports SQLAlchemy connectable (engine/connection) or database string URI or sqlite3 DBAPI2 connection. Other DBAPI2 objects are not tested. Please consider using SQLAlchemy.\n",
      "  df_11 = pd.read_sql_query(\"SELECT T.name AS nom_morceau, il.invoice_line_Id AS invoice_line_id FROM Invoice_Line il JOIN Track T ON il.track_Id = T.track_Id\"\n"
     ]
    }
   ],
   "source": [
    "df_11 = pd.read_sql_query(\"SELECT T.name AS nom_morceau, il.invoice_line_Id AS invoice_line_id FROM Invoice_Line il JOIN Track T ON il.track_Id = T.track_Id\"\n",
    "                         , conexion)"
   ]
  },
  {
   "cell_type": "code",
   "execution_count": 666,
   "id": "ed7014b9-324e-41a1-a085-b282d79159b4",
   "metadata": {},
   "outputs": [
    {
     "data": {
      "text/html": [
       "<div>\n",
       "<style scoped>\n",
       "    .dataframe tbody tr th:only-of-type {\n",
       "        vertical-align: middle;\n",
       "    }\n",
       "\n",
       "    .dataframe tbody tr th {\n",
       "        vertical-align: top;\n",
       "    }\n",
       "\n",
       "    .dataframe thead th {\n",
       "        text-align: right;\n",
       "    }\n",
       "</style>\n",
       "<table border=\"1\" class=\"dataframe\">\n",
       "  <thead>\n",
       "    <tr style=\"text-align: right;\">\n",
       "      <th></th>\n",
       "      <th>nom_morceau</th>\n",
       "      <th>invoice_line_id</th>\n",
       "    </tr>\n",
       "  </thead>\n",
       "  <tbody>\n",
       "    <tr>\n",
       "      <th>0</th>\n",
       "      <td>Balls to the Wall</td>\n",
       "      <td>1</td>\n",
       "    </tr>\n",
       "    <tr>\n",
       "      <th>1</th>\n",
       "      <td>Restless and Wild</td>\n",
       "      <td>2</td>\n",
       "    </tr>\n",
       "    <tr>\n",
       "      <th>2</th>\n",
       "      <td>Put The Finger On You</td>\n",
       "      <td>3</td>\n",
       "    </tr>\n",
       "    <tr>\n",
       "      <th>3</th>\n",
       "      <td>Inject The Venom</td>\n",
       "      <td>4</td>\n",
       "    </tr>\n",
       "    <tr>\n",
       "      <th>4</th>\n",
       "      <td>Evil Walks</td>\n",
       "      <td>5</td>\n",
       "    </tr>\n",
       "    <tr>\n",
       "      <th>...</th>\n",
       "      <td>...</td>\n",
       "      <td>...</td>\n",
       "    </tr>\n",
       "    <tr>\n",
       "      <th>2235</th>\n",
       "      <td>Looking For Love</td>\n",
       "      <td>2236</td>\n",
       "    </tr>\n",
       "    <tr>\n",
       "      <th>2236</th>\n",
       "      <td>Sweet Lady Luck</td>\n",
       "      <td>2237</td>\n",
       "    </tr>\n",
       "    <tr>\n",
       "      <th>2237</th>\n",
       "      <td>Feirinha da Pavuna/Luz do Repente/Bagaço da La...</td>\n",
       "      <td>2238</td>\n",
       "    </tr>\n",
       "    <tr>\n",
       "      <th>2238</th>\n",
       "      <td>Samba pras moças</td>\n",
       "      <td>2239</td>\n",
       "    </tr>\n",
       "    <tr>\n",
       "      <th>2239</th>\n",
       "      <td>Hot Girl</td>\n",
       "      <td>2240</td>\n",
       "    </tr>\n",
       "  </tbody>\n",
       "</table>\n",
       "<p>2240 rows × 2 columns</p>\n",
       "</div>"
      ],
      "text/plain": [
       "                                            nom_morceau  invoice_line_id\n",
       "0                                     Balls to the Wall                1\n",
       "1                                     Restless and Wild                2\n",
       "2                                 Put The Finger On You                3\n",
       "3                                      Inject The Venom                4\n",
       "4                                            Evil Walks                5\n",
       "...                                                 ...              ...\n",
       "2235                                   Looking For Love             2236\n",
       "2236                                    Sweet Lady Luck             2237\n",
       "2237  Feirinha da Pavuna/Luz do Repente/Bagaço da La...             2238\n",
       "2238                                   Samba pras moças             2239\n",
       "2239                                           Hot Girl             2240\n",
       "\n",
       "[2240 rows x 2 columns]"
      ]
     },
     "execution_count": 666,
     "metadata": {},
     "output_type": "execute_result"
    }
   ],
   "source": [
    "df_11"
   ]
  },
  {
   "cell_type": "code",
   "execution_count": 668,
   "id": "1fbd4091-ddbf-4f3a-af76-f428ebb45e49",
   "metadata": {},
   "outputs": [
    {
     "name": "stdout",
     "output_type": "stream",
     "text": [
      "<class 'pandas.core.frame.DataFrame'>\n",
      "RangeIndex: 2240 entries, 0 to 2239\n",
      "Data columns (total 2 columns):\n",
      " #   Column           Non-Null Count  Dtype \n",
      "---  ------           --------------  ----- \n",
      " 0   nom_morceau      2240 non-null   object\n",
      " 1   invoice_line_id  2240 non-null   int64 \n",
      "dtypes: int64(1), object(1)\n",
      "memory usage: 35.1+ KB\n"
     ]
    }
   ],
   "source": [
    "df_11.info()"
   ]
  },
  {
   "cell_type": "markdown",
   "id": "9be97d49-cc25-437a-a1e1-54cbb4f3f886",
   "metadata": {},
   "source": [
    "12. **Morceaux et artistes** : Fournissez une requête incluant le nom du\r\n",
    " morceau acheté ET le nom de l'artiste pour chaque ligne de facture."
   ]
  },
  {
   "cell_type": "code",
   "execution_count": 671,
   "id": "5864d950-f6ae-4b18-9fd3-cfa72ac87c31",
   "metadata": {},
   "outputs": [
    {
     "name": "stderr",
     "output_type": "stream",
     "text": [
      "C:\\Users\\mabou\\AppData\\Local\\Temp\\ipykernel_19944\\1219800518.py:1: UserWarning: pandas only supports SQLAlchemy connectable (engine/connection) or database string URI or sqlite3 DBAPI2 connection. Other DBAPI2 objects are not tested. Please consider using SQLAlchemy.\n",
      "  df_12 = pd.read_sql_query(\"SELECT T.name AS nom_morceau, il.invoice_line_Id AS invoice_line_id, a.name AS nom_artiste FROM Invoice_Line il JOIN Track T ON il.track_Id = T.track_Id JOIN Album al ON T.album_Id = al.album_Id JOIN Artist a ON  al.artist_Id = a.artist_Id \"\n"
     ]
    }
   ],
   "source": [
    "df_12 = pd.read_sql_query(\"SELECT T.name AS nom_morceau, il.invoice_line_Id AS invoice_line_id, a.name AS nom_artiste FROM Invoice_Line il JOIN Track T ON il.track_Id = T.track_Id JOIN Album al ON T.album_Id = al.album_Id JOIN Artist a ON  al.artist_Id = a.artist_Id \"\n",
    "                         , conexion)"
   ]
  },
  {
   "cell_type": "code",
   "execution_count": 673,
   "id": "d102efd1-0cbc-467c-b21a-67b4c8084f2f",
   "metadata": {},
   "outputs": [
    {
     "data": {
      "text/html": [
       "<div>\n",
       "<style scoped>\n",
       "    .dataframe tbody tr th:only-of-type {\n",
       "        vertical-align: middle;\n",
       "    }\n",
       "\n",
       "    .dataframe tbody tr th {\n",
       "        vertical-align: top;\n",
       "    }\n",
       "\n",
       "    .dataframe thead th {\n",
       "        text-align: right;\n",
       "    }\n",
       "</style>\n",
       "<table border=\"1\" class=\"dataframe\">\n",
       "  <thead>\n",
       "    <tr style=\"text-align: right;\">\n",
       "      <th></th>\n",
       "      <th>nom_morceau</th>\n",
       "      <th>invoice_line_id</th>\n",
       "      <th>nom_artiste</th>\n",
       "    </tr>\n",
       "  </thead>\n",
       "  <tbody>\n",
       "    <tr>\n",
       "      <th>0</th>\n",
       "      <td>Balls to the Wall</td>\n",
       "      <td>1</td>\n",
       "      <td>Accept</td>\n",
       "    </tr>\n",
       "    <tr>\n",
       "      <th>1</th>\n",
       "      <td>Restless and Wild</td>\n",
       "      <td>2</td>\n",
       "      <td>Accept</td>\n",
       "    </tr>\n",
       "    <tr>\n",
       "      <th>2</th>\n",
       "      <td>Put The Finger On You</td>\n",
       "      <td>3</td>\n",
       "      <td>AC/DC</td>\n",
       "    </tr>\n",
       "    <tr>\n",
       "      <th>3</th>\n",
       "      <td>Inject The Venom</td>\n",
       "      <td>4</td>\n",
       "      <td>AC/DC</td>\n",
       "    </tr>\n",
       "    <tr>\n",
       "      <th>4</th>\n",
       "      <td>Evil Walks</td>\n",
       "      <td>5</td>\n",
       "      <td>AC/DC</td>\n",
       "    </tr>\n",
       "    <tr>\n",
       "      <th>...</th>\n",
       "      <td>...</td>\n",
       "      <td>...</td>\n",
       "      <td>...</td>\n",
       "    </tr>\n",
       "    <tr>\n",
       "      <th>2235</th>\n",
       "      <td>Looking For Love</td>\n",
       "      <td>2236</td>\n",
       "      <td>Lenny Kravitz</td>\n",
       "    </tr>\n",
       "    <tr>\n",
       "      <th>2236</th>\n",
       "      <td>Sweet Lady Luck</td>\n",
       "      <td>2237</td>\n",
       "      <td>Lenny Kravitz</td>\n",
       "    </tr>\n",
       "    <tr>\n",
       "      <th>2237</th>\n",
       "      <td>Feirinha da Pavuna/Luz do Repente/Bagaço da La...</td>\n",
       "      <td>2238</td>\n",
       "      <td>Zeca Pagodinho</td>\n",
       "    </tr>\n",
       "    <tr>\n",
       "      <th>2238</th>\n",
       "      <td>Samba pras moças</td>\n",
       "      <td>2239</td>\n",
       "      <td>Zeca Pagodinho</td>\n",
       "    </tr>\n",
       "    <tr>\n",
       "      <th>2239</th>\n",
       "      <td>Hot Girl</td>\n",
       "      <td>2240</td>\n",
       "      <td>The Office</td>\n",
       "    </tr>\n",
       "  </tbody>\n",
       "</table>\n",
       "<p>2240 rows × 3 columns</p>\n",
       "</div>"
      ],
      "text/plain": [
       "                                            nom_morceau  invoice_line_id  \\\n",
       "0                                     Balls to the Wall                1   \n",
       "1                                     Restless and Wild                2   \n",
       "2                                 Put The Finger On You                3   \n",
       "3                                      Inject The Venom                4   \n",
       "4                                            Evil Walks                5   \n",
       "...                                                 ...              ...   \n",
       "2235                                   Looking For Love             2236   \n",
       "2236                                    Sweet Lady Luck             2237   \n",
       "2237  Feirinha da Pavuna/Luz do Repente/Bagaço da La...             2238   \n",
       "2238                                   Samba pras moças             2239   \n",
       "2239                                           Hot Girl             2240   \n",
       "\n",
       "         nom_artiste  \n",
       "0             Accept  \n",
       "1             Accept  \n",
       "2              AC/DC  \n",
       "3              AC/DC  \n",
       "4              AC/DC  \n",
       "...              ...  \n",
       "2235   Lenny Kravitz  \n",
       "2236   Lenny Kravitz  \n",
       "2237  Zeca Pagodinho  \n",
       "2238  Zeca Pagodinho  \n",
       "2239      The Office  \n",
       "\n",
       "[2240 rows x 3 columns]"
      ]
     },
     "execution_count": 673,
     "metadata": {},
     "output_type": "execute_result"
    }
   ],
   "source": [
    "df_12"
   ]
  },
  {
   "cell_type": "code",
   "execution_count": 675,
   "id": "810f0058-25d4-4a35-b246-e0a0b760db1d",
   "metadata": {},
   "outputs": [
    {
     "name": "stdout",
     "output_type": "stream",
     "text": [
      "<class 'pandas.core.frame.DataFrame'>\n",
      "RangeIndex: 2240 entries, 0 to 2239\n",
      "Data columns (total 3 columns):\n",
      " #   Column           Non-Null Count  Dtype \n",
      "---  ------           --------------  ----- \n",
      " 0   nom_morceau      2240 non-null   object\n",
      " 1   invoice_line_id  2240 non-null   int64 \n",
      " 2   nom_artiste      2240 non-null   object\n",
      "dtypes: int64(1), object(2)\n",
      "memory usage: 52.6+ KB\n"
     ]
    }
   ],
   "source": [
    "df_12.info()"
   ]
  },
  {
   "cell_type": "markdown",
   "id": "178a1b47-794b-49a9-817a-5b6455400d8a",
   "metadata": {},
   "source": [
    " ## Comptages et regroupements"
   ]
  },
  {
   "cell_type": "markdown",
   "id": "6ea65f64-0d24-4452-9a00-d28f5c5b15b9",
   "metadata": {},
   "source": [
    "13. **Nombre de factures par pays** : Fournissez une requête affichant\n",
    " le nombre de factures par pays."
   ]
  },
  {
   "cell_type": "code",
   "execution_count": 679,
   "id": "4ac13e23-3365-4629-8f74-6a4fafbc4917",
   "metadata": {},
   "outputs": [
    {
     "name": "stderr",
     "output_type": "stream",
     "text": [
      "C:\\Users\\mabou\\AppData\\Local\\Temp\\ipykernel_19944\\679031892.py:1: UserWarning: pandas only supports SQLAlchemy connectable (engine/connection) or database string URI or sqlite3 DBAPI2 connection. Other DBAPI2 objects are not tested. Please consider using SQLAlchemy.\n",
      "  df_13 = pd.read_sql_query(\"SELECT billing_country AS country, COUNT(*) AS nombre_facture FROM Invoice GROUP BY billing_country\"\n"
     ]
    }
   ],
   "source": [
    "df_13 = pd.read_sql_query(\"SELECT billing_country AS country, COUNT(*) AS nombre_facture FROM Invoice GROUP BY billing_country\"\n",
    "                         , conexion)"
   ]
  },
  {
   "cell_type": "code",
   "execution_count": 681,
   "id": "fe6d3b2b-7425-441f-a422-8370c92d2971",
   "metadata": {},
   "outputs": [
    {
     "data": {
      "text/html": [
       "<div>\n",
       "<style scoped>\n",
       "    .dataframe tbody tr th:only-of-type {\n",
       "        vertical-align: middle;\n",
       "    }\n",
       "\n",
       "    .dataframe tbody tr th {\n",
       "        vertical-align: top;\n",
       "    }\n",
       "\n",
       "    .dataframe thead th {\n",
       "        text-align: right;\n",
       "    }\n",
       "</style>\n",
       "<table border=\"1\" class=\"dataframe\">\n",
       "  <thead>\n",
       "    <tr style=\"text-align: right;\">\n",
       "      <th></th>\n",
       "      <th>country</th>\n",
       "      <th>nombre_facture</th>\n",
       "    </tr>\n",
       "  </thead>\n",
       "  <tbody>\n",
       "    <tr>\n",
       "      <th>0</th>\n",
       "      <td>Argentina</td>\n",
       "      <td>7</td>\n",
       "    </tr>\n",
       "    <tr>\n",
       "      <th>1</th>\n",
       "      <td>Spain</td>\n",
       "      <td>7</td>\n",
       "    </tr>\n",
       "    <tr>\n",
       "      <th>2</th>\n",
       "      <td>Italy</td>\n",
       "      <td>7</td>\n",
       "    </tr>\n",
       "    <tr>\n",
       "      <th>3</th>\n",
       "      <td>Hungary</td>\n",
       "      <td>7</td>\n",
       "    </tr>\n",
       "    <tr>\n",
       "      <th>4</th>\n",
       "      <td>India</td>\n",
       "      <td>13</td>\n",
       "    </tr>\n",
       "    <tr>\n",
       "      <th>5</th>\n",
       "      <td>Czech Republic</td>\n",
       "      <td>14</td>\n",
       "    </tr>\n",
       "    <tr>\n",
       "      <th>6</th>\n",
       "      <td>Belgium</td>\n",
       "      <td>7</td>\n",
       "    </tr>\n",
       "    <tr>\n",
       "      <th>7</th>\n",
       "      <td>Sweden</td>\n",
       "      <td>7</td>\n",
       "    </tr>\n",
       "    <tr>\n",
       "      <th>8</th>\n",
       "      <td>Chile</td>\n",
       "      <td>7</td>\n",
       "    </tr>\n",
       "    <tr>\n",
       "      <th>9</th>\n",
       "      <td>Norway</td>\n",
       "      <td>7</td>\n",
       "    </tr>\n",
       "    <tr>\n",
       "      <th>10</th>\n",
       "      <td>France</td>\n",
       "      <td>35</td>\n",
       "    </tr>\n",
       "    <tr>\n",
       "      <th>11</th>\n",
       "      <td>USA</td>\n",
       "      <td>91</td>\n",
       "    </tr>\n",
       "    <tr>\n",
       "      <th>12</th>\n",
       "      <td>United Kingdom</td>\n",
       "      <td>21</td>\n",
       "    </tr>\n",
       "    <tr>\n",
       "      <th>13</th>\n",
       "      <td>Netherlands</td>\n",
       "      <td>7</td>\n",
       "    </tr>\n",
       "    <tr>\n",
       "      <th>14</th>\n",
       "      <td>Brazil</td>\n",
       "      <td>35</td>\n",
       "    </tr>\n",
       "    <tr>\n",
       "      <th>15</th>\n",
       "      <td>Austria</td>\n",
       "      <td>7</td>\n",
       "    </tr>\n",
       "    <tr>\n",
       "      <th>16</th>\n",
       "      <td>Poland</td>\n",
       "      <td>7</td>\n",
       "    </tr>\n",
       "    <tr>\n",
       "      <th>17</th>\n",
       "      <td>Australia</td>\n",
       "      <td>7</td>\n",
       "    </tr>\n",
       "    <tr>\n",
       "      <th>18</th>\n",
       "      <td>Ireland</td>\n",
       "      <td>7</td>\n",
       "    </tr>\n",
       "    <tr>\n",
       "      <th>19</th>\n",
       "      <td>Germany</td>\n",
       "      <td>28</td>\n",
       "    </tr>\n",
       "    <tr>\n",
       "      <th>20</th>\n",
       "      <td>Denmark</td>\n",
       "      <td>7</td>\n",
       "    </tr>\n",
       "    <tr>\n",
       "      <th>21</th>\n",
       "      <td>Canada</td>\n",
       "      <td>56</td>\n",
       "    </tr>\n",
       "    <tr>\n",
       "      <th>22</th>\n",
       "      <td>Finland</td>\n",
       "      <td>7</td>\n",
       "    </tr>\n",
       "    <tr>\n",
       "      <th>23</th>\n",
       "      <td>Portugal</td>\n",
       "      <td>14</td>\n",
       "    </tr>\n",
       "  </tbody>\n",
       "</table>\n",
       "</div>"
      ],
      "text/plain": [
       "           country  nombre_facture\n",
       "0        Argentina               7\n",
       "1            Spain               7\n",
       "2            Italy               7\n",
       "3          Hungary               7\n",
       "4            India              13\n",
       "5   Czech Republic              14\n",
       "6          Belgium               7\n",
       "7           Sweden               7\n",
       "8            Chile               7\n",
       "9           Norway               7\n",
       "10          France              35\n",
       "11             USA              91\n",
       "12  United Kingdom              21\n",
       "13     Netherlands               7\n",
       "14          Brazil              35\n",
       "15         Austria               7\n",
       "16          Poland               7\n",
       "17       Australia               7\n",
       "18         Ireland               7\n",
       "19         Germany              28\n",
       "20         Denmark               7\n",
       "21          Canada              56\n",
       "22         Finland               7\n",
       "23        Portugal              14"
      ]
     },
     "execution_count": 681,
     "metadata": {},
     "output_type": "execute_result"
    }
   ],
   "source": [
    "df_13"
   ]
  },
  {
   "cell_type": "code",
   "execution_count": 683,
   "id": "03a36cfa-bed1-4f43-84eb-83e727d5f4aa",
   "metadata": {},
   "outputs": [
    {
     "name": "stdout",
     "output_type": "stream",
     "text": [
      "<class 'pandas.core.frame.DataFrame'>\n",
      "RangeIndex: 24 entries, 0 to 23\n",
      "Data columns (total 2 columns):\n",
      " #   Column          Non-Null Count  Dtype \n",
      "---  ------          --------------  ----- \n",
      " 0   country         24 non-null     object\n",
      " 1   nombre_facture  24 non-null     int64 \n",
      "dtypes: int64(1), object(1)\n",
      "memory usage: 516.0+ bytes\n"
     ]
    }
   ],
   "source": [
    "df_13.info()"
   ]
  },
  {
   "cell_type": "markdown",
   "id": "baf09c5e-ae96-41da-b72e-75160353d6b9",
   "metadata": {},
   "source": [
    " 14. **Nombre de morceaux par playlist** : Fournissez une requête\r\n",
    " affichant le nombre total de morceaux dans chaque playlist.\r\n",
    " Le nom de la playlist doit être inclus dans le tableau résultant."
   ]
  },
  {
   "cell_type": "code",
   "execution_count": 686,
   "id": "13acd1c7-ee00-4618-929f-13b03003bd3b",
   "metadata": {},
   "outputs": [
    {
     "name": "stderr",
     "output_type": "stream",
     "text": [
      "C:\\Users\\mabou\\AppData\\Local\\Temp\\ipykernel_19944\\2243717586.py:1: UserWarning: pandas only supports SQLAlchemy connectable (engine/connection) or database string URI or sqlite3 DBAPI2 connection. Other DBAPI2 objects are not tested. Please consider using SQLAlchemy.\n",
      "  df_14 = pd.read_sql_query(\"SELECT pl.name, COUNT(plt.track_Id) AS nombre_morceau FROM Playlist_Track plt JOIN Playlist pl ON  plt.playlist_Id = pl.playlist_Id  GROUP BY pl.name ORDER BY nombre_morceau ASC\"\n"
     ]
    }
   ],
   "source": [
    "df_14 = pd.read_sql_query(\"SELECT pl.name, COUNT(plt.track_Id) AS nombre_morceau FROM Playlist_Track plt JOIN Playlist pl ON  plt.playlist_Id = pl.playlist_Id  GROUP BY pl.name ORDER BY nombre_morceau ASC\"\n",
    "                         , conexion)"
   ]
  },
  {
   "cell_type": "code",
   "execution_count": 688,
   "id": "46668986-b76e-4757-a498-4f089c7b31c8",
   "metadata": {},
   "outputs": [
    {
     "data": {
      "text/html": [
       "<div>\n",
       "<style scoped>\n",
       "    .dataframe tbody tr th:only-of-type {\n",
       "        vertical-align: middle;\n",
       "    }\n",
       "\n",
       "    .dataframe tbody tr th {\n",
       "        vertical-align: top;\n",
       "    }\n",
       "\n",
       "    .dataframe thead th {\n",
       "        text-align: right;\n",
       "    }\n",
       "</style>\n",
       "<table border=\"1\" class=\"dataframe\">\n",
       "  <thead>\n",
       "    <tr style=\"text-align: right;\">\n",
       "      <th></th>\n",
       "      <th>name</th>\n",
       "      <th>nombre_morceau</th>\n",
       "    </tr>\n",
       "  </thead>\n",
       "  <tbody>\n",
       "    <tr>\n",
       "      <th>0</th>\n",
       "      <td>Music Videos</td>\n",
       "      <td>1</td>\n",
       "    </tr>\n",
       "    <tr>\n",
       "      <th>1</th>\n",
       "      <td>On-The-Go 1</td>\n",
       "      <td>1</td>\n",
       "    </tr>\n",
       "    <tr>\n",
       "      <th>2</th>\n",
       "      <td>Grunge</td>\n",
       "      <td>15</td>\n",
       "    </tr>\n",
       "    <tr>\n",
       "      <th>3</th>\n",
       "      <td>Classical 101 - The Basics</td>\n",
       "      <td>25</td>\n",
       "    </tr>\n",
       "    <tr>\n",
       "      <th>4</th>\n",
       "      <td>Classical 101 - Next Steps</td>\n",
       "      <td>25</td>\n",
       "    </tr>\n",
       "    <tr>\n",
       "      <th>5</th>\n",
       "      <td>Classical 101 - Deep Cuts</td>\n",
       "      <td>25</td>\n",
       "    </tr>\n",
       "    <tr>\n",
       "      <th>6</th>\n",
       "      <td>Heavy Metal Classic</td>\n",
       "      <td>26</td>\n",
       "    </tr>\n",
       "    <tr>\n",
       "      <th>7</th>\n",
       "      <td>Brazilian Music</td>\n",
       "      <td>39</td>\n",
       "    </tr>\n",
       "    <tr>\n",
       "      <th>8</th>\n",
       "      <td>Classical</td>\n",
       "      <td>75</td>\n",
       "    </tr>\n",
       "    <tr>\n",
       "      <th>9</th>\n",
       "      <td>TV Shows</td>\n",
       "      <td>426</td>\n",
       "    </tr>\n",
       "    <tr>\n",
       "      <th>10</th>\n",
       "      <td>90’s Music</td>\n",
       "      <td>1477</td>\n",
       "    </tr>\n",
       "    <tr>\n",
       "      <th>11</th>\n",
       "      <td>Music</td>\n",
       "      <td>6580</td>\n",
       "    </tr>\n",
       "  </tbody>\n",
       "</table>\n",
       "</div>"
      ],
      "text/plain": [
       "                          name  nombre_morceau\n",
       "0                 Music Videos               1\n",
       "1                  On-The-Go 1               1\n",
       "2                       Grunge              15\n",
       "3   Classical 101 - The Basics              25\n",
       "4   Classical 101 - Next Steps              25\n",
       "5    Classical 101 - Deep Cuts              25\n",
       "6          Heavy Metal Classic              26\n",
       "7              Brazilian Music              39\n",
       "8                    Classical              75\n",
       "9                     TV Shows             426\n",
       "10                  90’s Music            1477\n",
       "11                       Music            6580"
      ]
     },
     "execution_count": 688,
     "metadata": {},
     "output_type": "execute_result"
    }
   ],
   "source": [
    "df_14"
   ]
  },
  {
   "cell_type": "markdown",
   "id": "2f7cde12-ed5a-45f4-ae49-dc21bd4b1b45",
   "metadata": {},
   "source": [
    " 15. **Liste des morceaux** : Fournissez une requête affichant tous les\r\n",
    " morceaux (Tracks), mais sans afficher les IDs.\r\n",
    " Le tableau résultant doit inclure le nom de l'album, le type de média\r\n",
    " et le genre.\r\n"
   ]
  },
  {
   "cell_type": "code",
   "execution_count": 691,
   "id": "9dbff8b7-50e9-43e9-b134-524f9cf1e021",
   "metadata": {},
   "outputs": [
    {
     "name": "stderr",
     "output_type": "stream",
     "text": [
      "C:\\Users\\mabou\\AppData\\Local\\Temp\\ipykernel_19944\\1785552603.py:1: UserWarning: pandas only supports SQLAlchemy connectable (engine/connection) or database string URI or sqlite3 DBAPI2 connection. Other DBAPI2 objects are not tested. Please consider using SQLAlchemy.\n",
      "  df_15 = pd.read_sql_query(\"SELECT t.name AS Morceau, a.title AS Album, mt.name AS TypeMedia, g.name AS Genre FROM Track t JOIN Album a ON t.album_Id = a.album_Id JOIN Media_Type mt ON t.media_type_Id = mt.media_type_Id JOIN Genre g ON t.genre_Id = g.genre_Id ORDER BY  a.title, t.name\"\n"
     ]
    }
   ],
   "source": [
    "df_15 = pd.read_sql_query(\"SELECT t.name AS Morceau, a.title AS Album, mt.name AS TypeMedia, g.name AS Genre FROM Track t JOIN Album a ON t.album_Id = a.album_Id JOIN Media_Type mt ON t.media_type_Id = mt.media_type_Id JOIN Genre g ON t.genre_Id = g.genre_Id ORDER BY  a.title, t.name\"\n",
    "                         , conexion)"
   ]
  },
  {
   "cell_type": "code",
   "execution_count": 693,
   "id": "ca787b01-90e2-4dea-ae46-641d974a5ff4",
   "metadata": {},
   "outputs": [
    {
     "data": {
      "text/html": [
       "<div>\n",
       "<style scoped>\n",
       "    .dataframe tbody tr th:only-of-type {\n",
       "        vertical-align: middle;\n",
       "    }\n",
       "\n",
       "    .dataframe tbody tr th {\n",
       "        vertical-align: top;\n",
       "    }\n",
       "\n",
       "    .dataframe thead th {\n",
       "        text-align: right;\n",
       "    }\n",
       "</style>\n",
       "<table border=\"1\" class=\"dataframe\">\n",
       "  <thead>\n",
       "    <tr style=\"text-align: right;\">\n",
       "      <th></th>\n",
       "      <th>morceau</th>\n",
       "      <th>album</th>\n",
       "      <th>typemedia</th>\n",
       "      <th>genre</th>\n",
       "    </tr>\n",
       "  </thead>\n",
       "  <tbody>\n",
       "    <tr>\n",
       "      <th>0</th>\n",
       "      <td>...And Justice For All</td>\n",
       "      <td>...And Justice For All</td>\n",
       "      <td>MPEG audio file</td>\n",
       "      <td>Metal</td>\n",
       "    </tr>\n",
       "    <tr>\n",
       "      <th>1</th>\n",
       "      <td>Blackened</td>\n",
       "      <td>...And Justice For All</td>\n",
       "      <td>MPEG audio file</td>\n",
       "      <td>Metal</td>\n",
       "    </tr>\n",
       "    <tr>\n",
       "      <th>2</th>\n",
       "      <td>Dyers Eve</td>\n",
       "      <td>...And Justice For All</td>\n",
       "      <td>MPEG audio file</td>\n",
       "      <td>Metal</td>\n",
       "    </tr>\n",
       "    <tr>\n",
       "      <th>3</th>\n",
       "      <td>Eye Of The Beholder</td>\n",
       "      <td>...And Justice For All</td>\n",
       "      <td>MPEG audio file</td>\n",
       "      <td>Metal</td>\n",
       "    </tr>\n",
       "    <tr>\n",
       "      <th>4</th>\n",
       "      <td>Harvester Of Sorrow</td>\n",
       "      <td>...And Justice For All</td>\n",
       "      <td>MPEG audio file</td>\n",
       "      <td>Metal</td>\n",
       "    </tr>\n",
       "    <tr>\n",
       "      <th>...</th>\n",
       "      <td>...</td>\n",
       "      <td>...</td>\n",
       "      <td>...</td>\n",
       "      <td>...</td>\n",
       "    </tr>\n",
       "    <tr>\n",
       "      <th>3498</th>\n",
       "      <td>Some Days Are Better Than Others</td>\n",
       "      <td>Zooropa</td>\n",
       "      <td>MPEG audio file</td>\n",
       "      <td>Rock</td>\n",
       "    </tr>\n",
       "    <tr>\n",
       "      <th>3499</th>\n",
       "      <td>Stay (Faraway, So Close!)</td>\n",
       "      <td>Zooropa</td>\n",
       "      <td>MPEG audio file</td>\n",
       "      <td>Rock</td>\n",
       "    </tr>\n",
       "    <tr>\n",
       "      <th>3500</th>\n",
       "      <td>The First Time</td>\n",
       "      <td>Zooropa</td>\n",
       "      <td>MPEG audio file</td>\n",
       "      <td>Rock</td>\n",
       "    </tr>\n",
       "    <tr>\n",
       "      <th>3501</th>\n",
       "      <td>The Wanderer</td>\n",
       "      <td>Zooropa</td>\n",
       "      <td>MPEG audio file</td>\n",
       "      <td>Rock</td>\n",
       "    </tr>\n",
       "    <tr>\n",
       "      <th>3502</th>\n",
       "      <td>Zooropa</td>\n",
       "      <td>Zooropa</td>\n",
       "      <td>MPEG audio file</td>\n",
       "      <td>Rock</td>\n",
       "    </tr>\n",
       "  </tbody>\n",
       "</table>\n",
       "<p>3503 rows × 4 columns</p>\n",
       "</div>"
      ],
      "text/plain": [
       "                               morceau                   album  \\\n",
       "0               ...And Justice For All  ...And Justice For All   \n",
       "1                            Blackened  ...And Justice For All   \n",
       "2                            Dyers Eve  ...And Justice For All   \n",
       "3                  Eye Of The Beholder  ...And Justice For All   \n",
       "4                  Harvester Of Sorrow  ...And Justice For All   \n",
       "...                                ...                     ...   \n",
       "3498  Some Days Are Better Than Others                 Zooropa   \n",
       "3499         Stay (Faraway, So Close!)                 Zooropa   \n",
       "3500                    The First Time                 Zooropa   \n",
       "3501                      The Wanderer                 Zooropa   \n",
       "3502                           Zooropa                 Zooropa   \n",
       "\n",
       "            typemedia  genre  \n",
       "0     MPEG audio file  Metal  \n",
       "1     MPEG audio file  Metal  \n",
       "2     MPEG audio file  Metal  \n",
       "3     MPEG audio file  Metal  \n",
       "4     MPEG audio file  Metal  \n",
       "...               ...    ...  \n",
       "3498  MPEG audio file   Rock  \n",
       "3499  MPEG audio file   Rock  \n",
       "3500  MPEG audio file   Rock  \n",
       "3501  MPEG audio file   Rock  \n",
       "3502  MPEG audio file   Rock  \n",
       "\n",
       "[3503 rows x 4 columns]"
      ]
     },
     "execution_count": 693,
     "metadata": {},
     "output_type": "execute_result"
    }
   ],
   "source": [
    "df_15"
   ]
  },
  {
   "cell_type": "code",
   "execution_count": 695,
   "id": "3a454cb8-95a2-4d1b-af16-44c6e1839280",
   "metadata": {},
   "outputs": [
    {
     "name": "stdout",
     "output_type": "stream",
     "text": [
      "<class 'pandas.core.frame.DataFrame'>\n",
      "RangeIndex: 3503 entries, 0 to 3502\n",
      "Data columns (total 4 columns):\n",
      " #   Column     Non-Null Count  Dtype \n",
      "---  ------     --------------  ----- \n",
      " 0   morceau    3503 non-null   object\n",
      " 1   album      3503 non-null   object\n",
      " 2   typemedia  3503 non-null   object\n",
      " 3   genre      3503 non-null   object\n",
      "dtypes: object(4)\n",
      "memory usage: 109.6+ KB\n"
     ]
    }
   ],
   "source": [
    "df_15.info()"
   ]
  },
  {
   "cell_type": "markdown",
   "id": "4c11b945-f4a7-4f4c-bd45-e0c4d6539f59",
   "metadata": {},
   "source": [
    "## Analyse des ventes"
   ]
  },
  {
   "cell_type": "markdown",
   "id": "9e6f1ce4-4f6e-4e93-b19b-8b3528911463",
   "metadata": {},
   "source": [
    "16. **Factures et articles** : Fournissez une requête affichant toutes les\n",
    " factures, avec le nombre d'articles par facture."
   ]
  },
  {
   "cell_type": "code",
   "execution_count": 699,
   "id": "4c84651d-e755-46de-a6d9-5d4e5d428be4",
   "metadata": {},
   "outputs": [
    {
     "name": "stderr",
     "output_type": "stream",
     "text": [
      "C:\\Users\\mabou\\AppData\\Local\\Temp\\ipykernel_19944\\2350286215.py:1: UserWarning: pandas only supports SQLAlchemy connectable (engine/connection) or database string URI or sqlite3 DBAPI2 connection. Other DBAPI2 objects are not tested. Please consider using SQLAlchemy.\n",
      "  df_16 = pd.read_sql_query(\"SELECT invoice_Id AS id_facture, sum(quantity) AS nombre_article FROM Invoice_Line GROUP BY invoice_Id  ORDER BY invoice_Id ASC\"\n"
     ]
    }
   ],
   "source": [
    "df_16 = pd.read_sql_query(\"SELECT invoice_Id AS id_facture, sum(quantity) AS nombre_article FROM Invoice_Line GROUP BY invoice_Id  ORDER BY invoice_Id ASC\"\n",
    "                         , conexion)"
   ]
  },
  {
   "cell_type": "code",
   "execution_count": 701,
   "id": "f21f0581-e17c-459f-8a36-f62a20f0bf76",
   "metadata": {},
   "outputs": [
    {
     "data": {
      "text/html": [
       "<div>\n",
       "<style scoped>\n",
       "    .dataframe tbody tr th:only-of-type {\n",
       "        vertical-align: middle;\n",
       "    }\n",
       "\n",
       "    .dataframe tbody tr th {\n",
       "        vertical-align: top;\n",
       "    }\n",
       "\n",
       "    .dataframe thead th {\n",
       "        text-align: right;\n",
       "    }\n",
       "</style>\n",
       "<table border=\"1\" class=\"dataframe\">\n",
       "  <thead>\n",
       "    <tr style=\"text-align: right;\">\n",
       "      <th></th>\n",
       "      <th>id_facture</th>\n",
       "      <th>nombre_article</th>\n",
       "    </tr>\n",
       "  </thead>\n",
       "  <tbody>\n",
       "    <tr>\n",
       "      <th>0</th>\n",
       "      <td>1</td>\n",
       "      <td>2</td>\n",
       "    </tr>\n",
       "    <tr>\n",
       "      <th>1</th>\n",
       "      <td>2</td>\n",
       "      <td>4</td>\n",
       "    </tr>\n",
       "    <tr>\n",
       "      <th>2</th>\n",
       "      <td>3</td>\n",
       "      <td>6</td>\n",
       "    </tr>\n",
       "    <tr>\n",
       "      <th>3</th>\n",
       "      <td>4</td>\n",
       "      <td>9</td>\n",
       "    </tr>\n",
       "    <tr>\n",
       "      <th>4</th>\n",
       "      <td>5</td>\n",
       "      <td>14</td>\n",
       "    </tr>\n",
       "    <tr>\n",
       "      <th>...</th>\n",
       "      <td>...</td>\n",
       "      <td>...</td>\n",
       "    </tr>\n",
       "    <tr>\n",
       "      <th>407</th>\n",
       "      <td>408</td>\n",
       "      <td>4</td>\n",
       "    </tr>\n",
       "    <tr>\n",
       "      <th>408</th>\n",
       "      <td>409</td>\n",
       "      <td>6</td>\n",
       "    </tr>\n",
       "    <tr>\n",
       "      <th>409</th>\n",
       "      <td>410</td>\n",
       "      <td>9</td>\n",
       "    </tr>\n",
       "    <tr>\n",
       "      <th>410</th>\n",
       "      <td>411</td>\n",
       "      <td>14</td>\n",
       "    </tr>\n",
       "    <tr>\n",
       "      <th>411</th>\n",
       "      <td>412</td>\n",
       "      <td>1</td>\n",
       "    </tr>\n",
       "  </tbody>\n",
       "</table>\n",
       "<p>412 rows × 2 columns</p>\n",
       "</div>"
      ],
      "text/plain": [
       "     id_facture  nombre_article\n",
       "0             1               2\n",
       "1             2               4\n",
       "2             3               6\n",
       "3             4               9\n",
       "4             5              14\n",
       "..          ...             ...\n",
       "407         408               4\n",
       "408         409               6\n",
       "409         410               9\n",
       "410         411              14\n",
       "411         412               1\n",
       "\n",
       "[412 rows x 2 columns]"
      ]
     },
     "execution_count": 701,
     "metadata": {},
     "output_type": "execute_result"
    }
   ],
   "source": [
    "df_16"
   ]
  },
  {
   "cell_type": "code",
   "execution_count": 703,
   "id": "a7cc1570-e1d4-42b2-9125-10ec361d3a48",
   "metadata": {},
   "outputs": [
    {
     "name": "stdout",
     "output_type": "stream",
     "text": [
      "<class 'pandas.core.frame.DataFrame'>\n",
      "RangeIndex: 412 entries, 0 to 411\n",
      "Data columns (total 2 columns):\n",
      " #   Column          Non-Null Count  Dtype\n",
      "---  ------          --------------  -----\n",
      " 0   id_facture      412 non-null    int64\n",
      " 1   nombre_article  412 non-null    int64\n",
      "dtypes: int64(2)\n",
      "memory usage: 6.6 KB\n"
     ]
    }
   ],
   "source": [
    "df_16.info()"
   ]
  },
  {
   "cell_type": "markdown",
   "id": "4909bc17-c09a-4047-beac-6aee9d15445c",
   "metadata": {},
   "source": [
    "17. **Ventes par agent de vente** : Fournissez une requête affichant les\r\n",
    " ventes totales réalisées par chaque agent de vente."
   ]
  },
  {
   "cell_type": "code",
   "execution_count": 706,
   "id": "06df7cbb-43d1-4b25-9987-962200b02ff5",
   "metadata": {},
   "outputs": [
    {
     "name": "stderr",
     "output_type": "stream",
     "text": [
      "C:\\Users\\mabou\\AppData\\Local\\Temp\\ipykernel_19944\\2394777007.py:1: UserWarning: pandas only supports SQLAlchemy connectable (engine/connection) or database string URI or sqlite3 DBAPI2 connection. Other DBAPI2 objects are not tested. Please consider using SQLAlchemy.\n",
      "  df_17 = pd.read_sql_query(\"SELECT e.first_name || ' ' || e.last_name AS NomCompletagent, SUM(i.total) AS total_vente, COUNT(i.invoice_Id) AS nombre_vente FROM Invoice i JOIN Customer c ON i.customer_Id=c.customer_id JOIN Employee e ON c.support_rep_Id=e.employee_Id WHERE e.title LIKE '%Sales%Agent%' GROUP BY NomCompletagent\"\n"
     ]
    }
   ],
   "source": [
    "df_17 = pd.read_sql_query(\"SELECT e.first_name || ' ' || e.last_name AS NomCompletagent, SUM(i.total) AS total_vente, COUNT(i.invoice_Id) AS nombre_vente FROM Invoice i JOIN Customer c ON i.customer_Id=c.customer_id JOIN Employee e ON c.support_rep_Id=e.employee_Id WHERE e.title LIKE '%Sales%Agent%' GROUP BY NomCompletagent\"\n",
    "                         , conexion)"
   ]
  },
  {
   "cell_type": "code",
   "execution_count": 708,
   "id": "7bcc9f97-c46c-4ff9-b568-3b558e3a2d26",
   "metadata": {},
   "outputs": [
    {
     "data": {
      "text/html": [
       "<div>\n",
       "<style scoped>\n",
       "    .dataframe tbody tr th:only-of-type {\n",
       "        vertical-align: middle;\n",
       "    }\n",
       "\n",
       "    .dataframe tbody tr th {\n",
       "        vertical-align: top;\n",
       "    }\n",
       "\n",
       "    .dataframe thead th {\n",
       "        text-align: right;\n",
       "    }\n",
       "</style>\n",
       "<table border=\"1\" class=\"dataframe\">\n",
       "  <thead>\n",
       "    <tr style=\"text-align: right;\">\n",
       "      <th></th>\n",
       "      <th>nomcompletagent</th>\n",
       "      <th>total_vente</th>\n",
       "      <th>nombre_vente</th>\n",
       "    </tr>\n",
       "  </thead>\n",
       "  <tbody>\n",
       "    <tr>\n",
       "      <th>0</th>\n",
       "      <td>Jane Peacock</td>\n",
       "      <td>833.04</td>\n",
       "      <td>146</td>\n",
       "    </tr>\n",
       "    <tr>\n",
       "      <th>1</th>\n",
       "      <td>Margaret Park</td>\n",
       "      <td>775.40</td>\n",
       "      <td>140</td>\n",
       "    </tr>\n",
       "    <tr>\n",
       "      <th>2</th>\n",
       "      <td>Steve Johnson</td>\n",
       "      <td>720.16</td>\n",
       "      <td>126</td>\n",
       "    </tr>\n",
       "  </tbody>\n",
       "</table>\n",
       "</div>"
      ],
      "text/plain": [
       "  nomcompletagent  total_vente  nombre_vente\n",
       "0    Jane Peacock       833.04           146\n",
       "1   Margaret Park       775.40           140\n",
       "2   Steve Johnson       720.16           126"
      ]
     },
     "execution_count": 708,
     "metadata": {},
     "output_type": "execute_result"
    }
   ],
   "source": [
    "df_17"
   ]
  },
  {
   "cell_type": "markdown",
   "id": "77a83314-6164-427f-8fde-63ca4852cc47",
   "metadata": {},
   "source": [
    " 18. **Meilleur agent de 2009** : Quel agent de vente a réalisé le plus de\r\n",
    " ventes en 2009 ?"
   ]
  },
  {
   "cell_type": "markdown",
   "id": "e643fe33-3279-4b5a-b894-62113d0df058",
   "metadata": {},
   "source": [
    "Avec les résultats obtenus 8 il ya eu 0 vente en 2009"
   ]
  },
  {
   "cell_type": "markdown",
   "id": "759078e7-7cb4-40ec-a8aa-d7db07f205d6",
   "metadata": {},
   "source": [
    " 19. **Meilleur agent de 2010** : Quel agent de vente a réalisé le plus de\n",
    " ventes en 2010 ?"
   ]
  },
  {
   "cell_type": "markdown",
   "id": "a5ea83fe-5288-4bfa-a7a0-396ad8e90a90",
   "metadata": {},
   "source": [
    "Idem "
   ]
  },
  {
   "cell_type": "markdown",
   "id": "35508033-5335-409d-8d02-444f491b5009",
   "metadata": {},
   "source": [
    " 20. **Meilleur agent global** : Quel agent de vente a réalisé le plus de\n",
    " ventes en tout ?"
   ]
  },
  {
   "cell_type": "markdown",
   "id": "8d18f46f-1c9c-4ae8-bb87-597b5052465c",
   "metadata": {},
   "source": [
    "L'agent de vente ayant réalisé le plus de vente est **Jane Peacock**"
   ]
  },
  {
   "cell_type": "markdown",
   "id": "6f058bd1-fa2f-4e8c-93c3-0f5c2b1ac360",
   "metadata": {},
   "source": [
    "## Analyse des clients et des pays"
   ]
  },
  {
   "cell_type": "markdown",
   "id": "a9c9b465-4dea-47bd-a1f3-1c7cecf39a24",
   "metadata": {},
   "source": [
    "21. **Clients par agent de vente** : Fournissez une requête affichant le\n",
    " nombre de clients attribués à chaque agent de vente."
   ]
  },
  {
   "cell_type": "code",
   "execution_count": 718,
   "id": "cafbd61c-0238-4cfc-8f95-986f29b54e7a",
   "metadata": {},
   "outputs": [
    {
     "name": "stderr",
     "output_type": "stream",
     "text": [
      "C:\\Users\\mabou\\AppData\\Local\\Temp\\ipykernel_19944\\1319999409.py:1: UserWarning: pandas only supports SQLAlchemy connectable (engine/connection) or database string URI or sqlite3 DBAPI2 connection. Other DBAPI2 objects are not tested. Please consider using SQLAlchemy.\n",
      "  df_21 = pd.read_sql_query(\"SELECT e.first_name || ' ' || e.last_name AS NomCompletagent, COUNT(c.customer_Id) AS nombre_client FROM Customer c JOIN Employee e ON c.support_rep_Id=e.employee_Id WHERE e.title LIKE '%Sales%Agent%' GROUP BY NomCompletagent\"\n"
     ]
    }
   ],
   "source": [
    "df_21 = pd.read_sql_query(\"SELECT e.first_name || ' ' || e.last_name AS NomCompletagent, COUNT(c.customer_Id) AS nombre_client FROM Customer c JOIN Employee e ON c.support_rep_Id=e.employee_Id WHERE e.title LIKE '%Sales%Agent%' GROUP BY NomCompletagent\"\n",
    "                         , conexion)"
   ]
  },
  {
   "cell_type": "code",
   "execution_count": 720,
   "id": "fb9a10b4-b1e7-4a7c-bc9b-9f6346f171a9",
   "metadata": {},
   "outputs": [
    {
     "data": {
      "text/html": [
       "<div>\n",
       "<style scoped>\n",
       "    .dataframe tbody tr th:only-of-type {\n",
       "        vertical-align: middle;\n",
       "    }\n",
       "\n",
       "    .dataframe tbody tr th {\n",
       "        vertical-align: top;\n",
       "    }\n",
       "\n",
       "    .dataframe thead th {\n",
       "        text-align: right;\n",
       "    }\n",
       "</style>\n",
       "<table border=\"1\" class=\"dataframe\">\n",
       "  <thead>\n",
       "    <tr style=\"text-align: right;\">\n",
       "      <th></th>\n",
       "      <th>nomcompletagent</th>\n",
       "      <th>nombre_client</th>\n",
       "    </tr>\n",
       "  </thead>\n",
       "  <tbody>\n",
       "    <tr>\n",
       "      <th>0</th>\n",
       "      <td>Jane Peacock</td>\n",
       "      <td>21</td>\n",
       "    </tr>\n",
       "    <tr>\n",
       "      <th>1</th>\n",
       "      <td>Margaret Park</td>\n",
       "      <td>20</td>\n",
       "    </tr>\n",
       "    <tr>\n",
       "      <th>2</th>\n",
       "      <td>Steve Johnson</td>\n",
       "      <td>18</td>\n",
       "    </tr>\n",
       "  </tbody>\n",
       "</table>\n",
       "</div>"
      ],
      "text/plain": [
       "  nomcompletagent  nombre_client\n",
       "0    Jane Peacock             21\n",
       "1   Margaret Park             20\n",
       "2   Steve Johnson             18"
      ]
     },
     "execution_count": 720,
     "metadata": {},
     "output_type": "execute_result"
    }
   ],
   "source": [
    "df_21"
   ]
  },
  {
   "cell_type": "markdown",
   "id": "b4863144-9600-48b2-aa12-5c16f535f9f8",
   "metadata": {},
   "source": [
    "22. **Ventes totales par pays** : Fournissez une requête affichant les\r\n",
    " ventes totales par pays.\r\n",
    " Quel pays a dépensé le plus ?"
   ]
  },
  {
   "cell_type": "code",
   "execution_count": 723,
   "id": "1b208fb0-ced7-4684-b4e2-1f47152cfd86",
   "metadata": {},
   "outputs": [
    {
     "name": "stderr",
     "output_type": "stream",
     "text": [
      "C:\\Users\\mabou\\AppData\\Local\\Temp\\ipykernel_19944\\2625006740.py:1: UserWarning: pandas only supports SQLAlchemy connectable (engine/connection) or database string URI or sqlite3 DBAPI2 connection. Other DBAPI2 objects are not tested. Please consider using SQLAlchemy.\n",
      "  df_22 = pd.read_sql_query(\"SELECT billing_country AS pays, SUM(total) AS total_vente FROM Invoice GROUP BY pays\"\n"
     ]
    }
   ],
   "source": [
    "df_22 = pd.read_sql_query(\"SELECT billing_country AS pays, SUM(total) AS total_vente FROM Invoice GROUP BY pays\"\n",
    "                         , conexion)"
   ]
  },
  {
   "cell_type": "code",
   "execution_count": 725,
   "id": "5afed3da-445d-4c76-9612-31a2932bd518",
   "metadata": {},
   "outputs": [
    {
     "data": {
      "text/html": [
       "<div>\n",
       "<style scoped>\n",
       "    .dataframe tbody tr th:only-of-type {\n",
       "        vertical-align: middle;\n",
       "    }\n",
       "\n",
       "    .dataframe tbody tr th {\n",
       "        vertical-align: top;\n",
       "    }\n",
       "\n",
       "    .dataframe thead th {\n",
       "        text-align: right;\n",
       "    }\n",
       "</style>\n",
       "<table border=\"1\" class=\"dataframe\">\n",
       "  <thead>\n",
       "    <tr style=\"text-align: right;\">\n",
       "      <th></th>\n",
       "      <th>pays</th>\n",
       "      <th>total_vente</th>\n",
       "    </tr>\n",
       "  </thead>\n",
       "  <tbody>\n",
       "    <tr>\n",
       "      <th>0</th>\n",
       "      <td>Argentina</td>\n",
       "      <td>37.62</td>\n",
       "    </tr>\n",
       "    <tr>\n",
       "      <th>1</th>\n",
       "      <td>Spain</td>\n",
       "      <td>37.62</td>\n",
       "    </tr>\n",
       "    <tr>\n",
       "      <th>2</th>\n",
       "      <td>Italy</td>\n",
       "      <td>37.62</td>\n",
       "    </tr>\n",
       "    <tr>\n",
       "      <th>3</th>\n",
       "      <td>Hungary</td>\n",
       "      <td>45.62</td>\n",
       "    </tr>\n",
       "    <tr>\n",
       "      <th>4</th>\n",
       "      <td>India</td>\n",
       "      <td>75.26</td>\n",
       "    </tr>\n",
       "    <tr>\n",
       "      <th>5</th>\n",
       "      <td>Czech Republic</td>\n",
       "      <td>90.24</td>\n",
       "    </tr>\n",
       "    <tr>\n",
       "      <th>6</th>\n",
       "      <td>Belgium</td>\n",
       "      <td>37.62</td>\n",
       "    </tr>\n",
       "    <tr>\n",
       "      <th>7</th>\n",
       "      <td>Sweden</td>\n",
       "      <td>38.62</td>\n",
       "    </tr>\n",
       "    <tr>\n",
       "      <th>8</th>\n",
       "      <td>Chile</td>\n",
       "      <td>46.62</td>\n",
       "    </tr>\n",
       "    <tr>\n",
       "      <th>9</th>\n",
       "      <td>Norway</td>\n",
       "      <td>39.62</td>\n",
       "    </tr>\n",
       "    <tr>\n",
       "      <th>10</th>\n",
       "      <td>France</td>\n",
       "      <td>195.10</td>\n",
       "    </tr>\n",
       "    <tr>\n",
       "      <th>11</th>\n",
       "      <td>USA</td>\n",
       "      <td>523.06</td>\n",
       "    </tr>\n",
       "    <tr>\n",
       "      <th>12</th>\n",
       "      <td>United Kingdom</td>\n",
       "      <td>112.86</td>\n",
       "    </tr>\n",
       "    <tr>\n",
       "      <th>13</th>\n",
       "      <td>Netherlands</td>\n",
       "      <td>40.62</td>\n",
       "    </tr>\n",
       "    <tr>\n",
       "      <th>14</th>\n",
       "      <td>Brazil</td>\n",
       "      <td>190.10</td>\n",
       "    </tr>\n",
       "    <tr>\n",
       "      <th>15</th>\n",
       "      <td>Austria</td>\n",
       "      <td>42.62</td>\n",
       "    </tr>\n",
       "    <tr>\n",
       "      <th>16</th>\n",
       "      <td>Poland</td>\n",
       "      <td>37.62</td>\n",
       "    </tr>\n",
       "    <tr>\n",
       "      <th>17</th>\n",
       "      <td>Australia</td>\n",
       "      <td>37.62</td>\n",
       "    </tr>\n",
       "    <tr>\n",
       "      <th>18</th>\n",
       "      <td>Ireland</td>\n",
       "      <td>45.62</td>\n",
       "    </tr>\n",
       "    <tr>\n",
       "      <th>19</th>\n",
       "      <td>Germany</td>\n",
       "      <td>156.48</td>\n",
       "    </tr>\n",
       "    <tr>\n",
       "      <th>20</th>\n",
       "      <td>Denmark</td>\n",
       "      <td>37.62</td>\n",
       "    </tr>\n",
       "    <tr>\n",
       "      <th>21</th>\n",
       "      <td>Canada</td>\n",
       "      <td>303.96</td>\n",
       "    </tr>\n",
       "    <tr>\n",
       "      <th>22</th>\n",
       "      <td>Finland</td>\n",
       "      <td>41.62</td>\n",
       "    </tr>\n",
       "    <tr>\n",
       "      <th>23</th>\n",
       "      <td>Portugal</td>\n",
       "      <td>77.24</td>\n",
       "    </tr>\n",
       "  </tbody>\n",
       "</table>\n",
       "</div>"
      ],
      "text/plain": [
       "              pays  total_vente\n",
       "0        Argentina        37.62\n",
       "1            Spain        37.62\n",
       "2            Italy        37.62\n",
       "3          Hungary        45.62\n",
       "4            India        75.26\n",
       "5   Czech Republic        90.24\n",
       "6          Belgium        37.62\n",
       "7           Sweden        38.62\n",
       "8            Chile        46.62\n",
       "9           Norway        39.62\n",
       "10          France       195.10\n",
       "11             USA       523.06\n",
       "12  United Kingdom       112.86\n",
       "13     Netherlands        40.62\n",
       "14          Brazil       190.10\n",
       "15         Austria        42.62\n",
       "16          Poland        37.62\n",
       "17       Australia        37.62\n",
       "18         Ireland        45.62\n",
       "19         Germany       156.48\n",
       "20         Denmark        37.62\n",
       "21          Canada       303.96\n",
       "22         Finland        41.62\n",
       "23        Portugal        77.24"
      ]
     },
     "execution_count": 725,
     "metadata": {},
     "output_type": "execute_result"
    }
   ],
   "source": [
    "df_22"
   ]
  },
  {
   "cell_type": "markdown",
   "id": "5ac93761-f2c4-49c6-9774-d5ab8182d6f1",
   "metadata": {},
   "source": [
    "##  Analyse des morceaux et des artistes"
   ]
  },
  {
   "cell_type": "markdown",
   "id": "e5b067b3-751b-43d3-8617-792c8e47dda4",
   "metadata": {},
   "source": [
    " 23. **Morceau le plus acheté en 2023** : Fournissez une requête\r\n",
    " affichant le morceau le plus acheté en 2013."
   ]
  },
  {
   "cell_type": "code",
   "execution_count": 729,
   "id": "bd41eedc-cca9-41d9-93c3-75e5c6c2364c",
   "metadata": {},
   "outputs": [
    {
     "name": "stderr",
     "output_type": "stream",
     "text": [
      "C:\\Users\\mabou\\AppData\\Local\\Temp\\ipykernel_19944\\3563137779.py:1: UserWarning: pandas only supports SQLAlchemy connectable (engine/connection) or database string URI or sqlite3 DBAPI2 connection. Other DBAPI2 objects are not tested. Please consider using SQLAlchemy.\n",
      "  df_23 = pd.read_sql_query(\"SELECT t.name AS nom_morceau, COUNT(il.quantity) AS nombre_achete FROM Invoice_Line il JOIN Track t ON il.track_Id = t.track_Id JOIN Invoice i ON il.invoice_Id = i.invoice_Id WHERE DATE_PART('year', I.invoice_date)=2023 GROUP BY nom_morceau ORDER BY nombre_achete DESC LIMIT 1\"\n"
     ]
    }
   ],
   "source": [
    " df_23 = pd.read_sql_query(\"SELECT t.name AS nom_morceau, COUNT(il.quantity) AS nombre_achete FROM Invoice_Line il JOIN Track t ON il.track_Id = t.track_Id JOIN Invoice i ON il.invoice_Id = i.invoice_Id WHERE DATE_PART('year', I.invoice_date)=2023 GROUP BY nom_morceau ORDER BY nombre_achete DESC LIMIT 1\"\n",
    "                         , conexion)"
   ]
  },
  {
   "cell_type": "code",
   "execution_count": 731,
   "id": "70652758-f4d9-49d5-b2b5-e7c9048d79a4",
   "metadata": {},
   "outputs": [
    {
     "data": {
      "text/html": [
       "<div>\n",
       "<style scoped>\n",
       "    .dataframe tbody tr th:only-of-type {\n",
       "        vertical-align: middle;\n",
       "    }\n",
       "\n",
       "    .dataframe tbody tr th {\n",
       "        vertical-align: top;\n",
       "    }\n",
       "\n",
       "    .dataframe thead th {\n",
       "        text-align: right;\n",
       "    }\n",
       "</style>\n",
       "<table border=\"1\" class=\"dataframe\">\n",
       "  <thead>\n",
       "    <tr style=\"text-align: right;\">\n",
       "      <th></th>\n",
       "      <th>nom_morceau</th>\n",
       "      <th>nombre_achete</th>\n",
       "    </tr>\n",
       "  </thead>\n",
       "  <tbody>\n",
       "    <tr>\n",
       "      <th>0</th>\n",
       "      <td>All I Want Is You</td>\n",
       "      <td>2</td>\n",
       "    </tr>\n",
       "  </tbody>\n",
       "</table>\n",
       "</div>"
      ],
      "text/plain": [
       "         nom_morceau  nombre_achete\n",
       "0  All I Want Is You              2"
      ]
     },
     "execution_count": 731,
     "metadata": {},
     "output_type": "execute_result"
    }
   ],
   "source": [
    "df_23"
   ]
  },
  {
   "cell_type": "markdown",
   "id": "21b37f93-ed5f-4db2-8f15-82b7da8c3095",
   "metadata": {},
   "source": [
    "24. **Top 5 des morceaux les plus achetés** : Fournissez une requête\r\n",
    " affichant les 5 morceaux les plus achetés en tout."
   ]
  },
  {
   "cell_type": "code",
   "execution_count": 734,
   "id": "82e5f02d-17bf-4f8d-a1b1-8a6ee1cb1dcc",
   "metadata": {},
   "outputs": [
    {
     "name": "stderr",
     "output_type": "stream",
     "text": [
      "C:\\Users\\mabou\\AppData\\Local\\Temp\\ipykernel_19944\\1673983997.py:1: UserWarning: pandas only supports SQLAlchemy connectable (engine/connection) or database string URI or sqlite3 DBAPI2 connection. Other DBAPI2 objects are not tested. Please consider using SQLAlchemy.\n",
      "  df_24 = pd.read_sql_query(\"SELECT t.name AS nom_morceau, COUNT(il.quantity) AS nombre_achete FROM Invoice_Line il JOIN Track t ON il.track_Id = t.track_Id GROUP BY nom_morceau ORDER BY nombre_achete DESC LIMIT 5\"\n"
     ]
    }
   ],
   "source": [
    "df_24 = pd.read_sql_query(\"SELECT t.name AS nom_morceau, COUNT(il.quantity) AS nombre_achete FROM Invoice_Line il JOIN Track t ON il.track_Id = t.track_Id GROUP BY nom_morceau ORDER BY nombre_achete DESC LIMIT 5\"\n",
    "                         , conexion)"
   ]
  },
  {
   "cell_type": "code",
   "execution_count": 736,
   "id": "3d3e7042-9097-4b81-8ae0-e65815097e16",
   "metadata": {},
   "outputs": [
    {
     "data": {
      "text/html": [
       "<div>\n",
       "<style scoped>\n",
       "    .dataframe tbody tr th:only-of-type {\n",
       "        vertical-align: middle;\n",
       "    }\n",
       "\n",
       "    .dataframe tbody tr th {\n",
       "        vertical-align: top;\n",
       "    }\n",
       "\n",
       "    .dataframe thead th {\n",
       "        text-align: right;\n",
       "    }\n",
       "</style>\n",
       "<table border=\"1\" class=\"dataframe\">\n",
       "  <thead>\n",
       "    <tr style=\"text-align: right;\">\n",
       "      <th></th>\n",
       "      <th>nom_morceau</th>\n",
       "      <th>nombre_achete</th>\n",
       "    </tr>\n",
       "  </thead>\n",
       "  <tbody>\n",
       "    <tr>\n",
       "      <th>0</th>\n",
       "      <td>The Trooper</td>\n",
       "      <td>5</td>\n",
       "    </tr>\n",
       "    <tr>\n",
       "      <th>1</th>\n",
       "      <td>Hallowed Be Thy Name</td>\n",
       "      <td>4</td>\n",
       "    </tr>\n",
       "    <tr>\n",
       "      <th>2</th>\n",
       "      <td>Eruption</td>\n",
       "      <td>4</td>\n",
       "    </tr>\n",
       "    <tr>\n",
       "      <th>3</th>\n",
       "      <td>Sure Know Something</td>\n",
       "      <td>4</td>\n",
       "    </tr>\n",
       "    <tr>\n",
       "      <th>4</th>\n",
       "      <td>The Number Of The Beast</td>\n",
       "      <td>4</td>\n",
       "    </tr>\n",
       "  </tbody>\n",
       "</table>\n",
       "</div>"
      ],
      "text/plain": [
       "               nom_morceau  nombre_achete\n",
       "0              The Trooper              5\n",
       "1     Hallowed Be Thy Name              4\n",
       "2                 Eruption              4\n",
       "3      Sure Know Something              4\n",
       "4  The Number Of The Beast              4"
      ]
     },
     "execution_count": 736,
     "metadata": {},
     "output_type": "execute_result"
    }
   ],
   "source": [
    "df_24"
   ]
  },
  {
   "cell_type": "markdown",
   "id": "9fa28534-5d9d-4bbf-8c6c-58b569b13a0d",
   "metadata": {},
   "source": [
    " 25. **Top 3 des artistes les plus vendus** : Fournissez une requête\r\n",
    " affichant les 3 artistes les plus vendus."
   ]
  },
  {
   "cell_type": "code",
   "execution_count": 739,
   "id": "d414c274-9e7b-4d38-8460-f4990c1907c8",
   "metadata": {},
   "outputs": [
    {
     "name": "stderr",
     "output_type": "stream",
     "text": [
      "C:\\Users\\mabou\\AppData\\Local\\Temp\\ipykernel_19944\\3798871210.py:1: UserWarning: pandas only supports SQLAlchemy connectable (engine/connection) or database string URI or sqlite3 DBAPI2 connection. Other DBAPI2 objects are not tested. Please consider using SQLAlchemy.\n",
      "  df_25 = pd.read_sql_query(\"SELECT a.name AS nom_artist, COUNT(il.quantity) AS nombre_vendu FROM Invoice_Line il JOIN Track t ON il.track_Id = t.track_Id JOIN Album al ON t.album_Id = al.album_Id JOIN Artist a ON al.artist_Id = a.artist_Id GROUP BY nom_artist ORDER BY nombre_vendu DESC LIMIT 3\"\n"
     ]
    }
   ],
   "source": [
    "df_25 = pd.read_sql_query(\"SELECT a.name AS nom_artist, COUNT(il.quantity) AS nombre_vendu FROM Invoice_Line il JOIN Track t ON il.track_Id = t.track_Id JOIN Album al ON t.album_Id = al.album_Id JOIN Artist a ON al.artist_Id = a.artist_Id GROUP BY nom_artist ORDER BY nombre_vendu DESC LIMIT 3\"\n",
    "                         , conexion)"
   ]
  },
  {
   "cell_type": "code",
   "execution_count": 741,
   "id": "663db7e2-f27b-4140-8369-a883c9c77963",
   "metadata": {},
   "outputs": [
    {
     "data": {
      "text/html": [
       "<div>\n",
       "<style scoped>\n",
       "    .dataframe tbody tr th:only-of-type {\n",
       "        vertical-align: middle;\n",
       "    }\n",
       "\n",
       "    .dataframe tbody tr th {\n",
       "        vertical-align: top;\n",
       "    }\n",
       "\n",
       "    .dataframe thead th {\n",
       "        text-align: right;\n",
       "    }\n",
       "</style>\n",
       "<table border=\"1\" class=\"dataframe\">\n",
       "  <thead>\n",
       "    <tr style=\"text-align: right;\">\n",
       "      <th></th>\n",
       "      <th>nom_artist</th>\n",
       "      <th>nombre_vendu</th>\n",
       "    </tr>\n",
       "  </thead>\n",
       "  <tbody>\n",
       "    <tr>\n",
       "      <th>0</th>\n",
       "      <td>Iron Maiden</td>\n",
       "      <td>140</td>\n",
       "    </tr>\n",
       "    <tr>\n",
       "      <th>1</th>\n",
       "      <td>U2</td>\n",
       "      <td>107</td>\n",
       "    </tr>\n",
       "    <tr>\n",
       "      <th>2</th>\n",
       "      <td>Metallica</td>\n",
       "      <td>91</td>\n",
       "    </tr>\n",
       "  </tbody>\n",
       "</table>\n",
       "</div>"
      ],
      "text/plain": [
       "    nom_artist  nombre_vendu\n",
       "0  Iron Maiden           140\n",
       "1           U2           107\n",
       "2    Metallica            91"
      ]
     },
     "execution_count": 741,
     "metadata": {},
     "output_type": "execute_result"
    }
   ],
   "source": [
    "df_25"
   ]
  },
  {
   "cell_type": "markdown",
   "id": "e11f9efc-73f4-4776-9f5c-e616db87d047",
   "metadata": {},
   "source": [
    "26. **Type de média le plus acheté** : Fournissez une requête affichant\n",
    " le type de média le plus acheté.\n"
   ]
  },
  {
   "cell_type": "code",
   "execution_count": 744,
   "id": "1158f660-6fcc-426e-be97-c7e4106c5112",
   "metadata": {},
   "outputs": [
    {
     "name": "stderr",
     "output_type": "stream",
     "text": [
      "C:\\Users\\mabou\\AppData\\Local\\Temp\\ipykernel_19944\\2916216487.py:1: UserWarning: pandas only supports SQLAlchemy connectable (engine/connection) or database string URI or sqlite3 DBAPI2 connection. Other DBAPI2 objects are not tested. Please consider using SQLAlchemy.\n",
      "  df_26 = pd.read_sql_query(\"SELECT mt.name AS nom_media, COUNT(il.quantity) AS nombre_vendu FROM Invoice_Line il JOIN Track t ON il.track_Id = t.track_Id JOIN Media_Type mt ON t.media_type_Id = mt.media_type_Id GROUP BY nom_media ORDER BY nombre_vendu DESC LIMIT 1\"\n"
     ]
    }
   ],
   "source": [
    "df_26 = pd.read_sql_query(\"SELECT mt.name AS nom_media, COUNT(il.quantity) AS nombre_vendu FROM Invoice_Line il JOIN Track t ON il.track_Id = t.track_Id JOIN Media_Type mt ON t.media_type_Id = mt.media_type_Id GROUP BY nom_media ORDER BY nombre_vendu DESC LIMIT 1\"\n",
    "                         , conexion)"
   ]
  },
  {
   "cell_type": "code",
   "execution_count": 746,
   "id": "e06a331c-d796-44cf-a154-02951182d14c",
   "metadata": {},
   "outputs": [
    {
     "data": {
      "text/html": [
       "<div>\n",
       "<style scoped>\n",
       "    .dataframe tbody tr th:only-of-type {\n",
       "        vertical-align: middle;\n",
       "    }\n",
       "\n",
       "    .dataframe tbody tr th {\n",
       "        vertical-align: top;\n",
       "    }\n",
       "\n",
       "    .dataframe thead th {\n",
       "        text-align: right;\n",
       "    }\n",
       "</style>\n",
       "<table border=\"1\" class=\"dataframe\">\n",
       "  <thead>\n",
       "    <tr style=\"text-align: right;\">\n",
       "      <th></th>\n",
       "      <th>nom_media</th>\n",
       "      <th>nombre_vendu</th>\n",
       "    </tr>\n",
       "  </thead>\n",
       "  <tbody>\n",
       "    <tr>\n",
       "      <th>0</th>\n",
       "      <td>MPEG audio file</td>\n",
       "      <td>1976</td>\n",
       "    </tr>\n",
       "  </tbody>\n",
       "</table>\n",
       "</div>"
      ],
      "text/plain": [
       "         nom_media  nombre_vendu\n",
       "0  MPEG audio file          1976"
      ]
     },
     "execution_count": 746,
     "metadata": {},
     "output_type": "execute_result"
    }
   ],
   "source": [
    "df_26"
   ]
  },
  {
   "cell_type": "markdown",
   "id": "a240c956-d48f-4129-9b69-a4d132ef7540",
   "metadata": {},
   "source": [
    "## Déconnexion à la base de données"
   ]
  },
  {
   "cell_type": "code",
   "execution_count": 749,
   "id": "ed7c6f8a-e796-4028-8a2f-0ef709e8a3dd",
   "metadata": {},
   "outputs": [],
   "source": [
    "conexion.close()"
   ]
  }
 ],
 "metadata": {
  "kernelspec": {
   "display_name": "Python 3 (ipykernel)",
   "language": "python",
   "name": "python3"
  },
  "language_info": {
   "codemirror_mode": {
    "name": "ipython",
    "version": 3
   },
   "file_extension": ".py",
   "mimetype": "text/x-python",
   "name": "python",
   "nbconvert_exporter": "python",
   "pygments_lexer": "ipython3",
   "version": "3.12.4"
  }
 },
 "nbformat": 4,
 "nbformat_minor": 5
}
